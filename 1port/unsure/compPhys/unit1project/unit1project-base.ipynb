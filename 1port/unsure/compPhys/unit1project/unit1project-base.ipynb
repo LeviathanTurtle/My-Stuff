{
 "cells": [
  {
   "cell_type": "markdown",
   "metadata": {
    "deletable": false,
    "editable": false,
    "nbgrader": {
     "cell_type": "markdown",
     "checksum": "c721732a49f4081f126b16eda2321e00",
     "grade": false,
     "grade_id": "cell-fceee550289e0f7b",
     "locked": true,
     "schema_version": 3,
     "solution": false,
     "task": false
    }
   },
   "source": [
    "<h1>PHY 2200 - Computational Physics</h1>\n",
    "<h2>Spring 2023</h2>"
   ]
  },
  {
   "cell_type": "markdown",
   "metadata": {
    "deletable": false,
    "editable": false,
    "nbgrader": {
     "cell_type": "markdown",
     "checksum": "9a0a5e314143a9fd8484ee28cc49c4c4",
     "grade": false,
     "grade_id": "cell-07e29967752a6ea0",
     "locked": true,
     "schema_version": 3,
     "solution": false,
     "task": false
    }
   },
   "source": [
    "<h2>Unit 1 Project - the van der Waals interaction</h2>"
   ]
  },
  {
   "cell_type": "code",
   "execution_count": null,
   "metadata": {
    "deletable": false,
    "editable": false,
    "nbgrader": {
     "cell_type": "code",
     "checksum": "b1fe727e2aa2062e28294a88020152a8",
     "grade": false,
     "grade_id": "cell-d7d67693f77c75c1",
     "locked": true,
     "schema_version": 3,
     "solution": false,
     "task": false
    }
   },
   "outputs": [],
   "source": [
    "import numpy as np\n",
    "from matplotlib import pyplot as plt"
   ]
  },
  {
   "cell_type": "markdown",
   "metadata": {
    "deletable": false,
    "editable": false,
    "nbgrader": {
     "cell_type": "markdown",
     "checksum": "a9824e151f874317bdfc39ac45ffe0b7",
     "grade": false,
     "grade_id": "cell-30d08bb43cc8d904",
     "locked": true,
     "schema_version": 3,
     "solution": false,
     "task": false
    }
   },
   "source": [
    "## Introduction and background\n",
    "\n",
    "The <b>van der Waals interaction</b>, also known as the London dispersion force, is an attractive interaction between neutral, non-polar molecules. The origin of this interaction is often described qualitatively in terms of <i>spontaneously-induced dipole moments,</i> which arise due to quantum mechanical fluctuations in the electronic charge distribution of each molecule. By modeling these quantum mechanical fluctuations as random fluctuations in the charge separation within molecules, we will uncover the correct power-law dependence of the van der Waals interaction can be obtained by considering the average electrostatic potential energy over a number of realizations. \n",
    "\n",
    "Consider an idealized model of two physical dipoles interacting along in one dimension, as shown below. Each dipole consists of equal amounts of a positive and negative charge separated by distance $\\delta r$.\n",
    "\n",
    "<p><p>\n",
    "    \n",
    "<center>\n",
    "    <img src=\"vdw.png\" width=500>\n",
    "</center>"
   ]
  },
  {
   "cell_type": "markdown",
   "metadata": {
    "deletable": false,
    "editable": false,
    "nbgrader": {
     "cell_type": "markdown",
     "checksum": "6d6cb53335fca3023b4b5ce27866f34e",
     "grade": false,
     "grade_id": "cell-4962fa47feec25d9",
     "locked": true,
     "schema_version": 3,
     "solution": false,
     "task": false
    }
   },
   "source": [
    "To fix ideas, let us take two identical neutral molecules. Focusing on a single molecule, we assume at some instant in time a charge separation can occur by charges $\\pm\\delta q$ being instantaneously displaced by some distance $\\delta r$. For simplicity, we take $\\delta q$ fixed but will imagine that $\\delta r$ fluctuates randomly in time. At the instant charges $\\pm\\delta q$ are separated by $\\delta r$, the electric field created by this molecule at the location of the second molecule—some distance $r$ away will be given (to leading order in $\\delta r/r$) by a simple dipole field.\n",
    "\n",
    "$$E(r) = \\frac{1}{4\\pi \\epsilon_{0}}\\frac{2p}{r^{3}}$$"
   ]
  },
  {
   "cell_type": "markdown",
   "metadata": {
    "deletable": false,
    "editable": false,
    "nbgrader": {
     "cell_type": "markdown",
     "checksum": "2fc084c680f89699fb8a01dbc99ab070",
     "grade": false,
     "grade_id": "cell-16c7ffaf53bf23e4",
     "locked": true,
     "schema_version": 3,
     "solution": false,
     "task": false
    }
   },
   "source": [
    "Here $p=\\delta r\\delta q$. Though the second molecule is overall charge-neutral, we allow for a finite polarizability $\\alpha$ so that an external electric field $E$ will induce a dipole moment $p’$ in the second molecule given by $p'=\\alpha E$. It is certainly true that electromagnetic fields propagate at finite speed—the speed of light in whatever medium separates the two points. We assume that the separation distance between the two molecules $r$ is sufficiently small so that this propagation can be approximated as instantaneous. That is, any instantaneous dipole fluctuation $p$ will result in an induced dipole moment in the second molecule, $p'\\propto p$ so that $\\langle pp'\\rangle \\propto \\langle p^{2}\\rangle >0$. Thus, the average potential energy will be nonzero for correlated dipole fluctuations. \n",
    "\n",
    "We assume each molecule exhibits an instantaneous dipole moment which varies randomly in time. At a particular instant, fixed, equal amounts of positive and negative charge $\\delta q$ ($\\delta q'$) will be separated by a total distance $\\delta r$ ($\\delta r'$) which is chosen randomly. Results will ultimately be averaged over a large number of realizations for fixed $r$. As soon as one molecule forms an instantaneous dipole, the second molecule will experience an induced dipole moment due to its finite polarizability $\\alpha$. We assume this induction takes place instantaneously. With two instantaneous dipoles consisting of four individual point charges, we evaluate the Coulomb interaction energy and store this value. After repeating this step, the results are averaged to obtain $\\langle U(r)\\rangle$. Though the model is based on classical physics, it is worth noting that quantum mechanical effects are incorporated by the use of averaging multiple realizations and in the polarizability, which can only be calculated  \n",
    "using quantum mechanics. Our model takes the details of the averaging procedure—the relative number of fluctuations for each molecule, the values of $\\delta q$, $\\delta q'$, and the distribution from which $\\delta r$ and $\\delta r'$ are chosen—and the value of the polarizability $α$ as inputs depending on the microscopic physics. \n",
    "\n",
    "It is known that the van der Waals potential decreases as $U(r) \\propto r^{-6}$."
   ]
  },
  {
   "cell_type": "markdown",
   "metadata": {
    "deletable": false,
    "editable": false,
    "nbgrader": {
     "cell_type": "markdown",
     "checksum": "f93a2b14302efbcb2d542f90e2a823f2",
     "grade": false,
     "grade_id": "cell-35c8d0bc9fb7412c",
     "locked": true,
     "schema_version": 3,
     "solution": false,
     "task": false
    }
   },
   "source": [
    "## Implementation \n",
    "\n",
    "The basic steps are:\n",
    "- Choose a dipole (molecule 1 or molecule 2)\n",
    "\n",
    "- Select a value of $\\delta r$ from some sort of probability distribution; we choose a uniform distribution over $\\delta r \\in (0,\\delta R)$ with $\\delta R$ fixed. Provided $\\delta R \\ll r$, the value of $\\delta R$ does not influence the main results\n",
    "- For some choice of fixed $\\delta q$, calculate the electric field at a distance $r$ from the center of molecule 1 given that molecule 1 undergoes charge separation:\n",
    "\n",
    "$$ |\\vec{E}(r)|= \\frac{\\delta q}{4\\pi \\epsilon_{0}} \\left[\\frac{1}{\\left(r-\\frac{\\delta r}{2}\\right)^2} -\\frac{1}{\\left(r+\\frac{\\delta r}{2}\\right)^2}\\right]$$\n",
    "\n",
    "- Calculate the dipole moment induced in the other dipole due to this field using \n",
    "\t$$\\vec{p}'=\\alpha \\vec{E}(r)$$\n",
    "\n",
    "- Model the induced dipole moment as a charge separation in which charges $\\pm \\delta q'$ are separated by a distance $\\delta \\vec{r}'= \\vec{p}'/\\delta q'$. \n",
    "\n",
    "- Calculate the instantaneous Coulomb interaction energy due to the four point charges\n",
    "\n",
    "\t$$U(r)=\\frac{\\alpha \\delta q\\delta q'}{4\\pi\\epsilon_0 r}\\left[\\frac{-1}{\\left(1+ \\frac{\\delta r + \\delta r'}{2r}\\right)} + \\frac{1}{\\left(1+ \\frac{\\delta r - \\delta r'}{2r}\\right) } + \\frac{1}{\\left(1- \\frac{\\delta r - \\delta r'}{2r}\\right)}  + \\frac{-1}{\\left(1- \\frac{\\delta r + \\delta r'}{2r}\\right) }\\right]$$\n",
    "\n",
    "- Repeat these steps many times for each value of $r$ and average to obtain $\\langle U(r)\\rangle$. Then demonstrate that $\\langle U(r)\\rangle \\propto r^{-6}$. That is, the van der Waals potential decays as the <i>sixth</i> power of separation.\n",
    "\n",
    "A template is provided below in which you will fill in critical parts of these steps.\n",
    "\n",
    "First, here are some contants and arrays that will be useful. Take a moment to understand what all these numbers are. \n",
    "\n",
    "- `a` represents the polarizability $\\alpha$. \n",
    "- `dR` is the maximum separation between the two charges $-\\delta q$ and $+\\delta q$.\n",
    "- `dq` is the amount of charge which is separated within each molecule, $\\delta q$.\n",
    "- The constant $\\frac{1}{4\\pi\\epsilon_{0}}$ is clunky. We will refer to this lump of stuff as `K`. It turns out setting `K=1` does not change the end result (why?). \n",
    "- We are trying to calculate $U(r)$ and average it. `N` refers to how many separations $r$ we use. `rmin` and `rmax` are the smallest and largest separations, respectively.\n",
    "- `U` is an array that will store the average values of $U(r)$ that we compute.\n",
    "- Recall that we are averaging $U(r)$ over some number of random dipole orientations within the molecules. `N2` is the number of such samples."
   ]
  },
  {
   "cell_type": "code",
   "execution_count": null,
   "metadata": {},
   "outputs": [],
   "source": [
    "a = 1.0   #polarizability of each molecules\n",
    "dR = 0.1  #scale of position fluctuations\n",
    "dq = 1.0  #amount of charge separated +/- dq\n",
    "\n",
    "K = 1.0   #constant in Coulomb's law, 1/(4 pi epsilon_0)\n",
    "\n",
    "N = 50    #number of positions to sample\n",
    "rmin = 2.0 #minimum r sampled\n",
    "rmax = 5.0 #maximum r sampled\n",
    "r = np.linspace(rmin,rmax,N) #sampled positions\n",
    "\n",
    "\n",
    "U = np.zeros(N)            #array to store U(r)\n",
    "\n",
    "N2 = 500 #number of fluctuations sampled per separation"
   ]
  },
  {
   "cell_type": "markdown",
   "metadata": {
    "deletable": false,
    "editable": false,
    "nbgrader": {
     "cell_type": "markdown",
     "checksum": "ced748411d51cd1e8d08f1ecc0eb7c40",
     "grade": false,
     "grade_id": "cell-7917fa2b865bd6f7",
     "locked": true,
     "schema_version": 3,
     "solution": false,
     "task": false
    }
   },
   "source": [
    "Let us break up the process into a number of small steps and define functions that will take care of these small tasks.\n",
    "\n",
    "First, write a function that returns a value of $\\delta r$ randomly drawn from the range $\\delta r \\in [-\\frac{1}{2}\\delta R,\\frac{1}{2}\\delta R]$:"
   ]
  },
  {
   "cell_type": "code",
   "execution_count": null,
   "metadata": {
    "deletable": false,
    "nbgrader": {
     "cell_type": "code",
     "checksum": "3d3fc83d9d5f0da715ca4c376f6b35b1",
     "grade": false,
     "grade_id": "cell-b12f59c8dc386c98",
     "locked": false,
     "schema_version": 3,
     "solution": true,
     "task": false
    }
   },
   "outputs": [],
   "source": [
    "def randomδr(δR):\n",
    "    # YOUR CODE HERE\n",
    "    raise NotImplementedError()"
   ]
  },
  {
   "cell_type": "code",
   "execution_count": null,
   "metadata": {
    "deletable": false,
    "editable": false,
    "nbgrader": {
     "cell_type": "code",
     "checksum": "7743f03878c4e2ce6cef2b8f690b3e52",
     "grade": true,
     "grade_id": "cell-3f8ff467e58bc3c1",
     "locked": true,
     "points": 10,
     "schema_version": 3,
     "solution": false,
     "task": false
    }
   },
   "outputs": [],
   "source": []
  },
  {
   "cell_type": "markdown",
   "metadata": {
    "deletable": false,
    "editable": false,
    "nbgrader": {
     "cell_type": "markdown",
     "checksum": "e9d947705b1a839e50b6e3e82837e0ba",
     "grade": false,
     "grade_id": "cell-3a6c0991194fa872",
     "locked": true,
     "schema_version": 3,
     "solution": false,
     "task": false
    }
   },
   "source": [
    "The fundamental task is to evaluate the potential energy $U(r)$ described above. Write a function to return the potential energy given $\\frac{1}{4\\pi \\epsilon_{0}}\\rightarrow $ `K`, $\\delta r\\rightarrow $ `δr`, $\\delta r'\\rightarrow $ `δr2`, $r\\rightarrow $ `r`, $\\delta q\\rightarrow $ `δq`, $\\delta q'\\rightarrow $ `δq2`."
   ]
  },
  {
   "cell_type": "code",
   "execution_count": null,
   "metadata": {
    "deletable": false,
    "nbgrader": {
     "cell_type": "code",
     "checksum": "66f12fe85a99b3de2fbd5700bd9f9eec",
     "grade": false,
     "grade_id": "cell-342413262b64e021",
     "locked": false,
     "schema_version": 3,
     "solution": true,
     "task": false
    }
   },
   "outputs": [],
   "source": [
    "def Uexact(K,r,δr,δr2,δq,δq2):\n",
    "    # YOUR CODE HERE\n",
    "    raise NotImplementedError()"
   ]
  },
  {
   "cell_type": "code",
   "execution_count": null,
   "metadata": {
    "deletable": false,
    "editable": false,
    "nbgrader": {
     "cell_type": "code",
     "checksum": "b4b4ae9e8ca343cbe9b5790be457c056",
     "grade": true,
     "grade_id": "cell-55689e1f0f05c5f4",
     "locked": true,
     "points": 10,
     "schema_version": 3,
     "solution": false,
     "task": false
    }
   },
   "outputs": [],
   "source": []
  },
  {
   "cell_type": "markdown",
   "metadata": {
    "deletable": false,
    "editable": false,
    "nbgrader": {
     "cell_type": "markdown",
     "checksum": "1e8b2e20f68573574b8cd4a717174809",
     "grade": false,
     "grade_id": "cell-272ac888d9c6378d",
     "locked": true,
     "schema_version": 3,
     "solution": false,
     "task": false
    }
   },
   "source": [
    "Now write a function to determine the dipole electric field created by one molecule (charge separation $\\pm\\delta q$, $\\delta r$) at a distance $r$,\n",
    "\n",
    "$$E(r) = \\frac{1}{4\\pi\\epsilon_{0}}\\frac{\\delta q}{\\left(r-\\frac{\\delta r}{2}\\right)^{2}} - \\frac{1}{4\\pi\\epsilon_{0}}\\frac{\\delta q}{\\left(r+\\frac{\\delta r}{2}\\right)^{2}}$$\n",
    "\n",
    "Here, $\\frac{1}{4\\pi \\epsilon_{0}}\\rightarrow $ `K`, $\\delta r\\rightarrow $ `δr`, $r\\rightarrow $ `r`, $\\delta q\\rightarrow $ `δq`."
   ]
  },
  {
   "cell_type": "code",
   "execution_count": null,
   "metadata": {
    "deletable": false,
    "nbgrader": {
     "cell_type": "code",
     "checksum": "023ef3bc8100afcc7743a393141d5a22",
     "grade": false,
     "grade_id": "cell-74991ef8182d5b41",
     "locked": false,
     "schema_version": 3,
     "solution": true,
     "task": false
    }
   },
   "outputs": [],
   "source": [
    "def dipoleE(K,r,δr,δq):\n",
    "    # YOUR CODE HERE\n",
    "    raise NotImplementedError()\n",
    "    return E"
   ]
  },
  {
   "cell_type": "code",
   "execution_count": null,
   "metadata": {
    "deletable": false,
    "editable": false,
    "nbgrader": {
     "cell_type": "code",
     "checksum": "f59b32c2d520bf113c9a610e8535c17c",
     "grade": true,
     "grade_id": "cell-590e336104445f51",
     "locked": true,
     "points": 10,
     "schema_version": 3,
     "solution": false,
     "task": false
    }
   },
   "outputs": [],
   "source": []
  },
  {
   "cell_type": "markdown",
   "metadata": {
    "deletable": false,
    "editable": false,
    "nbgrader": {
     "cell_type": "markdown",
     "checksum": "f5c65bd01a4e44b5768c27007bbd01c9",
     "grade": false,
     "grade_id": "cell-52ef67e414acb085",
     "locked": true,
     "schema_version": 3,
     "solution": false,
     "task": false
    }
   },
   "source": [
    "Now we arrive at the core of the program. The next task is to write a function which makes use of the previously defined functions and evaluates the energy for one realization of a dipole fluctuation. Since we want to model the case where <i>both</i> molecules are fluctuating, we need a further condition which will randomly select which molecule is exhibiting the dipole moment in each realization."
   ]
  },
  {
   "cell_type": "code",
   "execution_count": null,
   "metadata": {
    "deletable": false,
    "nbgrader": {
     "cell_type": "code",
     "checksum": "9dbf088bb0d9d869f1014d79a5882037",
     "grade": false,
     "grade_id": "cell-c010c265a14f0556",
     "locked": false,
     "schema_version": 3,
     "solution": true,
     "task": false
    }
   },
   "outputs": [],
   "source": [
    "def Usample(K,dR,dq,r,a):\n",
    "    p = np.random.rand()\n",
    "    if (p>0.5): #for this half, let molecule 1 exhibit a dipole moment dr dq\n",
    "        #set deltr = randomly chosen value in the range [-δR/2,δR/2]\n",
    "        # YOUR CODE HERE\n",
    "        raise NotImplementedError()\n",
    "        deltq = dq\n",
    "        \n",
    "        #calculate the electric field E1 at a distance r due to \n",
    "        #the field created by the dipole\n",
    "        # YOUR CODE HERE\n",
    "        raise NotImplementedError()\n",
    "        \n",
    "        #induced dipole moment in second dipole\n",
    "        p2 = a*E1 #note E1 is what you just computed\n",
    "        deltq2 = dq\n",
    "        deltr2 = p2/deltq2\n",
    "        \n",
    "        \n",
    "    else: #if p<=0.5 repeat the previous steps \n",
    "        #Hint: it's basically the same steps but deltr<->deltr2, \n",
    "        #deltq <-> deltq2, p1 <-> p2, etc.\n",
    "        # YOUR CODE HERE\n",
    "        raise NotImplementedError()\n",
    "        \n",
    "    #Now that all the deltas are fixed,\n",
    "    #evaluate Coulomb electrostatic potential energy Uo due to this configuration\n",
    "    # YOUR CODE HERE\n",
    "    raise NotImplementedError()\n",
    "        \n",
    "    return Uo\n",
    "        "
   ]
  },
  {
   "cell_type": "code",
   "execution_count": null,
   "metadata": {
    "deletable": false,
    "editable": false,
    "nbgrader": {
     "cell_type": "code",
     "checksum": "1535342dad7ddf6fd29f8fcb544497d2",
     "grade": true,
     "grade_id": "cell-41acc57e63dc4628",
     "locked": true,
     "points": 10,
     "schema_version": 3,
     "solution": false,
     "task": false
    }
   },
   "outputs": [],
   "source": []
  },
  {
   "cell_type": "markdown",
   "metadata": {
    "deletable": false,
    "editable": false,
    "nbgrader": {
     "cell_type": "markdown",
     "checksum": "6d3f55672a2797b952780311e3564bba",
     "grade": false,
     "grade_id": "cell-8030f40c0790d2c1",
     "locked": true,
     "schema_version": 3,
     "solution": false,
     "task": false
    }
   },
   "source": [
    "Now that the heavy lifting is done, we just need to make a big nested loop to sample a large number of realizations at each position."
   ]
  },
  {
   "cell_type": "code",
   "execution_count": null,
   "metadata": {
    "deletable": false,
    "nbgrader": {
     "cell_type": "code",
     "checksum": "f3c83c8c9c084ae31bac11c2007271b5",
     "grade": false,
     "grade_id": "cell-2829fcf55ade3f4e",
     "locked": false,
     "schema_version": 3,
     "solution": true,
     "task": false
    }
   },
   "outputs": [],
   "source": [
    "for i in range(0,N): #loop of values of r[i]\n",
    "    Usum = 0.0 #add up all values U(r[i]) we get from these samples\n",
    "    for j in range(0,N2):\n",
    "        #Update Uo = Uo + (...) where (...) is another sample of the energy at r[i]\n",
    "        \n",
    "        # YOUR CODE HERE\n",
    "        raise NotImplementedError()\n",
    "    \n",
    "    U[i] = Usum/N2"
   ]
  },
  {
   "cell_type": "markdown",
   "metadata": {
    "deletable": false,
    "editable": false,
    "nbgrader": {
     "cell_type": "markdown",
     "checksum": "c0c1087774c9957f3312479efa15fa3f",
     "grade": false,
     "grade_id": "cell-1125ed1d278c98a4",
     "locked": true,
     "schema_version": 3,
     "solution": false,
     "task": false
    }
   },
   "source": [
    "At this point, you should be able to make a plot of $\\langle U(r)\\rangle$ vs. $r$ and see some reasonably smooth trend. Since $\\langle U(r)\\rangle <0$ (or at least it <i>should</i> be), I would recommend plotting $-\\langle U(r)\\rangle$ vs. $r$.  \n",
    "\n",
    "Since you're expecting a power-law dependence, find the appropriate type of plot that depicts this behavior as <i>linear</i>. Note that since $\\langle U(r)\\rangle <0$, you'll want to work with $\\ln[-\\langle U(r)\\rangle]$ if you take the logarithm of that quantity."
   ]
  },
  {
   "cell_type": "code",
   "execution_count": null,
   "metadata": {
    "deletable": false,
    "nbgrader": {
     "cell_type": "code",
     "checksum": "a8efbc900393d9879faf6f58657fbab3",
     "grade": false,
     "grade_id": "cell-1f2d3b2baad9a403",
     "locked": false,
     "schema_version": 3,
     "solution": true,
     "task": false
    }
   },
   "outputs": [],
   "source": [
    "# YOUR CODE HERE\n"
   ]
  },
  {
   "cell_type": "markdown",
   "metadata": {
    "deletable": false,
    "editable": false,
    "nbgrader": {
     "cell_type": "markdown",
     "checksum": "edc723c562ae25d5d801d7473a456747",
     "grade": false,
     "grade_id": "cell-c5788d96579cb3a6",
     "locked": true,
     "schema_version": 3,
     "solution": false,
     "task": false
    }
   },
   "source": [
    "Once you have the axes scaled so that the trend looks (approximately) like a straight line, complete the following function by using `polyfit` to obtain and return the value of $n$ such that\n",
    "\n",
    "$$\\langle U(r)\\rangle \\approx - \\frac{C}{r^{n}}$$\n",
    "\n",
    "Is this consistent with what is known about the van der Waals attraction?"
   ]
  },
  {
   "cell_type": "code",
   "execution_count": null,
   "metadata": {
    "deletable": false,
    "nbgrader": {
     "cell_type": "code",
     "checksum": "e0960a18b6667cab1af0586e7afc58bd",
     "grade": false,
     "grade_id": "cell-3ee9c4e744eba289",
     "locked": false,
     "schema_version": 3,
     "solution": true,
     "task": false
    }
   },
   "outputs": [],
   "source": [
    "def exponent(r,U):\n",
    "    # YOUR CODE HERE\n",
    "    raise NotImplementedError()"
   ]
  },
  {
   "cell_type": "code",
   "execution_count": null,
   "metadata": {
    "deletable": false,
    "editable": false,
    "nbgrader": {
     "cell_type": "code",
     "checksum": "073f0c851da67ca0cc2f6eb130429a1c",
     "grade": true,
     "grade_id": "cell-fb336e7d0fe7fea6",
     "locked": true,
     "points": 10,
     "schema_version": 3,
     "solution": false,
     "task": false
    }
   },
   "outputs": [],
   "source": []
  },
  {
   "cell_type": "markdown",
   "metadata": {
    "deletable": false,
    "editable": false,
    "nbgrader": {
     "cell_type": "markdown",
     "checksum": "8fcb307efddbdd77ee13143ace2439bb",
     "grade": false,
     "grade_id": "cell-841ddd7f0e842a11",
     "locked": true,
     "schema_version": 3,
     "solution": false,
     "task": false
    }
   },
   "source": [
    "Use Markdown to explain in words what you have uncovered about the van der Waals interaction. Describing the steps (not explaining the program, but the <i>overall process</i>) and note what value you obtained for the power-law exponent.\n",
    "\n",
    "Questions to consider:\n",
    "\n",
    "- Does your result agree with theory?\n",
    "- Do you have confidence in your result? (\"It's close...\" is not an acceptable answer)\n",
    "- How does the result change if you vary things like `N`, `N2`, `rmin`, `rmax`. Should/does any of those make a significant difference compared to the others?"
   ]
  },
  {
   "cell_type": "markdown",
   "metadata": {
    "deletable": false,
    "nbgrader": {
     "cell_type": "markdown",
     "checksum": "266cd4a09a3c959b171ee6b1d0565c78",
     "grade": true,
     "grade_id": "cell-5b83ed349e0b9291",
     "locked": false,
     "points": 20,
     "schema_version": 3,
     "solution": true,
     "task": false
    }
   },
   "source": [
    "YOUR ANSWER HERE"
   ]
  }
 ],
 "metadata": {
  "kernelspec": {
   "display_name": "Python 3 (ipykernel)",
   "language": "python",
   "name": "python3"
  },
  "language_info": {
   "codemirror_mode": {
    "name": "ipython",
    "version": 3
   },
   "file_extension": ".py",
   "mimetype": "text/x-python",
   "name": "python",
   "nbconvert_exporter": "python",
   "pygments_lexer": "ipython3",
   "version": "3.9.13"
  }
 },
 "nbformat": 4,
 "nbformat_minor": 4
}
