{
 "cells": [
  {
   "cell_type": "markdown",
   "metadata": {
    "deletable": false,
    "editable": false,
    "nbgrader": {
     "cell_type": "markdown",
     "checksum": "dd5c31e10343542e309fe85733fb4e60",
     "grade": false,
     "grade_id": "cell-6025815189583285",
     "locked": true,
     "schema_version": 3,
     "solution": false,
     "task": false
    }
   },
   "source": [
    "<h1>PHY 2200 - Computational Physics</h1>\n",
    "<h2>Spring 2023</h2>"
   ]
  },
  {
   "cell_type": "markdown",
   "metadata": {
    "deletable": false,
    "editable": false,
    "nbgrader": {
     "cell_type": "markdown",
     "checksum": "56a3d486cc50be67b34e102a3bfe32f7",
     "grade": false,
     "grade_id": "cell-12fac5b8e6b29398",
     "locked": true,
     "schema_version": 3,
     "solution": false,
     "task": false
    }
   },
   "source": [
    "<h2>Complexity and emergence</h2>"
   ]
  },
  {
   "cell_type": "code",
   "execution_count": 1,
   "metadata": {
    "deletable": false,
    "editable": false,
    "nbgrader": {
     "cell_type": "code",
     "checksum": "1ddcc3a0f982169b51c14ea27b501ceb",
     "grade": false,
     "grade_id": "cell-f4e77889735dd792",
     "locked": true,
     "schema_version": 3,
     "solution": false,
     "task": false
    }
   },
   "outputs": [],
   "source": [
    "import numpy as np\n",
    "from matplotlib import pyplot as plt"
   ]
  },
  {
   "cell_type": "markdown",
   "metadata": {
    "deletable": false,
    "editable": false,
    "nbgrader": {
     "cell_type": "markdown",
     "checksum": "f6df478759f70fb9dc37f2e09bc75c83",
     "grade": false,
     "grade_id": "cell-9c6072f7a48794cf",
     "locked": true,
     "schema_version": 3,
     "solution": false,
     "task": false
    }
   },
   "source": [
    "After a splash of exploring chaos and nonlinear dynamics, we now turn attention to the concept of <b>emergent behavior</b>, or how interesting behavior can emerge at large scales which doesn't obviously follow from the underlying, \"microscopic\" laws governing the system.\n",
    "\n",
    "As an introduction to this topic, let us consider <b>Conway's game of life</b>. The \"game\" is actually a simulation of a <b>cellular automaton</b> played on a two-dimensional grid in which each cell can take one of two values, 0 or 1 (traditionally, represented by black and white, respectively). \n",
    "\n",
    "<img src=\"conway1.png\" width=400>\n",
    "\n",
    "Each cell can be \"alive\" (white) or \"dead\" (black). Given some initial configuration, such as the state shown above, the grid is updated at each successive time step via the following rules:\n",
    "\n",
    "- Each live cell with fewer than two live neighbors dies (due to \"loneliness\")\n",
    "- Each live cell with more than three live neighbors dies (due to \"overcrowding\")\n",
    "- Each live cell with exactly two or three live neighbors lives\n",
    "- Each dead cell with exactly three live neighbors becomes live (\"reproduction\" or \"zombies\" depending on how you look at it)\n",
    "\n",
    "The term \"neighbors\" refers to <i>eight</i> nearest-neighboring cells on the grid as shown below for the generic cell index $(i,j)$. For any <i>interior</i> cell, there are the right/left neighbors $(i,j\\pm 1)$, above/below neighbors $(i\\pm1,j)$, and the four corners $(i+1,j\\pm1)$, $(i-1,j\\pm1)$.\n",
    "\n",
    "<img src=\"conwaygrid.png\" width=400>\n",
    "\n",
    "Neighbors become trickier to define along the edges, or boundaries of the system. For now, let's use <b>periodic boundary conditions</b> (think \"Pac-Man boundaries) which connect the upper and lower sides (as well as the right and left sides).\n",
    "\n",
    "<img src=\"torus.png\" width=400>\n",
    "\n",
    "That is, going beyond the top of the system carries you to the bottom, and going to the right ultimately brings you back to the left. Topologically, this makes the system's geometry equivalent to that of a <b>torus</b>.\n",
    "\n",
    "As a first step toward simulating this system, let's define a function `nn(i,j,N)` which computes the indices used to find the eight nearest neighbors. The core idea is to look right ($j+1$), left ($j-1$), up ($i-1$), and down ($i+1$). We're using the matrix convention for indices where $i$ labels the row and $j$ labels the column. If any of those fall outside the range $(0,N-1)$, we employ the periodic boundary conditions. In short, $-1$ gets mapped to $N-1$, and $N$ gets mapped to $0$."
   ]
  },
  {
   "cell_type": "code",
   "execution_count": 2,
   "metadata": {
    "deletable": false,
    "editable": false,
    "nbgrader": {
     "cell_type": "code",
     "checksum": "9454746ddf3d76cc933f190a5cb20d4d",
     "grade": false,
     "grade_id": "cell-4e49934aaab82b4e",
     "locked": true,
     "schema_version": 3,
     "solution": false,
     "task": false
    }
   },
   "outputs": [],
   "source": [
    "def nn(i,j,N):\n",
    "    if i==0:\n",
    "        il = N-1\n",
    "        ir = 1    \n",
    "    elif i==N-1:\n",
    "        il = N-2\n",
    "        ir = 0\n",
    "    else:\n",
    "        il = i-1\n",
    "        ir = i+1\n",
    "        \n",
    "    if j==0:\n",
    "        jl = N-1\n",
    "        jr = 1    \n",
    "    elif j==N-1:\n",
    "        jl = N-2\n",
    "        jr = 0\n",
    "    else:\n",
    "        jl = j-1\n",
    "        jr = j+1 \n",
    "    \n",
    "    return [il,ir,jl,jr]        "
   ]
  },
  {
   "cell_type": "markdown",
   "metadata": {
    "deletable": false,
    "editable": false,
    "nbgrader": {
     "cell_type": "markdown",
     "checksum": "b31a90d036d135dcb1d555f72841dcef",
     "grade": false,
     "grade_id": "cell-8cc3c2c25b13a64a",
     "locked": true,
     "schema_version": 3,
     "solution": false,
     "task": false
    }
   },
   "source": [
    "The process of evolving the system amounts to scrolling through all grid points $(i,j)$ (two loops), computing the <i>sum</i> of neighboring values, and updating the cell according to the rules. To aid in this process, let us write a function that takes the system array and executes these steps, returning an updated system array.\n",
    "\n",
    "Note that we can't overwrite the system array <i>while</i> updating. We need to know all of the old values while we compute the new ones, so it's best to start with a blank array that we fill in according to the rules applied to the old values."
   ]
  },
  {
   "cell_type": "code",
   "execution_count": 3,
   "metadata": {
    "deletable": false,
    "editable": false,
    "nbgrader": {
     "cell_type": "code",
     "checksum": "59aa2eab1a5d091f9e229a2859c05a2c",
     "grade": false,
     "grade_id": "cell-8815c88468e5d4c8",
     "locked": true,
     "schema_version": 3,
     "solution": false,
     "task": false
    }
   },
   "outputs": [],
   "source": [
    "def conwaystep(x):\n",
    "    N = len(x) #get system size (assumed square)\n",
    "    xnew = np.zeros((N,N)) #array to store updated values\n",
    "    \n",
    "    for i in range(0,N):\n",
    "        for j in range(0,N):\n",
    "            neighbors = nn(i,j,N)\n",
    "            (il,ir,jl,jr) = neighbors\n",
    "            nsum = x[i,jl] + x[i,jr] + x[il,j] + x[ir,j]\n",
    "            nsum = nsum + x[il,jl] + x[il,jr] + x[ir,jl] + x[ir,jr]\n",
    "            \n",
    "            if x[i,j]==1:\n",
    "                if nsum==2 or nsum==3:\n",
    "                    xnew[i,j] = 1\n",
    "                \n",
    "            else:\n",
    "                if nsum==3:\n",
    "                    xnew[i,j] = 1\n",
    "                    \n",
    "    return xnew"
   ]
  },
  {
   "cell_type": "markdown",
   "metadata": {
    "deletable": false,
    "editable": false,
    "nbgrader": {
     "cell_type": "markdown",
     "checksum": "0ce7107345c31365a39b06c60d5bf5b4",
     "grade": false,
     "grade_id": "cell-5fe093e31dc7d3d9",
     "locked": true,
     "schema_version": 3,
     "solution": false,
     "task": false
    }
   },
   "source": [
    "Since we initialize an array of zeros, we just have to test for which cells will be alive in the next step.\n",
    "\n",
    "This is a somewhat more complicated system than those we have studied so far which yielded plots or static images. At each time step, we will have a two-dimensional array describing the state of the system. The easiest way to visualize the system's evolution is to make an animation showing how the system changes in time. \n",
    "\n",
    "Our strategy will be to do all the computation first, storing each system time step as a slice of a <b>three-dimensional array</b>. This is terribly wasteful, storing all of the information for all times. But it's a simple method that works fine for small systems over a reasonably small number of time steps.\n",
    "\n",
    "The basic idea is to initialize the first \"slice\" of the three-dimensional array to our initial configuration. To begin, we take a random sampling of zeros and ones (dead and alive). At each time step, we update the next slice using our function `conwaystep(x)`. That's pretty much it."
   ]
  },
  {
   "cell_type": "code",
   "execution_count": 4,
   "metadata": {
    "deletable": false,
    "editable": false,
    "nbgrader": {
     "cell_type": "code",
     "checksum": "5ca7b756643644d0742adb73f4318ed4",
     "grade": false,
     "grade_id": "cell-e0c95db6eb11f7fe",
     "locked": true,
     "schema_version": 3,
     "solution": false,
     "task": false
    }
   },
   "outputs": [],
   "source": [
    "N = 50\n",
    "Nt = 100\n",
    "x = np.zeros((N,N,Nt))\n",
    "\n",
    "x[:,:,0] = np.random.randint(0,2,(N,N))\n",
    "for n in range(0,Nt-1):\n",
    "    x[:,:,n+1] = conwaystep(x[:,:,n])"
   ]
  },
  {
   "cell_type": "markdown",
   "metadata": {
    "deletable": false,
    "editable": false,
    "nbgrader": {
     "cell_type": "markdown",
     "checksum": "88f19e4d34064b691f1eafdf19f9c1f6",
     "grade": false,
     "grade_id": "cell-ab4042fc268264e5",
     "locked": true,
     "schema_version": 3,
     "solution": false,
     "task": false
    }
   },
   "source": [
    "Animations can be... tricky. Here's an incredibly simple method Larry Engelhardt (Francis Marion University) showed me some time ago. First, we import the following:"
   ]
  },
  {
   "cell_type": "code",
   "execution_count": 5,
   "metadata": {
    "deletable": false,
    "editable": false,
    "nbgrader": {
     "cell_type": "code",
     "checksum": "333cbc2593ccf20a4d2fb5d5c82b33fd",
     "grade": false,
     "grade_id": "cell-a75e46d5deda5123",
     "locked": true,
     "schema_version": 3,
     "solution": false,
     "task": false
    }
   },
   "outputs": [],
   "source": [
    "from time import sleep # To set the animation frame rate \n",
    "from IPython.display import clear_output # To redraw"
   ]
  },
  {
   "cell_type": "markdown",
   "metadata": {
    "deletable": false,
    "editable": false,
    "nbgrader": {
     "cell_type": "markdown",
     "checksum": "721796cc5a894f5b5334fa5a080774fb",
     "grade": false,
     "grade_id": "cell-93c5d5efa5f7a3c9",
     "locked": true,
     "schema_version": 3,
     "solution": false,
     "task": false
    }
   },
   "source": [
    "Next, loop over all the slices (time steps) and depict each slice using `plt.imshow()`. You can adjust the speed of the animation by changing the argument of `sleep()`. Run the following, and you should see an animation showing the evolution of your initial state."
   ]
  },
  {
   "cell_type": "code",
   "execution_count": 6,
   "metadata": {
    "deletable": false,
    "editable": false,
    "nbgrader": {
     "cell_type": "code",
     "checksum": "a2a1e9701bfe6630070da282f4ae6d6c",
     "grade": false,
     "grade_id": "cell-296ed298b811b448",
     "locked": true,
     "schema_version": 3,
     "solution": false,
     "task": false
    }
   },
   "outputs": [
    {
     "data": {
      "image/png": "[encoded data removed]",
      "text/plain": [
       "<Figure size 640x480 with 1 Axes>"
      ]
     },
     "metadata": {},
     "output_type": "display_data"
    }
   ],
   "source": [
    "for n in range(0,Nt):\n",
    "    sleep(0.01) # Sets the maximum animation speed\n",
    "    plt.imshow(x[:,:,n],cmap='gray')\n",
    "    clear_output(wait=True)\n",
    "    plt.show()"
   ]
  },
  {
   "cell_type": "markdown",
   "metadata": {
    "deletable": false,
    "editable": false,
    "nbgrader": {
     "cell_type": "markdown",
     "checksum": "6ebaf9504a4ba31c19e5c2ad194ea988",
     "grade": false,
     "grade_id": "cell-befb0ba36cc7b9ba",
     "locked": true,
     "schema_version": 3,
     "solution": false,
     "task": false
    }
   },
   "source": [
    "You might want to increase the value of `Nt` to let the system evolve for a longer time. Keep in mind that with random initial conditions, you'll see something different each time. If you run this a few times, you should see some fairly complicated behavior. Some \"structures\" will undergo elaborate evolution before fizzling out. But some structures are actually long-lived. Can you find any \"gliders\" that translate themselves along diagonal trajectories?\n",
    "\n",
    "It might be difficult to spot some of these interesting features. Using a (roughly) equal mix of alive and dead cells is somewhat crowded, and the periodic boundary conditions add to this. One of the simplest interesting objects is the basic glider. Below is a smaller system in which a particular shape is initialized."
   ]
  },
  {
   "cell_type": "code",
   "execution_count": 7,
   "metadata": {
    "deletable": false,
    "editable": false,
    "nbgrader": {
     "cell_type": "code",
     "checksum": "2add9cb0e0c724c21709502f28107d56",
     "grade": false,
     "grade_id": "cell-d0362edf6d1793b5",
     "locked": true,
     "schema_version": 3,
     "solution": false,
     "task": false
    }
   },
   "outputs": [
    {
     "data": {
      "image/png": "[encoded data removed]",
      "text/plain": [
       "<Figure size 640x480 with 1 Axes>"
      ]
     },
     "metadata": {},
     "output_type": "display_data"
    }
   ],
   "source": [
    "N = 10\n",
    "Nt = 100\n",
    "x = np.zeros((N,N,Nt))\n",
    "\n",
    "x[:,:,0] = np.zeros((N,N))\n",
    "\n",
    "### pattern for simple glider\n",
    "x[2,6,0] = 1\n",
    "x[3,7,0] = 1\n",
    "x[3,8,0] = 1\n",
    "x[4,6,0] = 1\n",
    "x[4,7,0] = 1\n",
    "\n",
    "plt.imshow(x[:,:,0],cmap='gray')\n",
    "plt.show()"
   ]
  },
  {
   "cell_type": "markdown",
   "metadata": {
    "deletable": false,
    "editable": false,
    "nbgrader": {
     "cell_type": "markdown",
     "checksum": "4cd8e6088dd0789637f218d9046d1283",
     "grade": false,
     "grade_id": "cell-c65742b2091fd5ef",
     "locked": true,
     "schema_version": 3,
     "solution": false,
     "task": false
    }
   },
   "source": [
    "Through a sequence of four steps, this shape translates itself down and to the right. You can watch the evolution of it by using the `conwaystep(x)` function."
   ]
  },
  {
   "cell_type": "code",
   "execution_count": 8,
   "metadata": {
    "deletable": false,
    "editable": false,
    "nbgrader": {
     "cell_type": "code",
     "checksum": "a34b104fd58224c6a283046773743fa6",
     "grade": false,
     "grade_id": "cell-ffec23ad9e1bc286",
     "locked": true,
     "schema_version": 3,
     "solution": false,
     "task": false
    }
   },
   "outputs": [
    {
     "data": {
      "image/png": "[encoded data removed]",
      "text/plain": [
       "<Figure size 640x480 with 1 Axes>"
      ]
     },
     "metadata": {},
     "output_type": "display_data"
    }
   ],
   "source": [
    "for n in range(0,Nt-1):\n",
    "    x[:,:,n+1] = conwaystep(x[:,:,n])\n",
    "    \n",
    "    \n",
    "for n in range(0,Nt):\n",
    "    sleep(0.1) # Sets the maximum animation speed\n",
    "    plt.imshow(x[:,:,n],cmap='gray')\n",
    "    clear_output(wait=True)\n",
    "    plt.show()"
   ]
  },
  {
   "cell_type": "markdown",
   "metadata": {
    "deletable": false,
    "editable": false,
    "nbgrader": {
     "cell_type": "markdown",
     "checksum": "b669c8e4225454ce1053ec70e08d44d7",
     "grade": false,
     "grade_id": "cell-7fc802660ca40699",
     "locked": true,
     "schema_version": 3,
     "solution": false,
     "task": false
    }
   },
   "source": [
    "An unbelievable variety of of [complicated structures](https://conwaylife.appspot.com/library/) that have been discovered with this toy Universe. It's especially amazing that Conway used to simulate this in the early 1970's using the board-game [Go](https://en.wikipedia.org/wiki/Go_(game)) and manually computing each step in the evolution. Below is an example of a so-called <b>glider gun</b>, which creates a stream of gliders.\n",
    "\n",
    "You might want to increase the number of time steps. Be warned, with periodic boundary conditions, the gliders \"circle back.\" Depending on the dimensions and location of the glider gun, they might collide with the gun and wreck the whole process. But we'll deal with boundaries shortly. \n",
    "\n",
    "The parameters `ni` and `nj` serve to shift the basic shape from the upper-left corner by some vertical and horizontal distance, respectively."
   ]
  },
  {
   "cell_type": "code",
   "execution_count": 9,
   "metadata": {
    "deletable": false,
    "editable": false,
    "nbgrader": {
     "cell_type": "code",
     "checksum": "52d5d1d89ea3e8b1b33f7f16e52d7198",
     "grade": false,
     "grade_id": "cell-db280817fec7c74b",
     "locked": true,
     "schema_version": 3,
     "solution": false,
     "task": false
    }
   },
   "outputs": [
    {
     "data": {
      "image/png": "[encoded data removed]",
      "text/plain": [
       "<Figure size 640x480 with 1 Axes>"
      ]
     },
     "metadata": {},
     "output_type": "display_data"
    }
   ],
   "source": [
    "N = 100\n",
    "Nt = 300\n",
    "x = np.zeros((N,N,Nt))\n",
    "\n",
    "x[:,:,0] = np.zeros((N,N))\n",
    "ni = 50\n",
    "nj = 50\n",
    "### pattern for Simkin glider gun\n",
    "x[1+ni,1+nj,0] = 1\n",
    "x[2+ni,1+nj,0] = 1\n",
    "x[1+ni,2+nj,0] = 1\n",
    "x[2+ni,2+nj,0] = 1\n",
    "\n",
    "x[1+ni,8+nj,0] = 1\n",
    "x[2+ni,8+nj,0] = 1\n",
    "x[1+ni,9+nj,0] = 1\n",
    "x[2+ni,9+nj,0] = 1\n",
    "\n",
    "x[4+ni,5+nj,0] = 1\n",
    "x[5+ni,5+nj,0] = 1\n",
    "x[4+ni,6+nj,0] = 1\n",
    "x[5+ni,6+nj,0] = 1\n",
    "\n",
    "x[10+ni,23+nj,0] = 1\n",
    "x[10+ni,24+nj,0] = 1\n",
    "x[10+ni,26+nj,0] = 1\n",
    "x[10+ni,27+nj,0] = 1\n",
    "\n",
    "x[11+ni,22+nj,0] = 1\n",
    "x[11+ni,28+nj,0] = 1\n",
    "\n",
    "x[12+ni,22+nj,0] = 1\n",
    "x[12+ni,29+nj,0] = 1\n",
    "x[12+ni,32+nj,0] = 1\n",
    "x[12+ni,33+nj,0] = 1\n",
    "\n",
    "x[13+ni,22+nj,0] = 1\n",
    "x[13+ni,23+nj,0] = 1\n",
    "x[13+ni,24+nj,0] = 1\n",
    "x[13+ni,28+nj,0] = 1\n",
    "x[13+ni,32+nj,0] = 1\n",
    "x[13+ni,33+nj,0] = 1\n",
    "\n",
    "x[14+ni,27+nj,0] = 1\n",
    "\n",
    "x[18+ni,21+nj,0] = 1\n",
    "x[18+ni,22+nj,0] = 1\n",
    "\n",
    "x[19+ni,21+nj,0] = 1\n",
    "\n",
    "x[20+ni,22+nj,0] = 1\n",
    "x[20+ni,23+nj,0] = 1\n",
    "x[20+ni,24+nj,0] = 1\n",
    "\n",
    "x[21+ni,24+nj,0] = 1\n",
    "\n",
    "\n",
    "plt.imshow(x[:,:,0],cmap='gray')\n",
    "plt.show()"
   ]
  },
  {
   "cell_type": "code",
   "execution_count": 10,
   "metadata": {
    "deletable": false,
    "editable": false,
    "nbgrader": {
     "cell_type": "code",
     "checksum": "97029a0f7207baa08ccfc4d45a282375",
     "grade": false,
     "grade_id": "cell-125700b32ddd979c",
     "locked": true,
     "schema_version": 3,
     "solution": false,
     "task": false
    }
   },
   "outputs": [
    {
     "data": {
      "image/png": "[encoded data removed]",
      "text/plain": [
       "<Figure size 640x480 with 1 Axes>"
      ]
     },
     "metadata": {},
     "output_type": "display_data"
    }
   ],
   "source": [
    "for n in range(0,Nt-1):\n",
    "    x[:,:,n+1] = conwaystep(x[:,:,n])\n",
    "    \n",
    "    \n",
    "for n in range(0,Nt):\n",
    "    sleep(0.01) # Sets the maximum animation speed\n",
    "    plt.imshow(x[:,:,n],cmap='gray')\n",
    "    clear_output(wait=True)\n",
    "    plt.show()"
   ]
  },
  {
   "cell_type": "markdown",
   "metadata": {
    "deletable": false,
    "editable": false,
    "nbgrader": {
     "cell_type": "markdown",
     "checksum": "6a66c0e27c75e973565c58079af2b5b6",
     "grade": false,
     "grade_id": "cell-8e61715c270cdb15",
     "locked": true,
     "schema_version": 3,
     "solution": false,
     "task": false
    }
   },
   "source": [
    "Conway's game of life is just one type of cellular automaton (CA). It's interesting because it's a striking example of how incredibly complicated behavior emerges from incredibly simple rules. Who could look at the rules and predict the existence of a glider gun? Or [this](https://oimo.io/works/life/)?\n",
    "\n",
    "In the exercises below, you'll explore some other aspects of Conway's game of life and some other types of cellular automata. Aside from being instructive with respect to the concept of emergence, [some](https://writings.stephenwolfram.com/2020/04/finally-we-may-have-a-path-to-the-fundamental-theory-of-physics-and-its-beautiful/) even think the Universe might be some kind of CA (though admittedly a bit more complex than Conway's game of life)."
   ]
  },
  {
   "cell_type": "markdown",
   "metadata": {
    "deletable": false,
    "editable": false,
    "nbgrader": {
     "cell_type": "markdown",
     "checksum": "8255c4589e841d9b78e1ea42c0dbe603",
     "grade": false,
     "grade_id": "cell-1e70bc216ab3c8c4",
     "locked": true,
     "schema_version": 3,
     "solution": false,
     "task": false
    }
   },
   "source": [
    "## Exercises"
   ]
  },
  {
   "cell_type": "markdown",
   "metadata": {
    "deletable": false,
    "editable": false,
    "nbgrader": {
     "cell_type": "markdown",
     "checksum": "c306a1deb4d406f4509a194489930dba",
     "grade": false,
     "grade_id": "cell-eafbfcf385eacd42",
     "locked": true,
     "schema_version": 3,
     "solution": false,
     "task": false
    }
   },
   "source": [
    "### 1. Boundary conditions"
   ]
  },
  {
   "cell_type": "markdown",
   "metadata": {
    "deletable": false,
    "editable": false,
    "nbgrader": {
     "cell_type": "markdown",
     "checksum": "1979323606be32aaf3966b13c2caaf87",
     "grade": false,
     "grade_id": "cell-1d5523f610ed6195",
     "locked": true,
     "schema_version": 3,
     "solution": false,
     "task": false
    }
   },
   "source": [
    "Periodic boundary conditions are often the simplest to implement, but they're not always the most useful. Suppose we'd like to consider an infinite system but we only care about what happens on some finite domain (say $100\\times 100$).\n",
    "\n",
    "It's helpful to rethink how we approach getting the boundary index values entirely. We'll have to modify both the `nn()` and `conwaystep()` functions to function with a variable number of nearest-neighbors. For example, an interior point will still have eight neighbors. But, for example, a point on the top boundary ($i=0$) will only have five since all cells with $i-1$ will be assumed to take the value zero.\n",
    "\n",
    "Complete the function `nn2(i,j,N)` to return all eight neighboring index values as a list, regardless of whether any indices fall outside of the range $(0,N-1)$. We'll fix that in the next function. For example, if the neighbors were located at $(1,2)$, $(1,3)$, $(1,4)$, you would assign\n",
    "\n",
    "```neighbors = [[1,2],[1,3],[1,3]]```"
   ]
  },
  {
   "cell_type": "code",
   "execution_count": 11,
   "metadata": {
    "deletable": false,
    "nbgrader": {
     "cell_type": "code",
     "checksum": "4cc3858dcb9ea80ee9bd3c3c53612459",
     "grade": false,
     "grade_id": "cell-860276ec3a792360",
     "locked": false,
     "schema_version": 3,
     "solution": true,
     "task": false
    }
   },
   "outputs": [],
   "source": [
    "def nn2(i,j,N):\n",
    "    il = i-1\n",
    "    ir = i+1\n",
    "    \n",
    "    jl = j-1\n",
    "    jr = j+1\n",
    "\n",
    "    return [[il,jl],[il,j],[il,jr],[i,jl],[i,jr],[ir,jl],[ir,j],[ir,jr]]"
   ]
  },
  {
   "cell_type": "code",
   "execution_count": 12,
   "metadata": {
    "deletable": false,
    "editable": false,
    "nbgrader": {
     "cell_type": "code",
     "checksum": "3b03e4b66ad29394cf36bba786b9a25f",
     "grade": true,
     "grade_id": "cell-d10766717834ecb9",
     "locked": true,
     "points": 10,
     "schema_version": 3,
     "solution": false,
     "task": false
    }
   },
   "outputs": [],
   "source": [
    "'''case1'''\n",
    "assert np.isclose(nn2(0,1,10),[[-1, 0], [-1, 1], [-1, 2], [0, 0], [0, 2], [1, 0], [1, 1], [1, 2]],atol=1e-9).all()\n",
    "'''case2'''\n",
    "assert np.isclose(nn2(0,9,10),[[-1, 8], [-1, 9], [-1, 10], [0, 8], [0, 10], [1, 8], [1, 9], [1, 10]],atol=1e-9).all()\n"
   ]
  },
  {
   "cell_type": "markdown",
   "metadata": {
    "deletable": false,
    "editable": false,
    "nbgrader": {
     "cell_type": "markdown",
     "checksum": "f7250f3cb638efde893e8b2e36c63d36",
     "grade": false,
     "grade_id": "cell-e78dd7cffc55df7b",
     "locked": true,
     "schema_version": 3,
     "solution": false,
     "task": false
    }
   },
   "source": [
    "Boundary conditions are actually a little tricky with these models. It's not easy to make so-called \"open\" boundary conditions where gliders will just slide out of the domain smoothly. We're going to cheat here and just assume that any cell outside of the domain has a value of zero.\n",
    "\n",
    "Complete the function below. The variable `neighbors` stores the list of (possible) nearest neighbor indices. For points along boundaries, <i>some</i> of these won't be valid (containing $-1$ or $N$). Make a loop that runs over all eight elements in this list. Use an `if` statement to check that the minimum of `neighbors[k]` is greater than `-1` (assuming a loop counter `k`) and that the maximum is less than `N`. If both of those (use an `and` statement) are true, you can grab the `i` and `j` indices as\n",
    "\n",
    "```io = neighbors[k][0]```\n",
    "\n",
    "```jo = neighbors[k][1]```\n",
    "\n",
    "For any of these that exist, you can keep a running total `nsum` and let `nsum = nsum + x[io,jo]`."
   ]
  },
  {
   "cell_type": "code",
   "execution_count": 13,
   "metadata": {
    "deletable": false,
    "nbgrader": {
     "cell_type": "code",
     "checksum": "154d56b3968d0d0b23be968b15f71d54",
     "grade": false,
     "grade_id": "cell-a8c6b02659418ed1",
     "locked": false,
     "schema_version": 3,
     "solution": true,
     "task": false
    }
   },
   "outputs": [],
   "source": [
    "def conwaystep2(x):\n",
    "    N = len(x) #get system size (assumed square)\n",
    "    xnew = np.zeros((N,N)) #array to store updated values\n",
    "    \n",
    "    for i in range(0,N):\n",
    "        for j in range(0,N):\n",
    "            neighbors = nn2(i,j,N)\n",
    "            nsum = sum([x[io,jo] for io, jo in neighbors if 0<=io<N and 0<=jo<N])\n",
    "            xnew[i,j] = nsum == 3 or (nsum == 2 and x[i,j])\n",
    "    return xnew"
   ]
  },
  {
   "cell_type": "code",
   "execution_count": 14,
   "metadata": {},
   "outputs": [
    {
     "data": {
      "text/plain": [
       "array([[1., 0., 1.],\n",
       "       [0., 0., 0.],\n",
       "       [1., 1., 1.]])"
      ]
     },
     "execution_count": 14,
     "metadata": {},
     "output_type": "execute_result"
    }
   ],
   "source": [
    "x = np.array([[1,1,1],[0,1,1],[1,1,0]])\n",
    "conwaystep2(x)"
   ]
  },
  {
   "cell_type": "code",
   "execution_count": 15,
   "metadata": {
    "deletable": false,
    "editable": false,
    "nbgrader": {
     "cell_type": "code",
     "checksum": "f9576c23221eb80ebd21ece02df2c37e",
     "grade": true,
     "grade_id": "cell-ea76181dae2ed17a",
     "locked": true,
     "points": 10,
     "schema_version": 3,
     "solution": false,
     "task": false
    }
   },
   "outputs": [],
   "source": [
    "'''case1'''\n",
    "xtest = np.array([[1,0,1],[1,0,1],[0,1,0]])\n",
    "assert np.isclose(conwaystep2(xtest),np.array([[0., 0., 0.],[1., 0., 1.],[0., 1., 0.]]),atol=1e-9).all()\n",
    "'''case2'''\n",
    "xtest = np.array([[1,1,1],[0,1,1],[1,1,0]])\n",
    "assert np.isclose(conwaystep2(xtest),np.array([[1., 0., 1.],[0., 0., 0.],[1., 1., 1.]]),atol=1e-9).all()"
   ]
  },
  {
   "cell_type": "markdown",
   "metadata": {
    "deletable": false,
    "editable": false,
    "nbgrader": {
     "cell_type": "markdown",
     "checksum": "80bab0b0ad7fc8ee0e25996038cfa3a2",
     "grade": false,
     "grade_id": "cell-7b230e58909f69c8",
     "locked": true,
     "schema_version": 3,
     "solution": false,
     "task": false
    }
   },
   "source": [
    "Now try out your new boundary conditions with the Simkin glider gun. You should notice that the gliders don't wrap around like in a Pac-Man game. The first one will obliterate into a static set of live points, but the next one to hit it should annihilate the static live points. This pattern will continue for as long as you keep iterating the rules."
   ]
  },
  {
   "cell_type": "code",
   "execution_count": 16,
   "metadata": {
    "deletable": false,
    "editable": false,
    "nbgrader": {
     "cell_type": "code",
     "checksum": "347371aff2c6d3f0bfad95e5c18d19aa",
     "grade": false,
     "grade_id": "cell-02dd5c02c6e52036",
     "locked": true,
     "schema_version": 3,
     "solution": false,
     "task": false
    }
   },
   "outputs": [
    {
     "data": {
      "image/png": "[encoded data removed]",
      "text/plain": [
       "<Figure size 640x480 with 1 Axes>"
      ]
     },
     "metadata": {},
     "output_type": "display_data"
    }
   ],
   "source": [
    "N = 50\n",
    "Nt = 300\n",
    "x = np.zeros((N,N,Nt))\n",
    "\n",
    "x[:,:,0] = np.zeros((N,N))\n",
    "ni = 10\n",
    "nj = 10\n",
    "### pattern for Simkin glider gun\n",
    "x[1+ni,1+nj,0] = 1\n",
    "x[2+ni,1+nj,0] = 1\n",
    "x[1+ni,2+nj,0] = 1\n",
    "x[2+ni,2+nj,0] = 1\n",
    "\n",
    "x[1+ni,8+nj,0] = 1\n",
    "x[2+ni,8+nj,0] = 1\n",
    "x[1+ni,9+nj,0] = 1\n",
    "x[2+ni,9+nj,0] = 1\n",
    "\n",
    "x[4+ni,5+nj,0] = 1\n",
    "x[5+ni,5+nj,0] = 1\n",
    "x[4+ni,6+nj,0] = 1\n",
    "x[5+ni,6+nj,0] = 1\n",
    "\n",
    "x[10+ni,23+nj,0] = 1\n",
    "x[10+ni,24+nj,0] = 1\n",
    "x[10+ni,26+nj,0] = 1\n",
    "x[10+ni,27+nj,0] = 1\n",
    "\n",
    "x[11+ni,22+nj,0] = 1\n",
    "x[11+ni,28+nj,0] = 1\n",
    "\n",
    "x[12+ni,22+nj,0] = 1\n",
    "x[12+ni,29+nj,0] = 1\n",
    "x[12+ni,32+nj,0] = 1\n",
    "x[12+ni,33+nj,0] = 1\n",
    "\n",
    "x[13+ni,22+nj,0] = 1\n",
    "x[13+ni,23+nj,0] = 1\n",
    "x[13+ni,24+nj,0] = 1\n",
    "x[13+ni,28+nj,0] = 1\n",
    "x[13+ni,32+nj,0] = 1\n",
    "x[13+ni,33+nj,0] = 1\n",
    "\n",
    "x[14+ni,27+nj,0] = 1\n",
    "\n",
    "x[18+ni,21+nj,0] = 1\n",
    "x[18+ni,22+nj,0] = 1\n",
    "\n",
    "x[19+ni,21+nj,0] = 1\n",
    "\n",
    "x[20+ni,22+nj,0] = 1\n",
    "x[20+ni,23+nj,0] = 1\n",
    "x[20+ni,24+nj,0] = 1\n",
    "\n",
    "x[21+ni,24+nj,0] = 1\n",
    "\n",
    "\n",
    "plt.imshow(x[:,:,0],cmap='gray')\n",
    "plt.show()"
   ]
  },
  {
   "cell_type": "code",
   "execution_count": 17,
   "metadata": {
    "deletable": false,
    "editable": false,
    "nbgrader": {
     "cell_type": "code",
     "checksum": "6e0eee412b7b8700a114d383ac4f59c7",
     "grade": false,
     "grade_id": "cell-a037ddce8b2d2d21",
     "locked": true,
     "schema_version": 3,
     "solution": false,
     "task": false
    }
   },
   "outputs": [
    {
     "data": {
      "image/png": "[encoded data removed]",
      "text/plain": [
       "<Figure size 640x480 with 1 Axes>"
      ]
     },
     "metadata": {},
     "output_type": "display_data"
    }
   ],
   "source": [
    "for n in range(0,Nt-1):\n",
    "    x[:,:,n+1] = conwaystep2(x[:,:,n])\n",
    "    \n",
    "    \n",
    "for n in range(0,Nt):\n",
    "    sleep(0.01) # Sets the maximum animation speed\n",
    "    plt.imshow(x[:,:,n],cmap='gray')\n",
    "    clear_output(wait=True)\n",
    "    plt.show()"
   ]
  },
  {
   "cell_type": "markdown",
   "metadata": {
    "deletable": false,
    "editable": false,
    "nbgrader": {
     "cell_type": "markdown",
     "checksum": "b48e65f541050393847727c96cb59143",
     "grade": false,
     "grade_id": "cell-1bc3964c5f136e5c",
     "locked": true,
     "schema_version": 3,
     "solution": false,
     "task": false
    }
   },
   "source": [
    "### 2. Gosper glider gun"
   ]
  },
  {
   "cell_type": "markdown",
   "metadata": {
    "deletable": false,
    "editable": false,
    "nbgrader": {
     "cell_type": "markdown",
     "checksum": "4b140e9fbea5625ec5c81cc88c9c4d99",
     "grade": false,
     "grade_id": "cell-9248c38d732547f5",
     "locked": true,
     "schema_version": 3,
     "solution": false,
     "task": false
    }
   },
   "source": [
    "By whatever method you choose, implement the [Gosper glider gun](https://playgameoflife.com/lexicon/Gosper_glider_gun) as an initial condition. Here's a visual depiction where yellow cells are alive (1) and grey cells are dead (0).\n",
    "\n",
    "<img src=\"gosper.png\" width = 400>\n",
    "\n",
    "I have entered the coordinates for the left-most square, so you need to complete the function `glidergun(N,ni,nj)` which fills in where all of the remaining live cells are. You can check the output by running the cell after the function definition."
   ]
  },
  {
   "cell_type": "code",
   "execution_count": 18,
   "metadata": {
    "deletable": false,
    "nbgrader": {
     "cell_type": "code",
     "checksum": "b4ba1980c8c148635d304efb9519e357",
     "grade": false,
     "grade_id": "cell-33ea8c8a8329e7da",
     "locked": false,
     "schema_version": 3,
     "solution": true,
     "task": false
    }
   },
   "outputs": [
    {
     "data": {
      "image/png": "[encoded data removed]",
      "text/plain": [
       "<Figure size 640x480 with 1 Axes>"
      ]
     },
     "metadata": {},
     "output_type": "display_data"
    }
   ],
   "source": [
    "def glidergun(N,ni,nj):\n",
    "    x = np.zeros((N,N))\n",
    "    \n",
    "    x[4+ni,1+nj] = 1\n",
    "    x[4+ni,2+nj] = 1\n",
    "    x[5+ni,1+nj] = 1\n",
    "    x[5+ni,2+nj] = 1\n",
    "    #ni = 2; nj = 0\n",
    "    for i,j in ([[0+ni,25+nj],[1+ni,23+nj],[1+ni,25+nj],[2+ni,13+nj],[2+ni,14+nj],[2+ni,21+nj],[2+ni,22+nj],\n",
    "                 [2+ni,35+nj],[2+ni,36+nj],[3+ni,12+nj],[3+ni,16+nj],[3+ni,21+nj],[3+ni,22+nj],[3+ni,35+nj],\n",
    "                 [3+ni,36+nj],[4+ni,11+nj],[4+ni,17+nj],[4+ni,21+nj],[4+ni,22+nj],[5+ni,11+nj],[5+ni,15+nj],\n",
    "                 [5+ni,17+nj],[5+ni,18+nj],[5+ni,23+nj],[5+ni,25+nj],[6+ni,11+nj],[6+ni,17+nj],[6+ni,25+nj],\n",
    "                 [7+ni,12+nj],[7+ni,16+nj],[8+ni,13+nj],[8+ni,14+nj]]):\n",
    "        x[i,j] = 1\n",
    "    \n",
    "    return x\n",
    "\n",
    "x = glidergun(40,2,0)\n",
    "\n",
    "plt.imshow(x,cmap=\"gray\")\n",
    "plt.ylim(12)\n",
    "plt.show()"
   ]
  },
  {
   "cell_type": "code",
   "execution_count": 19,
   "metadata": {
    "deletable": false,
    "editable": false,
    "nbgrader": {
     "cell_type": "code",
     "checksum": "ad1915a93aea98ff2946c6e0105b2687",
     "grade": true,
     "grade_id": "cell-c8390f55fc54273a",
     "locked": true,
     "points": 10,
     "schema_version": 3,
     "solution": false,
     "task": false
    }
   },
   "outputs": [],
   "source": [
    "xtest = glidergun(40,0,0)\n",
    "for i in range(0,3):\n",
    "    xtest = conwaystep(xtest)\n",
    "'''case1'''\n",
    "assert np.isclose(xtest[1,:],np.array([0., 0., 0., 0., 0., 0., 0., 0., 0., 0., 0., 0., 0., 0., 0., 0., 0.,0., 0., 0., 0., 0., 1., 0., 1., 0., 0., 0., 0., 0., 0., 0., 0., 0.,0., 0., 0., 0., 0., 0.]),atol=1e-9).all()\n",
    "'''case2'''\n",
    "assert np.isclose(xtest[3,:],np.array([0., 0., 0., 0., 0., 0., 0., 0., 0., 0., 0., 1., 0., 1., 0., 0., 0.,0., 1., 1., 0., 1., 0., 0., 0., 1., 0., 0., 0., 0., 0., 0., 0., 0.,0., 1., 1., 0., 0., 0.]),atol=1e-9).all()\n",
    "'''case3'''\n",
    "assert np.isclose(xtest[5,:],np.array([0., 1., 1., 0., 0., 0., 0., 0., 0., 1., 1., 1., 0., 0., 0., 0., 1.,0., 0., 1., 1., 0., 1., 0., 1., 0., 0., 0., 0., 0., 0., 0., 0., 0.,0., 0., 0., 0., 0., 0.]),atol=1e-9).all()\n",
    "'''case4'''\n",
    "assert np.isclose(xtest[7,:],np.array([0., 0., 0., 0., 0., 0., 0., 0., 0., 0., 0., 1., 0., 1., 0., 0., 0., 0., 0., 0., 0., 0., 0., 0., 0., 0., 0., 0., 0., 0., 0., 0., 0., 0., 0., 0., 0., 0., 0., 0.]),atol=1e-9).all()\n",
    "'''case5'''\n",
    "assert np.isclose(xtest[9,:],np.array([0., 0., 0., 0., 0., 0., 0., 0., 0., 0., 0., 0., 0., 0., 0., 0., 0.,0., 0., 0., 0., 0., 0., 0., 0., 0., 0., 0., 0., 0., 0., 0., 0., 0.,0., 0., 0., 0., 0., 0.]),atol=1e-9).all()\n"
   ]
  },
  {
   "cell_type": "code",
   "execution_count": 20,
   "metadata": {
    "deletable": false,
    "editable": false,
    "nbgrader": {
     "cell_type": "code",
     "checksum": "99d2e365d63f848ed80a590585da690b",
     "grade": false,
     "grade_id": "cell-7e0c83d447efeea8",
     "locked": true,
     "schema_version": 3,
     "solution": false,
     "task": false
    }
   },
   "outputs": [
    {
     "data": {
      "image/png": "[encoded data removed]",
      "text/plain": [
       "<Figure size 640x480 with 1 Axes>"
      ]
     },
     "metadata": {},
     "output_type": "display_data"
    }
   ],
   "source": [
    "x = glidergun(40,0,0)\n",
    "\n",
    "plt.imshow(x,cmap=\"gray\")\n",
    "plt.show()"
   ]
  },
  {
   "cell_type": "markdown",
   "metadata": {
    "deletable": false,
    "editable": false,
    "nbgrader": {
     "cell_type": "markdown",
     "checksum": "a5ae86ea4364540ebde79c216f0871e4",
     "grade": false,
     "grade_id": "cell-735e4e2e8671bd28",
     "locked": true,
     "schema_version": 3,
     "solution": false,
     "task": false
    }
   },
   "source": [
    "Now behold the majesty of the Gosper glider gun in action. This uses a large enough grid that the period boundary conditions aren't an issue."
   ]
  },
  {
   "cell_type": "code",
   "execution_count": 21,
   "metadata": {
    "deletable": false,
    "editable": false,
    "nbgrader": {
     "cell_type": "code",
     "checksum": "c8431309cb846be674b6c14e31e48554",
     "grade": false,
     "grade_id": "cell-2f07cfb115373a00",
     "locked": true,
     "schema_version": 3,
     "solution": false,
     "task": false
    }
   },
   "outputs": [
    {
     "data": {
      "image/png": "[encoded data removed]",
      "text/plain": [
       "<Figure size 640x480 with 1 Axes>"
      ]
     },
     "metadata": {},
     "output_type": "display_data"
    }
   ],
   "source": [
    "N = 100\n",
    "Nt = 250\n",
    "x = np.zeros((N,N,Nt))\n",
    "\n",
    "x[:,:,0] = glidergun(N,0,0)\n",
    "\n",
    "\n",
    "for n in range(0,Nt-1):\n",
    "    x[:,:,n+1] = conwaystep(x[:,:,n])\n",
    "    \n",
    "    \n",
    "for n in range(0,Nt):\n",
    "    sleep(0.01) # Sets the maximum animation speed\n",
    "    plt.imshow(x[:,:,n],cmap='gray')\n",
    "    clear_output(wait=True)\n",
    "    plt.show()"
   ]
  },
  {
   "cell_type": "markdown",
   "metadata": {
    "deletable": false,
    "editable": false,
    "nbgrader": {
     "cell_type": "markdown",
     "checksum": "d497d976d32f115bd45e4fc8a503527a",
     "grade": false,
     "grade_id": "cell-ec5c7cf35e632238",
     "locked": true,
     "schema_version": 3,
     "solution": false,
     "task": false
    }
   },
   "source": [
    "### 3. Forest fires"
   ]
  },
  {
   "cell_type": "markdown",
   "metadata": {
    "deletable": false,
    "editable": false,
    "nbgrader": {
     "cell_type": "markdown",
     "checksum": "5db299c5848d798d9b97400624c2d177",
     "grade": false,
     "grade_id": "cell-828f0b1b47acac50",
     "locked": true,
     "schema_version": 3,
     "solution": false,
     "task": false
    }
   },
   "source": [
    "Consider the following simplified [model](https://itp.uni-frankfurt.de/~gros/StudentProjects/Projects_2020/projekt_lars_dingeldein/) of forest fires. Each cell on a two dimensional grid can be in one of three states (values): empty (0), trees (1), or fire (2). The system starts with some arrangement of trees and empty space. At each time step the following rules are applied to update the system:\n",
    "\n",
    "- A tree grows spontaneously on an empty cell with probability $p$\n",
    "- A tree starts burning spontaneously with probability $f$\n",
    "- A tree will burn if one of its <i>four</i> nearest neighbors is on fire\n",
    "- A burning cell turns into an empty cell.\n",
    "\n",
    "The goal of this question is to implement this model in several steps. Let's first initialize an $N\\times N$ system with 25% trees and 75% empty space. We assign 0 to empty cells and 1 to cells with trees. Therefore, you should scan over each cell and flip the cell to 1 with 25% probability. One simple way to do this is to generate a random number via `np.random.rand()`. The random value will be less than 0.25 25% of the time (why?). You can use this to test for whether to assign a tree to each cell. "
   ]
  },
  {
   "cell_type": "code",
   "execution_count": 22,
   "metadata": {
    "deletable": false,
    "nbgrader": {
     "cell_type": "code",
     "checksum": "906eb5d69d7d85a017d88f59fc97d1fb",
     "grade": false,
     "grade_id": "cell-60c86ca921be2548",
     "locked": false,
     "schema_version": 3,
     "solution": true,
     "task": false
    }
   },
   "outputs": [],
   "source": [
    "def initialize(N):\n",
    "    x = np.zeros((N,N))\n",
    "    for i in range(0,N):\n",
    "        for j in range(0,N):\n",
    "            p = np.random.rand()\n",
    "            if(p < .25):\n",
    "                x[i,j] = 1\n",
    "\n",
    "    return x"
   ]
  },
  {
   "cell_type": "code",
   "execution_count": 23,
   "metadata": {
    "deletable": false,
    "editable": false,
    "nbgrader": {
     "cell_type": "code",
     "checksum": "a502c9b29a3f7b6348d328c8c62c340b",
     "grade": true,
     "grade_id": "cell-f37e6aaf85e8b5a8",
     "locked": true,
     "points": 5,
     "schema_version": 3,
     "solution": false,
     "task": false
    }
   },
   "outputs": [],
   "source": [
    "'''case1'''\n",
    "assert np.isclose(np.average(initialize(1000)), 0.25,atol=2e-1).all()\n"
   ]
  },
  {
   "cell_type": "markdown",
   "metadata": {
    "deletable": false,
    "editable": false,
    "nbgrader": {
     "cell_type": "markdown",
     "checksum": "b7d686ac556519bc3bc9c41c9429920c",
     "grade": false,
     "grade_id": "cell-e657aa9c97d3def9",
     "locked": true,
     "schema_version": 3,
     "solution": false,
     "task": false
    }
   },
   "source": [
    "Now that we have an initial state, we can apply the rules. Make a set of nested loops to scroll through all cells. You can use the function `nn(i,j,N)` to generate the right/left/upper/lower indices using periodic boundary conditions. In applying the rules, you need do nothing if the cell has a value of 2 (on fire) since it will be reset to zero at the next step.\n",
    "\n",
    "You can separate the remaining cases using an `if` statement. If the cell is empty, it will either remain empty or become a tree (with probability) $p$. You can generate a random number and test for whether it is less than $p$. If so, set the cell to 2. Otherwise, do nothing.\n",
    "\n",
    "If the initial cell has a value of 1 (a tree present), then one of two things happens. If one of its four neighbors ($(i+1,j)$, $(i-1,j)$, $(i,j-1)$, or $(i,j+1)$) is on fire (has a value of $2$), then this cell will be on fire in the next step. If that is not the case, then it will catch fire with probability $f$. You can test for this option with the same technique used to determine if a tree grows. If none of these two cases occurs, then a tree is placed on cell at the next time step.\n",
    "\n",
    "When testing for fire at the neighbors, a quick method is to just look at the maximum of the list\n",
    "\n",
    "```[x[i,jl], x[i,jr], x[il,j], x[ir,j]]```\n",
    "\n",
    "Since the fire cell has the value of 2 and you don't care <i>which</i> of these cells is on fire, you can be sure that a fire will be placed on the cell `[i,j]` if the maximum of that list is 2. Otherwise, you know that no neighboring cells are on fire."
   ]
  },
  {
   "cell_type": "code",
   "execution_count": 24,
   "metadata": {
    "deletable": false,
    "nbgrader": {
     "cell_type": "code",
     "checksum": "9e8ea92af532ea2fd01ce855244d07f3",
     "grade": false,
     "grade_id": "cell-b48b36e76d949f1a",
     "locked": false,
     "schema_version": 3,
     "solution": true,
     "task": false
    }
   },
   "outputs": [],
   "source": [
    "def forestupdate(x,p,f):\n",
    "    N = len(x)\n",
    "#    xnew = np.zeros((N,N))\n",
    "    xnew = x\n",
    "    \n",
    "    for i in range(0,N):\n",
    "        for j in range(0,N):\n",
    "            prob = np.random.rand()\n",
    "            \n",
    "            if(i >= N-1 or j >= N-1):\n",
    "                if(xnew[i,j] == 2):\n",
    "                    xnew[i,j] = 0\n",
    "            \n",
    "            if(xnew[i,j] == 0):\n",
    "                if(prob < p):\n",
    "                    xnew[i,j] = 1\n",
    "                \n",
    "            if(xnew[i,j] == 2):\n",
    "                xnew[i,j] = 0\n",
    "                if(i != N-1 and j != N-1):\n",
    "                    if(xnew[i+1,j]==1):\n",
    "                        xnew[i+1,j] = 2\n",
    "                    if(xnew[i-1,j]==1):\n",
    "                        xnew[i-1,j] = 2\n",
    "                    if(xnew[i,j+1]==1):\n",
    "                        xnew[i,j+1] = 2\n",
    "                    if(xnew[i,j-1]==1):\n",
    "                        xnew[i,j-1] = 2\n",
    "            \n",
    "            if(xnew[i,j] == 1):\n",
    "                if(i != N-1 and j != N-1):\n",
    "                    # if fire in neighbor\n",
    "                    if(xnew[i+1,j] == 2 or xnew[i-1,j] == 2 or xnew[i,j-1] == 2 or xnew[i,j+1] == 2):\n",
    "                        xnew[i,j] = 2\n",
    "                    # fire prob\n",
    "                    if(prob < f):\n",
    "                        xnew[i,j] = 2\n",
    "\n",
    "    return xnew"
   ]
  },
  {
   "cell_type": "markdown",
   "metadata": {},
   "source": [
    "Once these basic functions are working, you can simulate the dynamics by adding a loop over time."
   ]
  },
  {
   "cell_type": "code",
   "execution_count": 25,
   "metadata": {},
   "outputs": [],
   "source": [
    "N = 40\n",
    "p = 30/(N**2)\n",
    "f = 0.1/(N**2)\n",
    "\n",
    "Nt = 100\n",
    "x = np.zeros((N,N,Nt))\n",
    "\n",
    "x[:,:,0] = initialize(N)\n",
    "            \n",
    "for n in range(0,Nt-1):\n",
    "    x[:,:,n+1] = forestupdate(x[:,:,n],p,f)"
   ]
  },
  {
   "cell_type": "code",
   "execution_count": 26,
   "metadata": {
    "deletable": false,
    "editable": false,
    "nbgrader": {
     "cell_type": "code",
     "checksum": "de766c4d95df6423846c67855b80bf1e",
     "grade": false,
     "grade_id": "cell-f047e1d142847851",
     "locked": true,
     "schema_version": 3,
     "solution": false,
     "task": false
    }
   },
   "outputs": [
    {
     "data": {
      "image/png": "[encoded data removed]",
      "text/plain": [
       "<Figure size 640x480 with 1 Axes>"
      ]
     },
     "metadata": {},
     "output_type": "display_data"
    }
   ],
   "source": [
    "for n in range(0,Nt):\n",
    "    sleep(0.01) # Sets the maximum animation speed\n",
    "    plt.imshow(x[:,:,n],cmap='turbo',vmin=0, vmax=2)\n",
    "    clear_output(wait=True)\n",
    "    plt.show()"
   ]
  },
  {
   "cell_type": "markdown",
   "metadata": {
    "deletable": false,
    "editable": false,
    "nbgrader": {
     "cell_type": "markdown",
     "checksum": "44ec7207c2a49348a0e9a41d932e5b65",
     "grade": false,
     "grade_id": "cell-bbf09e69cd84cac1",
     "locked": true,
     "schema_version": 3,
     "solution": false,
     "task": false
    }
   },
   "source": [
    "It's not incredibly impressive or interesting for the case $N=30$. But this also becomes computationally intense for larger systems. You can go up to about $N=100$ (maybe also increasing the number of steps to $\\sim 1000$) and see the beginnings of more complex behavior.\n",
    "\n",
    "As one last instructive task, complete the following function which counts how many cells are (a) empty, (b) trees, or (c) on fire. You might wish to employ logical indexing (e.g., `x[x==1]`) and the function `len()` to do this efficiently. But you could also do it with loops and counters."
   ]
  },
  {
   "cell_type": "code",
   "execution_count": 27,
   "metadata": {
    "deletable": false,
    "nbgrader": {
     "cell_type": "code",
     "checksum": "60a32d9a6114ccab0300e26999a8cfbf",
     "grade": false,
     "grade_id": "cell-dabe324ffb084ed3",
     "locked": false,
     "schema_version": 3,
     "solution": true,
     "task": false
    }
   },
   "outputs": [],
   "source": [
    "def counts(x):\n",
    "    empty = 0\n",
    "    trees = 0\n",
    "    fire = 0\n",
    "    for i in range(0,len(x)):\n",
    "        for j in range(0,len(x)):\n",
    "            if(x[i,j] == 0):\n",
    "                empty += 1\n",
    "            elif(x[i,j] == 1):\n",
    "                trees += 1\n",
    "            else:\n",
    "                fire += 1\n",
    "\n",
    "    return empty, trees, fire"
   ]
  },
  {
   "cell_type": "code",
   "execution_count": 28,
   "metadata": {
    "deletable": false,
    "editable": false,
    "nbgrader": {
     "cell_type": "code",
     "checksum": "68a4acaac6bf46bc89bc5805b0245088",
     "grade": true,
     "grade_id": "cell-cb5739649f348652",
     "locked": true,
     "points": 5,
     "schema_version": 3,
     "solution": false,
     "task": false
    }
   },
   "outputs": [],
   "source": [
    "'''case1'''\n",
    "xtest = np.array([[0,0,1,2],[0,0,0,1],[0,2,2,0],[1,2,0,1]])\n",
    "assert np.isclose(counts(xtest), (8, 4, 4),atol=2e-1).all()\n",
    "'''case2'''\n",
    "xtest = np.array([[2,1,1,1],[1,2,1,1],[1,2,2,1],[2,1,0,1]])\n",
    "assert np.isclose(counts(xtest), (1, 10, 5),atol=2e-1).all()\n"
   ]
  },
  {
   "cell_type": "markdown",
   "metadata": {
    "deletable": false,
    "editable": false,
    "nbgrader": {
     "cell_type": "markdown",
     "checksum": "6f9646c2241656e4929cff7206fbb72a",
     "grade": false,
     "grade_id": "cell-2d2204c424ef4842",
     "locked": true,
     "schema_version": 3,
     "solution": false,
     "task": false
    }
   },
   "source": [
    "Lastly, fill in the following arrays with the empty/tree/fire \"populations\" at each time step and plot the <i>fraction</i> of each."
   ]
  },
  {
   "cell_type": "code",
   "execution_count": 29,
   "metadata": {
    "deletable": false,
    "editable": false,
    "nbgrader": {
     "cell_type": "code",
     "checksum": "95df8d2e4d701d0402612effff07c905",
     "grade": false,
     "grade_id": "cell-21ee8527335584f2",
     "locked": true,
     "schema_version": 3,
     "solution": false,
     "task": false
    }
   },
   "outputs": [
    {
     "data": {
      "image/png": "[encoded data removed]",
      "text/plain": [
       "<Figure size 640x480 with 1 Axes>"
      ]
     },
     "metadata": {},
     "output_type": "display_data"
    }
   ],
   "source": [
    "empty = np.zeros(Nt)\n",
    "trees = np.zeros(Nt)\n",
    "fire = np.zeros(Nt)\n",
    "\n",
    "for i in range(0,Nt):\n",
    "    empty[i], trees[i], fire[i] = counts(x[:,:,i])\n",
    "    \n",
    "t = np.linspace(0,Nt-1,Nt)    \n",
    "plt.plot(t,empty/(N**2),'k-')\n",
    "plt.plot(t,trees/(N**2),'g-')\n",
    "plt.plot(t,fire/(N**2),'r-')\n",
    "plt.legend(['empty','trees','fire'])\n",
    "plt.xlabel('t')\n",
    "plt.ylabel('fraction')\n",
    "plt.show()"
   ]
  },
  {
   "cell_type": "markdown",
   "metadata": {
    "deletable": false,
    "editable": false,
    "nbgrader": {
     "cell_type": "markdown",
     "checksum": "dcd8b17aacd051fc9ffaee686a57d586",
     "grade": false,
     "grade_id": "cell-79e0b37f667d5c32",
     "locked": true,
     "schema_version": 3,
     "solution": false,
     "task": false
    }
   },
   "source": [
    "### 4. BZ chemical reaction"
   ]
  },
  {
   "cell_type": "markdown",
   "metadata": {
    "deletable": false,
    "editable": false,
    "nbgrader": {
     "cell_type": "markdown",
     "checksum": "c21c2bc97c48e478d9f6d8f7a3ef85db",
     "grade": false,
     "grade_id": "cell-e4ebe90fa5d8d076",
     "locked": true,
     "schema_version": 3,
     "solution": false,
     "task": false
    }
   },
   "source": [
    "The [Belousov-Zhabotinsky (BZ) chemical reaction](https://www.scholarpedia.org/article/Belousov-Zhabotinsky_reaction) is an interesting, <i>oscillating</i> chemical reaction that once made an appearance on [Jimmy Kimmel](https://www.youtube.com/watch?v=3JH1wCKlR5s). \n",
    "\n",
    "When set up with a thin layer of liquid (i.e., in a petri dish), it's possible to observe spiral waves as different portions of the solution undergo the reaction at different times. Here's a [video](https://www.youtube.com/watch?v=LL3kVtc-4vY) showing the result as well as walking through how you might be able to get the necessary supplies to do it yourself. As it turns out, this type of spiral wave dynamics can also be simulated using a [cellular automaton](https://www.hermetic.ch/pca/bz.htm).\n",
    "\n",
    "The rules for this model are a bit more complicated than for the forest fire model or Conway's game of life. Within a grid, each cell can take on a value between `1` and `q` (for some integer `q` we take as 200). We also select two integers `k1` and `k2` in the range 1 through 8 and an integer `g` in the range 0 through 100. We'll take `k1=2`, `k2=3`, and `g=70`. The updating proceeds as follows:\n",
    "\n",
    "- A cell in state `q` changes to state `1`.\n",
    "- A cell in state `1` changes to state `np.floor(a/k1) + np.floor(b/k2) + 1` where `a` is the number of neighbors of the cell which are in states `2` through `q-1` and `b` is the number of neighbors in state `q`.\n",
    "- A cell in any of states `2` through `q-1` changes to `S/(9 - c) + g`, where `S` is the sum of the states of the cell and its neighbors and `c` is the number of neighbors in state `1`.\n",
    "- If the application of these rules would result in a cell having a state larger than `q` then the state of that cell becomes `q`.\n",
    "\n",
    "I would implement these rules in order. Given an array of values `x`, your task is to compute `xnew` based on these rules. It's easy to test for cases where `x[i,j]==q-1` or `x[i,j]==0`. You might want to use `nn(i,j,N)` to grab the neighbor indices (assume periodic boundary conditions) and then make a list of `x` values for all the neighbors."
   ]
  },
  {
   "cell_type": "code",
   "execution_count": 91,
   "metadata": {
    "deletable": false,
    "nbgrader": {
     "cell_type": "code",
     "checksum": "57754f5b86e72fb8aef2fe4c86d7e831",
     "grade": false,
     "grade_id": "cell-9737c0986cf62c59",
     "locked": false,
     "schema_version": 3,
     "solution": true,
     "task": false
    }
   },
   "outputs": [],
   "source": [
    "def bzstep(x,q,k1,k2,g):\n",
    "    N = len(x)\n",
    "    xnew = np.zeros((N,N))\n",
    "#    xnew = x\n",
    "    for i in range(0,N):\n",
    "        for j in range(0,N):\n",
    "#            neighbors = nn2(i,j,N)\n",
    "            (il,ir,jl,jr) = nn(i,j,N)\n",
    "            neighbors = [ x[il,jl],x[il,j],x[il,jr],x[i,jl],x[i,jr],x[ir,jl],x[ir,j],x[ir,jr] ]\n",
    "            \n",
    "            a = b = c = 0\n",
    "            for k in range(0,8):\n",
    "                if(neighbors[k] == q):\n",
    "                    b += 1\n",
    "                elif(neighbors[k] != 1):\n",
    "                    a += 1\n",
    "                elif(neighbors[k] == 1):\n",
    "                    c += 1\n",
    "            \n",
    "#            a = len([xnew[n,m] for n,m in neighbors if(2<= xnew[n,m] <=q-1)])\n",
    "#            b = len([xnew[c,v] for c,v in neighbors if(xnew[c,v]==q)])\n",
    "#            c = len([xnew[k,l] for k,l in neighbors if(xnew[k,l]==1)])\n",
    "            \n",
    "            if(x[i,j] == q):\n",
    "                xnew[i,j] = 1\n",
    "                \n",
    "            elif(x[i,j] == 1):\n",
    "                xnew[i,j] = np.floor(a/k1) + np.floor(b/k2) + 1\n",
    "                \n",
    "#            elif(2 <= x[i,j] <= q-1):\n",
    "            else:\n",
    "#                xnew[i,j] = (sum([xnew[neighbors[n],neighbors[m]] for n,m in neighbors(0,8)])+x[i,j])/(9-c) + g\n",
    "                xnew[i,j] = (sum(neighbors)+ x[i,j])/(9-c) + g\n",
    "            \n",
    "            if(x[i,j] > q):\n",
    "                xnew[i,j] = q\n",
    "            \n",
    "    return xnew"
   ]
  },
  {
   "cell_type": "code",
   "execution_count": 92,
   "metadata": {
    "deletable": false,
    "editable": false,
    "nbgrader": {
     "cell_type": "code",
     "checksum": "c4c01ddd5ccd4cefbabd5c9cd1a31ed0",
     "grade": true,
     "grade_id": "cell-47ff4fad418bc4c3",
     "locked": true,
     "points": 10,
     "schema_version": 3,
     "solution": false,
     "task": false
    }
   },
   "outputs": [],
   "source": [
    "'''case1'''\n",
    "xtest= np.array([[1,2,3,4],[4,5,6,7],[7,8,9,10],[11,12,13,14]])\n",
    "assert np.isclose(bzstep(xtest,200,2,3,70), np.array([[ 5.        , 77.125     , 77.33333333, 77.875     ],[76.        , 75.625     , 76.        , 76.375     ],[78.66666667, 78.33333333, 79.33333333, 79.        ],[78.625     , 78.25      , 78.33333333, 79.        ]]),atol=2e-1).all()"
   ]
  },
  {
   "cell_type": "markdown",
   "metadata": {
    "deletable": false,
    "editable": false,
    "nbgrader": {
     "cell_type": "markdown",
     "checksum": "5d15fdad50a517fe82020d9bf6b1834a",
     "grade": false,
     "grade_id": "cell-cf624805349ffa1d",
     "locked": true,
     "schema_version": 3,
     "solution": false,
     "task": false
    }
   },
   "source": [
    "Once you have the function working, you can make an animation and watch the appearance of spiral waves from some random configuration (each cell chosen a random value between `1` and `q`):"
   ]
  },
  {
   "cell_type": "code",
   "execution_count": 93,
   "metadata": {
    "deletable": false,
    "editable": false,
    "nbgrader": {
     "cell_type": "code",
     "checksum": "624ee60c0bc44992c3797905c422f45f",
     "grade": false,
     "grade_id": "cell-e668292ae5954946",
     "locked": true,
     "schema_version": 3,
     "solution": false,
     "task": false
    }
   },
   "outputs": [],
   "source": [
    "N = 50\n",
    "Nt = 300\n",
    "x = np.zeros((N,N,Nt))\n",
    "\n",
    "q = 200\n",
    "k1 = 2 \n",
    "k2 = 3\n",
    "g = 70\n",
    "\n",
    "\n",
    "x[:,:,0] = np.random.randint(0,q,(N,N))+1\n",
    "\n",
    "for n in range(0,Nt-1):\n",
    "    x[:,:,n+1] = bzstep(x[:,:,n],q,k1,k2,g)"
   ]
  },
  {
   "cell_type": "code",
   "execution_count": 95,
   "metadata": {
    "deletable": false,
    "editable": false,
    "nbgrader": {
     "cell_type": "code",
     "checksum": "cfa7d5259c5612ef005a1a0059062128",
     "grade": false,
     "grade_id": "cell-616a4ad7eb867089",
     "locked": true,
     "schema_version": 3,
     "solution": false,
     "task": false
    }
   },
   "outputs": [
    {
     "data": {
      "image/png": "[encoded data removed]",
      "text/plain": [
       "<Figure size 640x480 with 1 Axes>"
      ]
     },
     "metadata": {},
     "output_type": "display_data"
    }
   ],
   "source": [
    "for n in range(0,Nt):\n",
    "    sleep(0.01) \n",
    "    plt.imshow(x[:,:,n])#,cmap='hot')\n",
    "    clear_output(wait=True)\n",
    "    plt.show()"
   ]
  },
  {
   "cell_type": "markdown",
   "metadata": {
    "deletable": false,
    "editable": false,
    "nbgrader": {
     "cell_type": "markdown",
     "checksum": "ea2769fbd31e30d3b3f075ab1caf8554",
     "grade": false,
     "grade_id": "cell-e08552a44847e29c",
     "locked": true,
     "schema_version": 3,
     "solution": false,
     "task": false
    }
   },
   "source": [
    "### 5. 1D random walk/diffusion"
   ]
  },
  {
   "cell_type": "markdown",
   "metadata": {
    "deletable": false,
    "editable": false,
    "nbgrader": {
     "cell_type": "markdown",
     "checksum": "48e0ed527b6ddfb674467d0a2fcd2248",
     "grade": false,
     "grade_id": "cell-af567aa672281048",
     "locked": true,
     "schema_version": 3,
     "solution": false,
     "task": false
    }
   },
   "source": [
    "Recall the one-dimensional random walk we used earlier in the course. We showed that for an ensemble of particles beginning at the origin, the average squared distance scales like\n",
    "\n",
    "$$\\langle x^{2}(t) \\rangle \\sim t$$\n",
    "\n",
    "This is unlike constant-velocity motion where $x\\propto t$, and we refer to this type of transport as <b>diffusion</b>. Mathematically, some quantity $f(x,t)$ (density, temperature, etc.) exhibiting diffusion obeys the <b>diffusion equation</b>\n",
    "\n",
    "$$\\frac{\\partial f}{\\partial t} = D\\frac{\\partial^{2}f}{\\partial x^{2}}$$\n",
    "\n",
    "Think of a bottle of some kind of volatile gas (perfume, poison, the choice is yours). If you open this bottle, the molecules will diffuse through the air. Remarkably, the random walk turns out to be a pretty decent model for how these molecules move. In this exercise, you will show demonstrate that a highly localized initial concentration in which each molecule follows a random walk trajectory will spread in a manner consistent with the corresponding solution to the diffusion equation.\n",
    "\n",
    "To be specific, let's assume we have some amount $A$ of substance located at a single point in space (say $x_{0}$). The solution to the diffusion equation for this initial configuration is \n",
    "\n",
    "$$f(x,t) = \\frac{A}{\\sqrt{4\\pi D t}}\\exp\\left[-\\frac{(x-x_{0})^{2}}{4Dt}\\right]$$\n",
    "\n",
    "In words, the distribution looks like a bell curve that gets shorter and wider with time. \n",
    "\n",
    "Below we define an initial density profile `ρ` which is zero everywhere except for two locations at the center. In each of those locations, we place `Np` particles so that the total number of particles is `2Np`. We will consider `N=100` spatial points and compute the evolution for `Nt=100` time steps."
   ]
  },
  {
   "cell_type": "code",
   "execution_count": 96,
   "metadata": {
    "deletable": false,
    "editable": false,
    "nbgrader": {
     "cell_type": "code",
     "checksum": "1cfc3349d005ece044d535c4324ccbbf",
     "grade": false,
     "grade_id": "cell-36fdc36b43c0a968",
     "locked": true,
     "schema_version": 3,
     "solution": false,
     "task": false
    }
   },
   "outputs": [
    {
     "data": {
      "image/png": "[encoded data removed]",
      "text/plain": [
       "<Figure size 640x480 with 1 Axes>"
      ]
     },
     "metadata": {},
     "output_type": "display_data"
    }
   ],
   "source": [
    "Np = 5000\n",
    "N = 100\n",
    "Nt = 100\n",
    "\n",
    "ρ = np.zeros((N,Nt))\n",
    "ic = int(np.floor(N/2))\n",
    "\n",
    "ρ[ic-1:ic+1,0] = Np\n",
    "\n",
    "plt.plot(np.linspace(0,N-1,N),ρ[:,0])\n",
    "plt.show()"
   ]
  },
  {
   "cell_type": "markdown",
   "metadata": {
    "deletable": false,
    "editable": false,
    "nbgrader": {
     "cell_type": "markdown",
     "checksum": "0fa824fbc42731b6ea088c4644fb6fb1",
     "grade": false,
     "grade_id": "cell-ea0faf0f5b06e4b3",
     "locked": true,
     "schema_version": 3,
     "solution": false,
     "task": false
    }
   },
   "source": [
    "Complete the function below to perform a one-dimensional random walk for <i>each</i> particle in the system. What you want to do is scroll through all positions (a loop) and then perform another loop that runs from 0 to $n$, where $n$ is the number of particles at that location. This information is contained in `ρ[i,j]` as a floating point (e.g., 10.0), but you will need this value as an integer (e.g., 10). In calculations taking place in the <i>real</i> world, we don't have to distinguish between these two types of variables. But Python will only accept pure integers as limits on loops. Fortunately, you can use the `int()` function to convert a floating point to an integer.\n",
    "\n",
    "Now let's say you have 10 particles at position `i`. For each one, you want to let it randomly move to the right or left (with equal probability). One way to do this would be to define a new index `inew`. Using `np.sign()`, `int()`, and `np.random.rand()`, you can generate an integer `a` which is equally likely to be `+1` or `-1`. Then `inew = i + a`. Once you have the location that the particle moves to, you can add one to `\\rho` at that location.\n",
    "\n",
    "One last wrinkle: if a particle gets to the edge, it's equally likely to move one in the other direction or go <i>outside</i> the boundary. That's fine, we can lose it. But before you set `ρnew[inew] = ρnew[inew] + 1`, check to make sure `inew` is between `0` and `N-1`. \n",
    "\n",
    "Also, keep in mind that the `ρ` passed to the function will be a one-dimensional slice of the `ρ` defined above which stores the information for each time step."
   ]
  },
  {
   "cell_type": "code",
   "execution_count": 104,
   "metadata": {
    "deletable": false,
    "nbgrader": {
     "cell_type": "code",
     "checksum": "b39aabf5798418eef9ea69d2dd8ab49a",
     "grade": false,
     "grade_id": "cell-0c2207bea54c642b",
     "locked": false,
     "schema_version": 3,
     "solution": true,
     "task": false
    }
   },
   "outputs": [],
   "source": [
    "def rwalk1d(ρ):\n",
    "    N = len(ρ)\n",
    "    ρnew = np.zeros(N)\n",
    "    for i in range(0,N):\n",
    "        n = int(ρ[i])\n",
    "        for k in range(n):\n",
    "            a = int(np.sign(np.random.randint(0,2)-0.5))\n",
    "            inew = i + a\n",
    "            if(0 <= inew <= N-1):\n",
    "                ρnew[inew] = ρnew[inew] + 1\n",
    "            \n",
    "    return ρnew"
   ]
  },
  {
   "cell_type": "code",
   "execution_count": 105,
   "metadata": {
    "deletable": false,
    "editable": false,
    "nbgrader": {
     "cell_type": "code",
     "checksum": "f5a01d6ab07036e9f30292133b534465",
     "grade": false,
     "grade_id": "cell-e3b4357249ae5c96",
     "locked": true,
     "schema_version": 3,
     "solution": false,
     "task": false
    }
   },
   "outputs": [],
   "source": [
    "for n in range(0,Nt-1):\n",
    "    ρ[:,n+1] = rwalk1d(ρ[:,n])"
   ]
  },
  {
   "cell_type": "markdown",
   "metadata": {
    "deletable": false,
    "editable": false,
    "nbgrader": {
     "cell_type": "markdown",
     "checksum": "c83c05e17bbf3507f6ef7cc7aa076f90",
     "grade": false,
     "grade_id": "cell-35d5c140bfe0d334",
     "locked": true,
     "schema_version": 3,
     "solution": false,
     "task": false
    }
   },
   "source": [
    "Now for the theoretical solution. Define a function which returns\n",
    "\n",
    "$$\\rho(x,t) = \\frac{A}{\\sqrt{4\\pi D t}}\\exp\\left[-\\frac{(x-x_{0})^{2}}{4Dt}\\right]$$\n",
    "\n",
    "Three minor things: for reasons that aren't important to us, $D\\rightarrow 0.5$ turns out to be the correct answer for this system. More importantly, this function will run into trouble when $t=0$ (why?). To avoid this, you can use `t+0.01` everwhere you see a $t$ as you're implementing the formula. Lastly, you can take $x_{0}$ as $\\frac{1}{2}N_{x}$ where $N_{x}$ is the length of the array of $x$ points (passed into the function below)."
   ]
  },
  {
   "cell_type": "code",
   "execution_count": 106,
   "metadata": {
    "deletable": false,
    "nbgrader": {
     "cell_type": "code",
     "checksum": "2a4ce55af7db23602ee27459a098a0bd",
     "grade": false,
     "grade_id": "cell-a7e8c4f767e7ea59",
     "locked": false,
     "schema_version": 3,
     "solution": true,
     "task": false
    }
   },
   "outputs": [],
   "source": [
    "def ρt(t,x,A,D):\n",
    "    return (A/(np.sqrt(4*np.pi*D*t+.01))) * np.exp(-((x-(.5*len(x)))**2)/(4*D*t+0.01))"
   ]
  },
  {
   "cell_type": "code",
   "execution_count": 107,
   "metadata": {
    "deletable": false,
    "editable": false,
    "nbgrader": {
     "cell_type": "code",
     "checksum": "36c9837a4a607aa7fea59212405c23e6",
     "grade": true,
     "grade_id": "cell-8a41cbfc646bd7f1",
     "locked": true,
     "points": 5,
     "schema_version": 3,
     "solution": false,
     "task": false
    }
   },
   "outputs": [],
   "source": [
    "'''case1'''\n",
    "assert np.isclose(ρt(1,np.linspace(0,1,10),1,1), np.array([0.00057646, 0.00075663, 0.00098707, 0.00127983, 0.00164932,\n",
    "       0.00211254, 0.00268936, 0.00340282, 0.00427932, 0.0053488 ]),atol=1e-3).all()"
   ]
  },
  {
   "cell_type": "markdown",
   "metadata": {
    "deletable": false,
    "editable": false,
    "nbgrader": {
     "cell_type": "markdown",
     "checksum": "053645191a37c17a856f445ae6f60267",
     "grade": false,
     "grade_id": "cell-2fdc7de04f7605bc",
     "locked": true,
     "schema_version": 3,
     "solution": false,
     "task": false
    }
   },
   "source": [
    "With all of that in order, take a look at the evolution. The theoretical curve is plotted as a dashed line, while the noisy, blue curve represents the random walk simulation."
   ]
  },
  {
   "cell_type": "code",
   "execution_count": 108,
   "metadata": {
    "deletable": false,
    "editable": false,
    "nbgrader": {
     "cell_type": "code",
     "checksum": "428fd0f2ee69bd0e850144e0139ad6ad",
     "grade": false,
     "grade_id": "cell-e3df8a9b32f1e89a",
     "locked": true,
     "schema_version": 3,
     "solution": false,
     "task": false
    }
   },
   "outputs": [
    {
     "data": {
      "image/png": "[encoded data removed]",
      "text/plain": [
       "<Figure size 640x480 with 1 Axes>"
      ]
     },
     "metadata": {},
     "output_type": "display_data"
    }
   ],
   "source": [
    "A = sum(ρ[:,0])\n",
    "D = 0.5\n",
    "t = np.linspace(0,Nt-1,Nt)\n",
    "x = np.linspace(0,N-1,N)\n",
    "ρtheory = np.zeros((N,Nt))\n",
    "\n",
    "for n in range(0,Nt):\n",
    "    sleep(0.01) # Sets the maximum animation speed\n",
    "    plt.plot(x,ρ[:,n])\n",
    "    plt.plot(x,ρt(t[n],x,A,D),'k--')\n",
    "    plt.xlabel('x')\n",
    "    plt.ylabel('particle number')\n",
    "    plt.ylim(0,Np/2)\n",
    "    clear_output(wait=True)\n",
    "    plt.show()"
   ]
  },
  {
   "cell_type": "markdown",
   "metadata": {
    "deletable": false,
    "editable": false,
    "nbgrader": {
     "cell_type": "markdown",
     "checksum": "f0b3a75a27def1ff54f4addaa058e8d0",
     "grade": false,
     "grade_id": "cell-747f7b051c69c72b",
     "locked": true,
     "schema_version": 3,
     "solution": false,
     "task": false
    }
   },
   "source": [
    "<b>Note to clear my conscience:</b> I've used $\\rho$, which is suggestive of a density. We're actually working with raw particle number in this toy model of a few thousand particles. To make it a density, we should divide by the total number of particles (\"normalizing\" the function). But it's an added complication that doesn't add much insight to the task at hand."
   ]
  },
  {
   "cell_type": "markdown",
   "metadata": {
    "deletable": false,
    "editable": false,
    "nbgrader": {
     "cell_type": "markdown",
     "checksum": "a953acd9eca8a24e120a2334474abcb3",
     "grade": false,
     "grade_id": "cell-98250a5a5950165c",
     "locked": true,
     "schema_version": 3,
     "solution": false,
     "task": false
    }
   },
   "source": [
    "### 6. 2D random walk/diffusion"
   ]
  },
  {
   "cell_type": "markdown",
   "metadata": {
    "deletable": false,
    "editable": false,
    "nbgrader": {
     "cell_type": "markdown",
     "checksum": "6363febbdfed86fec41775e0b63b311b",
     "grade": false,
     "grade_id": "cell-9470c185af250afd",
     "locked": true,
     "schema_version": 3,
     "solution": false,
     "task": false
    }
   },
   "source": [
    "Just for fun, let's generalize to a two-dimensional random walk. Before dealing with the multiple particle case, we can begin with the random walk of a single particle in two dimensions. The good news is that this is just a one-dimensional random walk for each direction.\n",
    "\n",
    "Let's suppose we begin with a particle at the origin. We will store its `x` and `y` positions as separate arrays."
   ]
  },
  {
   "cell_type": "code",
   "execution_count": 109,
   "metadata": {
    "deletable": false,
    "editable": false,
    "nbgrader": {
     "cell_type": "code",
     "checksum": "401b482420a44d801036a93113d72b37",
     "grade": false,
     "grade_id": "cell-2673eb240e4a1492",
     "locked": true,
     "schema_version": 3,
     "solution": false,
     "task": false
    }
   },
   "outputs": [],
   "source": [
    "Nt = 1000\n",
    "x = np.zeros(Nt)\n",
    "y = np.zeros(Nt)"
   ]
  },
  {
   "cell_type": "markdown",
   "metadata": {
    "deletable": false,
    "editable": false,
    "nbgrader": {
     "cell_type": "markdown",
     "checksum": "addfe6f04b3cfed0a1d73dab8620f878",
     "grade": false,
     "grade_id": "cell-1c03c30750425123",
     "locked": true,
     "schema_version": 3,
     "solution": false,
     "task": false
    }
   },
   "source": [
    "Given a position $(x,y)$, the particle executes a random displacement in the $x$-direction <i>and</i> in the $y$-direction. Complete the function below to accomplish this."
   ]
  },
  {
   "cell_type": "code",
   "execution_count": 110,
   "metadata": {
    "deletable": false,
    "nbgrader": {
     "cell_type": "code",
     "checksum": "3f059c1652a5356c712368b40589319b",
     "grade": false,
     "grade_id": "cell-0110bd5046ade10c",
     "locked": false,
     "schema_version": 3,
     "solution": true,
     "task": false
    }
   },
   "outputs": [],
   "source": [
    "def rw2d(x,y):\n",
    "    xnew = x + int(np.sign(np.random.randint(0,2)-0.5))\n",
    "    ynew = y + int(np.sign(np.random.randint(0,2)-0.5))\n",
    "\n",
    "    return xnew, ynew"
   ]
  },
  {
   "cell_type": "markdown",
   "metadata": {
    "deletable": false,
    "editable": false,
    "nbgrader": {
     "cell_type": "markdown",
     "checksum": "666730b089c918ca581c2e125a53448c",
     "grade": false,
     "grade_id": "cell-54750b87540cbd6e",
     "locked": true,
     "schema_version": 3,
     "solution": false,
     "task": false
    }
   },
   "source": [
    "Now we iterate and plot the trajectory. The starting position is denoted with a blue circle, while the ending position is shown as a red circle."
   ]
  },
  {
   "cell_type": "code",
   "execution_count": 111,
   "metadata": {
    "deletable": false,
    "editable": false,
    "nbgrader": {
     "cell_type": "code",
     "checksum": "f66c410489793fb5df2b65e177e09bb6",
     "grade": false,
     "grade_id": "cell-2ebd737434ffde9c",
     "locked": true,
     "schema_version": 3,
     "solution": false,
     "task": false
    }
   },
   "outputs": [],
   "source": [
    "for n in range(0,Nt-1):\n",
    "    x[n+1], y[n+1] = rw2d(x[n],y[n])"
   ]
  },
  {
   "cell_type": "code",
   "execution_count": 112,
   "metadata": {
    "deletable": false,
    "editable": false,
    "nbgrader": {
     "cell_type": "code",
     "checksum": "5fea3d186f917f6762db3ee29283469c",
     "grade": false,
     "grade_id": "cell-5e8f7523200e5a07",
     "locked": true,
     "schema_version": 3,
     "solution": false,
     "task": false
    }
   },
   "outputs": [
    {
     "data": {
      "image/png": "[encoded data removed]",
      "text/plain": [
       "<Figure size 640x480 with 1 Axes>"
      ]
     },
     "metadata": {},
     "output_type": "display_data"
    }
   ],
   "source": [
    "plt.plot(x,y)\n",
    "plt.plot(x[0],y[0],'bo')\n",
    "plt.plot(x[Nt-1],y[Nt-1],'ro')\n",
    "plt.xlabel('x')\n",
    "plt.ylabel('y')\n",
    "plt.show()"
   ]
  },
  {
   "cell_type": "markdown",
   "metadata": {
    "deletable": false,
    "editable": false,
    "nbgrader": {
     "cell_type": "markdown",
     "checksum": "032ce62431d42a97bff0e6a4e7ee9dad",
     "grade": false,
     "grade_id": "cell-fa9ee447bcfd085b",
     "locked": true,
     "schema_version": 3,
     "solution": false,
     "task": false
    }
   },
   "source": [
    "The diagonal lines arise because each step involves moving in both direction (hence, <i>diagonally</i>). We <i>could</i> add a couple of extra lines to show the motion on the actual \"grid,\" but it's probably more effort than it's worth. Try cranking up `Nt` to see what kinds of patterns you get."
   ]
  },
  {
   "cell_type": "code",
   "execution_count": 113,
   "metadata": {
    "deletable": false,
    "editable": false,
    "nbgrader": {
     "cell_type": "code",
     "checksum": "002cc6ba77e51df6fd56845e98dcec35",
     "grade": false,
     "grade_id": "cell-6f40371e5bf45ca6",
     "locked": true,
     "schema_version": 3,
     "solution": false,
     "task": false
    }
   },
   "outputs": [
    {
     "data": {
      "image/png": "[encoded data removed]",
      "text/plain": [
       "<Figure size 640x480 with 1 Axes>"
      ]
     },
     "metadata": {},
     "output_type": "display_data"
    }
   ],
   "source": [
    "Nt = 10000\n",
    "x = np.zeros(Nt)\n",
    "y = np.zeros(Nt)\n",
    "\n",
    "for n in range(0,Nt-1):\n",
    "    x[n+1], y[n+1] = rw2d(x[n],y[n])\n",
    "    \n",
    "plt.plot(x,y)\n",
    "plt.plot(x[0],y[0],'bo')\n",
    "plt.plot(x[Nt-1],y[Nt-1],'ro')\n",
    "plt.xlabel('x')\n",
    "plt.ylabel('y')\n",
    "plt.show()"
   ]
  },
  {
   "cell_type": "markdown",
   "metadata": {
    "deletable": false,
    "editable": false,
    "nbgrader": {
     "cell_type": "markdown",
     "checksum": "4a4f97db62597002175d9cd0c2605804",
     "grade": false,
     "grade_id": "cell-c4dbe3fd78a96094",
     "locked": true,
     "schema_version": 3,
     "solution": false,
     "task": false
    }
   },
   "source": [
    "The <i>claim</i> is that a trajectory like this is qualitatively similar to that of a single molecule (of say, perfume... or poison gas) diffusing through the air. \n",
    "\n",
    "Now, let us consider a large number of particles initially localized near the origin, like you just did in one dimension. Instead of a plot, the most effective visualization is an image plot, or heat map."
   ]
  },
  {
   "cell_type": "code",
   "execution_count": 114,
   "metadata": {
    "deletable": false,
    "editable": false,
    "nbgrader": {
     "cell_type": "code",
     "checksum": "e0dba4355637aafdf79a188e36d29906",
     "grade": false,
     "grade_id": "cell-dc29b555f6ea9fcf",
     "locked": true,
     "schema_version": 3,
     "solution": false,
     "task": false
    }
   },
   "outputs": [
    {
     "data": {
      "image/png": "[encoded data removed]",
      "text/plain": [
       "<Figure size 640x480 with 1 Axes>"
      ]
     },
     "metadata": {},
     "output_type": "display_data"
    }
   ],
   "source": [
    "Np = 5000\n",
    "N = 100\n",
    "Nt = 100\n",
    "\n",
    "ρ = np.zeros((N,N,Nt))\n",
    "ic = int(np.floor(N/2))\n",
    "jc = int(np.floor(N/2))\n",
    "\n",
    "ρ[ic-1:ic+1,jc-1:jc+1,0] = Np\n",
    "\n",
    "plt.imshow(ρ[:,:,0],cmap='gray')\n",
    "plt.show()"
   ]
  },
  {
   "cell_type": "markdown",
   "metadata": {
    "deletable": false,
    "editable": false,
    "nbgrader": {
     "cell_type": "markdown",
     "checksum": "596f999f0062b03dc6d02d2872ad9293",
     "grade": false,
     "grade_id": "cell-90d653987bae270c",
     "locked": true,
     "schema_version": 3,
     "solution": false,
     "task": false
    }
   },
   "source": [
    "Generalize your function `rwalk1d()` to scan over a two-dimensional system and perform a random walk step in two dimensions on each particle."
   ]
  },
  {
   "cell_type": "code",
   "execution_count": 115,
   "metadata": {
    "deletable": false,
    "nbgrader": {
     "cell_type": "code",
     "checksum": "6caa10c1887b032690875bb9f20a0d8c",
     "grade": false,
     "grade_id": "cell-66db8bc12cd4b4f0",
     "locked": false,
     "schema_version": 3,
     "solution": true,
     "task": false
    }
   },
   "outputs": [],
   "source": [
    "def rwalk2d(ρ):\n",
    "    N = len(ρ)\n",
    "    ρnew = np.zeros((N,N))\n",
    "    \n",
    "    for i in range(0,N):\n",
    "        for j in range(0,N):\n",
    "            n = int(ρ[i,j])\n",
    "            for k in range(0,n):\n",
    "                xnew = i + int(np.sign(np.random.rand()-0.5))\n",
    "                ynew = j + int(np.sign(np.random.rand()-0.5))\n",
    "                if(0 <= xnew <= N-1) and (0 <= ynew <= N-1):\n",
    "                    ρnew[xnew,ynew] = ρnew[xnew,ynew]+1\n",
    "\n",
    "    return ρnew"
   ]
  },
  {
   "cell_type": "code",
   "execution_count": 116,
   "metadata": {
    "deletable": false,
    "editable": false,
    "nbgrader": {
     "cell_type": "code",
     "checksum": "4da5701c68679e4ce81a89978b46e0a9",
     "grade": false,
     "grade_id": "cell-82328fb35789ddcf",
     "locked": true,
     "schema_version": 3,
     "solution": false,
     "task": false
    }
   },
   "outputs": [],
   "source": [
    "for n in range(0,Nt-1):\n",
    "    ρ[:,:,n+1] = rwalk2d(ρ[:,:,n])"
   ]
  },
  {
   "cell_type": "code",
   "execution_count": 117,
   "metadata": {
    "deletable": false,
    "editable": false,
    "nbgrader": {
     "cell_type": "code",
     "checksum": "2d5e509c67822d5b45e8146279270116",
     "grade": false,
     "grade_id": "cell-bfc8fcf0e7990761",
     "locked": true,
     "schema_version": 3,
     "solution": false,
     "task": false
    }
   },
   "outputs": [
    {
     "data": {
      "image/png": "[encoded data removed]",
      "text/plain": [
       "<Figure size 640x480 with 1 Axes>"
      ]
     },
     "metadata": {},
     "output_type": "display_data"
    }
   ],
   "source": [
    "for n in range(0,Nt):\n",
    "    sleep(0.01) # Sets the maximum animation speed\n",
    "    plt.imshow(ρ[:,:,n],cmap='gray')\n",
    "    clear_output(wait=True)\n",
    "    plt.show()"
   ]
  }
 ],
 "metadata": {
  "kernelspec": {
   "display_name": "Python 3 (ipykernel)",
   "language": "python",
   "name": "python3"
  },
  "language_info": {
   "codemirror_mode": {
    "name": "ipython",
    "version": 3
   },
   "file_extension": ".py",
   "mimetype": "text/x-python",
   "name": "python",
   "nbconvert_exporter": "python",
   "pygments_lexer": "ipython3",
   "version": "3.9.13"
  }
 },
 "nbformat": 4,
 "nbformat_minor": 4
}
