{
 "cells": [
  {
   "cell_type": "markdown",
   "metadata": {
    "deletable": false,
    "editable": false,
    "nbgrader": {
     "cell_type": "markdown",
     "checksum": "306243ced996a9d3f63a570f51c9d89b",
     "grade": false,
     "grade_id": "cell-7f3f0d8d9475fb4f",
     "locked": true,
     "schema_version": 3,
     "solution": false,
     "task": false
    }
   },
   "source": [
    "<h1>PHY 2200 - Computational Physics</h1>\n",
    "<h2>Spring 2023</h2>"
   ]
  },
  {
   "cell_type": "markdown",
   "metadata": {
    "deletable": false,
    "editable": false,
    "nbgrader": {
     "cell_type": "markdown",
     "checksum": "b9e2d2b44da08ecbd4f15707901c97a6",
     "grade": false,
     "grade_id": "cell-9acd13e15941811a",
     "locked": true,
     "schema_version": 3,
     "solution": false,
     "task": false
    }
   },
   "source": [
    "<h2>Physical applications of RK4</h2>"
   ]
  },
  {
   "cell_type": "code",
   "execution_count": null,
   "metadata": {
    "deletable": false,
    "editable": false,
    "nbgrader": {
     "cell_type": "code",
     "checksum": "90d6afb80cfc21cd35992d6308aa75db",
     "grade": false,
     "grade_id": "cell-53442b0496c570e6",
     "locked": true,
     "schema_version": 3,
     "solution": false,
     "task": false
    }
   },
   "outputs": [],
   "source": [
    "import numpy as np\n",
    "from matplotlib import pyplot as plt"
   ]
  },
  {
   "cell_type": "markdown",
   "metadata": {
    "deletable": false,
    "editable": false,
    "nbgrader": {
     "cell_type": "markdown",
     "checksum": "4b94e4434a21d5f0aef7ef1b15f93499",
     "grade": false,
     "grade_id": "cell-5bab1f5e4f0ff2a1",
     "locked": true,
     "schema_version": 3,
     "solution": false,
     "task": false
    }
   },
   "source": [
    "The purpose of this section is to use the basic RK4 method to explore models. To this end, let's recap and generalize our RK4 method. To summarize where we are, we can take a first-order differential equation of the form\n",
    "\n",
    "$$\\frac{dx}{dt} = f(x,t)$$\n",
    "\n",
    "and approximate the solution by slicing the time interval into tiny steps of size $\\Delta t$. Given $x_{0} = x(0)$, we can compute\n",
    "\n",
    "$$x_{n+1} = x_{n} + \\frac{1}{6}\\left(k_{1} + 2k_{2} +2k_{3}+ k_{4}\\right),$$\n",
    "\n",
    "where \n",
    "\n",
    "$$k_{1} = \\Delta t f\\left(x_{n},t_{n}\\right)$$\n",
    "$$k_{2} = \\Delta t f\\left(x_{n} + \\frac{1}{2}k_{1},t_{n} + \\frac{1}{2}\\Delta t\\right)$$\n",
    "$$k_{3} = \\Delta t f\\left(x_{n} + \\frac{1}{2}k_{2},t_{n} + \\frac{1}{2}\\Delta t\\right)$$\n",
    "$$k_{4} = \\Delta t f\\left(x_{n} + k_{3},t_{n} + \\Delta t\\right)$$\n",
    "$$t_{n} = n\\Delta t$$\n",
    "\n",
    "Great! But this only applies to a single <b>first order differential equation</b>. Consider the <b>van der Pol</b> oscillator, which describes a certain type of circuit employing vacuum tubes:\n",
    "\n",
    "$$\\frac{d^{2}x}{dt^{2}} - \\mu(1-x^{2})\\frac{dx}{dt} + x = 0$$\n",
    "\n",
    "How does one use Runge-Kutta methods for a higher-order equation (note the second derivative) like this? On a related note, look at the following \"predator-prey\" model for a popualation of rabbits ($r(t)$) and foxes ($f(t)$)\n",
    "\n",
    "$$\\frac{dr}{dt} = \\alpha r -\\beta r f$$\n",
    "\n",
    "$$\\frac{df}{dt} = -\\delta rf + \\gamma f$$\n",
    "\n",
    "We say these equations are <b>coupled</b> because each equation contains both unknown functions so the dynamics of each is affected by both values. As it turns out, the higher-order equations are <i>equivalent</i> to a (potentially) coupled system of first order equations. If we take the van der Pol oscillator and define\n",
    "\n",
    "$$y = \\frac{dx}{dt}$$\n",
    "\n",
    "as a new function, the van der Pol equation becomes\n",
    "\n",
    "$$\\frac{dy}{dt} - \\mu(1-x^{2})y + x = 0$$\n",
    "\n",
    "since $\\frac{d^{2}x}{dt^{2}} = \\frac{dy}{dt}$. Now it's certainly true that $x$ and $y$ are not independent (one is the derivative of the other), but using this redundant notation we can summarize the system in terms of two first-order equations:\n",
    "\n",
    "$$\\frac{dx}{dt} = y$$\n",
    "$$\\frac{dy}{dt} = -x+\\mu(1-x^{2})y$$\n",
    "\n",
    "In <i>this</i> case, the second equation couples the two variables. This trick can be repeated for higher-order equations. So now both problems are reduced to the same class: how to solve coupled equations? The <i>problem</i> is that we can't solve one without knowing the other in order to apply Runge-Kutta. The <i>solution</i> is to do Runge-Kutta on both at the same time. Hang on here because the notation becomes a little nauseating. Given\n",
    "\n",
    "$$\\frac{dx}{dt} = F(x,y,t)$$\n",
    "$$\\frac{dy}{dt} = G(x,y,t)$$ \n",
    "\n",
    "for some functions $F(x,y,t)$ and $G(x,y,t)$, we assume we know $x_{0} = x(0)$ and $y_{0} = y(0)$. Then \n",
    "\n",
    "$$x_{n+1} = x_{n} + \\frac{1}{6}\\left(k_{1x}+2k_{2x}+2k_{3x} + k_{4x}\\right)$$\n",
    "\n",
    "$$y_{n+1} = y_{n} + \\frac{1}{6}\\left(k_{1y}+2k_{2y}+2k_{3y} + k_{4y}\\right)$$\n",
    "\n",
    "where \n",
    "\n",
    "$$k_{1x} = \\Delta t F(x_{n},y_{n},t_{n})$$\n",
    "\n",
    "$$k_{1y} = \\Delta t G(x_{n},y_{n},t_{n})$$\n",
    "\n",
    "$$k_{2x} = \\Delta t F\\left(x_{n}+\\frac{1}{2}k_{1x},y_{n}+\\frac{1}{2}k_{1y},t_{n} + \\frac{1}{2}\\Delta t\\right)$$\n",
    "\n",
    "$$k_{2y} = \\Delta t G\\left(x_{n}+\\frac{1}{2}k_{1x},y_{n}+\\frac{1}{2}k_{1y},t_{n} + \\frac{1}{2}\\Delta t\\right)$$\n",
    "\n",
    "$$k_{3x} = \\Delta t F\\left(x_{n}+\\frac{1}{2}k_{2x},y_{n}+\\frac{1}{2}k_{2y},t_{n} + \\frac{1}{2}\\Delta t\\right)$$\n",
    "\n",
    "$$k_{3y} = \\Delta t G\\left(x_{n}+\\frac{1}{2}k_{2x},y_{n}+\\frac{1}{2}k_{2y},t_{n} + \\frac{1}{2}\\Delta t\\right)$$\n",
    "\n",
    "$$k_{4x} = \\Delta t F\\left(x_{n}+k_{3x},y_{n}+k_{3y},t_{n} + \\Delta t\\right)$$\n",
    "\n",
    "$$k_{4y} = \\Delta t G\\left(x_{n}+k_{3x},y_{n}+k_{3y},t_{n} + \\Delta t\\right)$$\n",
    "\n",
    "In principle, <i>that's it</i>. It will make our lives a little easier, especially when generalizing to higher-order systems, to add one extra step. Let's take the van der Pol oscillator. As a first step, let's define a function that evaluates $\\frac{dx}{dt}$ and $\\frac{dy}{dt}$ given $x$ and $y$ (and $t$, but that's not needed in this case). \n",
    "\n",
    "As an attempt at \"good\" practice, we'll pass in the parameters (in this case just $\\mu$) as an array. This practice will generalize nicely to more complicated systems with multiple parameters without having to restructure much. Additionally, we'll store all dynamical variables in a <i>single</i> array `x`, $x(t)\\rightarrow$ `x[0]`, $y(t)\\rightarrow$ `x[1]`. This might seem strange, but it simplifies the notation greatly."
   ]
  },
  {
   "cell_type": "code",
   "execution_count": null,
   "metadata": {
    "deletable": false,
    "editable": false,
    "nbgrader": {
     "cell_type": "code",
     "checksum": "7dbe46dfade858cc28e12cbc03802be0",
     "grade": false,
     "grade_id": "cell-e368ca2600450454",
     "locked": true,
     "schema_version": 3,
     "solution": false,
     "task": false
    }
   },
   "outputs": [],
   "source": [
    "def vdpF(x,t,param):\n",
    "    μ = param[0]\n",
    "    return np.array([x[1],-x[0]+μ*(1-x[0]**2)*x[1]])"
   ]
  },
  {
   "cell_type": "markdown",
   "metadata": {
    "deletable": false,
    "editable": false,
    "nbgrader": {
     "cell_type": "markdown",
     "checksum": "c3baf4cec86c3b96226a0cefd39c32c2",
     "grade": false,
     "grade_id": "cell-32cf3c746be4cf07",
     "locked": true,
     "schema_version": 3,
     "solution": false,
     "task": false
    }
   },
   "source": [
    "Below is a <i>generic</i> function to compute a single RK4 step for some system of any number of variables $\\vec{x}(t)$ with independent variable $t$, step size `dt`, and some array of parameters. We don't need to know what the parameters are (or even how many there) because we ultimately just pass them to the derivative function which should be written to extract them correctly. The following function can (and <i>should</i>) be reused for every single exercise in this notebook. You have earned it."
   ]
  },
  {
   "cell_type": "code",
   "execution_count": null,
   "metadata": {
    "deletable": false,
    "editable": false,
    "nbgrader": {
     "cell_type": "code",
     "checksum": "6df733b0755299e52ecdb3f32c3e86a2",
     "grade": false,
     "grade_id": "cell-1ac0e55a5c228d24",
     "locked": true,
     "schema_version": 3,
     "solution": false,
     "task": false
    }
   },
   "outputs": [],
   "source": [
    "def rk4step(x,t,dxdt,dt,param):\n",
    "    xn = np.zeros(len(x))\n",
    "    \n",
    "    k1 = dt*dxdt(x,t,param)\n",
    "    k2 = dt*dxdt(x+0.5*k1,t+0.5*dt,param)\n",
    "    k3 = dt*dxdt(x+0.5*k2,t+0.5*dt,param)\n",
    "    k4 = dt*dxdt(x+k3,t+dt,param)\n",
    "    \n",
    "    for i in range(0,len(x)):\n",
    "        xn[i] = x[i] + (1.0/6.0)*(k1[i]+2*k2[i]+2*k3[i]+k4[i])\n",
    "    return xn"
   ]
  },
  {
   "cell_type": "markdown",
   "metadata": {
    "deletable": false,
    "editable": false,
    "nbgrader": {
     "cell_type": "markdown",
     "checksum": "47f120ce7d3b319d62efccb1c13fc69b",
     "grade": false,
     "grade_id": "cell-e22e4531aae8bc15",
     "locked": true,
     "schema_version": 3,
     "solution": false,
     "task": false
    }
   },
   "source": [
    "Now we can apply RK4 to the van der pol system. We'll take $\\mu = 0.6$ and $x(0) = 1$, $y(0) = 0$. Note that for $\\mu = 0$, you get a simple harmonic oscillator. Always check cases like this to make sure you get results that seem reasonable."
   ]
  },
  {
   "cell_type": "code",
   "execution_count": null,
   "metadata": {
    "deletable": false,
    "editable": false,
    "nbgrader": {
     "cell_type": "code",
     "checksum": "8e8a87421e7ab70490a6f8b2a49f7f67",
     "grade": false,
     "grade_id": "cell-527e0126cbc3b2ed",
     "locked": true,
     "schema_version": 3,
     "solution": false,
     "task": false
    }
   },
   "outputs": [],
   "source": [
    "N = 1000\n",
    "dt = 0.01\n",
    "t = np.linspace(0,(N-1)*dt,N)\n",
    "\n",
    "μ = 0.60 #μ\n",
    "param = np.array([μ])\n",
    "x = np.zeros(N)\n",
    "y = np.zeros(N)\n",
    "\n",
    "x[0] = 1.0\n",
    "y[0] = 0.0\n",
    "\n",
    "for i in range(0,N-1):\n",
    "    xn = rk4step([x[i],y[i]],t[i],vdpF,dt,param)\n",
    "    x[i+1] = xn[0]\n",
    "    y[i+1] = xn[1]\n",
    "    \n",
    "plt.plot(t,x)\n",
    "plt.plot(t,y)\n",
    "plt.xlabel('t')\n",
    "plt.ylabel('x,y')\n",
    "plt.legend(['x','y'])\n",
    "plt.show()"
   ]
  },
  {
   "cell_type": "markdown",
   "metadata": {
    "deletable": false,
    "editable": false,
    "nbgrader": {
     "cell_type": "markdown",
     "checksum": "9a71214c1497543aec1c490b2ba6ad1d",
     "grade": false,
     "grade_id": "cell-cb75159ddb8179e2",
     "locked": true,
     "schema_version": 3,
     "solution": false,
     "task": false
    }
   },
   "source": [
    "Check that as $\\mu\\rightarrow 0$, the solutions $x(t)$ and $y(t)$ smoothly turn into cosine/sine functions. In principle, you can generalize this to any number of equations (as you shall below!)."
   ]
  },
  {
   "cell_type": "markdown",
   "metadata": {
    "deletable": false,
    "editable": false,
    "nbgrader": {
     "cell_type": "markdown",
     "checksum": "456ea074573f1280e75f61a8033bf5eb",
     "grade": false,
     "grade_id": "cell-e4077d2423649018",
     "locked": true,
     "schema_version": 3,
     "solution": false,
     "task": false
    }
   },
   "source": [
    "<h2>Exercises</h2>"
   ]
  },
  {
   "cell_type": "markdown",
   "metadata": {
    "deletable": false,
    "editable": false,
    "nbgrader": {
     "cell_type": "markdown",
     "checksum": "ea4fed6c1a68154b6af1898e6576ec8f",
     "grade": false,
     "grade_id": "cell-6fb9e1624eeac929",
     "locked": true,
     "schema_version": 3,
     "solution": false,
     "task": false
    }
   },
   "source": [
    "<h3>1. Lame-Emden</h3>"
   ]
  },
  {
   "cell_type": "markdown",
   "metadata": {
    "deletable": false,
    "editable": false,
    "nbgrader": {
     "cell_type": "markdown",
     "checksum": "02075934f10824d8ceb4c03342a3b3de",
     "grade": false,
     "grade_id": "cell-ed34a54d2355e7be",
     "locked": true,
     "schema_version": 3,
     "solution": false,
     "task": false
    }
   },
   "source": [
    "The Lane-Emden equation,\n",
    "\n",
    "$$\\frac{1}{x^{2}}\\frac{d}{dx}\\left(x^{2}\\frac{df}{dx}\\right) + f^{n} = 0$$\n",
    "\n",
    "describes the density $f(x)$ of a spherically symmetric self gravitating fluid (i.e., a star) as a function of the distance from the center $x$. Note that instead of $x=x(t)$, we are considering $f=f(x)$. Here $x$ plays the same role as time (the <i>independent</i> variable) did in previous examples. The parameter $n$ is known as the polytropic index and is related to the microscopic details of the fluid (which do <i>not</i> concern us here). By evaluating the derivative, we get\n",
    "\n",
    "$$\\frac{d^{2}f}{dx^{2}} + \\frac{2}{x}\\frac{df}{dx} + f^{n} = 0$$\n",
    "\n",
    "Rewrite this second order equation and apply RK4 to solve for $f(x)$. You might find it helpful to know that exact solutions exist for several values of $n$. For example, when $n=1$, the solution is $f(x) = \\frac{\\sin x}{x}$ for initial conditions $f(0) = 1$, $f'(0) = 0$. Let $g = \\frac{df}{dx}$ for notational consistency with what is provided below. Use the function `leF(f,x,param)` to compute the derivatives in the Lane-Emden system. Your only parameter is $n$. Then use the function `rk4step()` to return the values of $f(x)$ and $g(x)$ computed using RK4.\n",
    "\n",
    "<b>Technical note: </b> You should find that your derivative for $g$ has a term proportional to $\\frac{1}{x}g(x)$. This blows up as $x\\rightarrow 0$ unless $g(0) = 0$. To avoid numerical problems, we start from a very small (nonzero) value of $x$ rather than $x=0$."
   ]
  },
  {
   "cell_type": "code",
   "execution_count": null,
   "metadata": {
    "deletable": false,
    "nbgrader": {
     "cell_type": "code",
     "checksum": "f27569d072a4825649304c9151214c0a",
     "grade": false,
     "grade_id": "cell-9f50cbb7cc5ff52c",
     "locked": false,
     "schema_version": 3,
     "solution": true,
     "task": false
    }
   },
   "outputs": [],
   "source": [
    "N = 1000\n",
    "dx = 0.002\n",
    "\n",
    "x = np.linspace(1e-9,dx*(N-1),N)\n",
    "\n",
    "def leF(f,x,param):\n",
    "    # YOUR CODE HERE\n",
    "    raise NotImplementedError()\n",
    "    \n",
    "f = np.zeros(N)\n",
    "g = np.zeros(N)\n",
    "\n",
    "f[0] = 1.0\n",
    "g[0] = 0.0   \n",
    "n = 1\n",
    "param = np.array([n])\n",
    "\n",
    "for i in range(0,N-1):\n",
    "    fn = rk4step([f[i],g[i]],x[i],leF,dx,param)\n",
    "    f[i+1] = fn[0]\n",
    "    g[i+1] = fn[1]"
   ]
  },
  {
   "cell_type": "markdown",
   "metadata": {
    "deletable": false,
    "editable": false,
    "nbgrader": {
     "cell_type": "markdown",
     "checksum": "c48756f5b0aac7ef7dcb9b664b96f076",
     "grade": false,
     "grade_id": "cell-5a7361c72fd8933c",
     "locked": true,
     "schema_version": 3,
     "solution": false,
     "task": false
    }
   },
   "source": [
    "Now make a plot for $n=1$ and compare to the exact solution."
   ]
  },
  {
   "cell_type": "code",
   "execution_count": null,
   "metadata": {
    "deletable": false,
    "nbgrader": {
     "cell_type": "code",
     "checksum": "a18dbfaefd4a4ec80bf09d17c66a735c",
     "grade": false,
     "grade_id": "cell-48aaf7d59722a594",
     "locked": false,
     "schema_version": 3,
     "solution": true,
     "task": false
    }
   },
   "outputs": [],
   "source": [
    "# YOUR CODE HERE\n",
    "raise NotImplementedError()"
   ]
  },
  {
   "cell_type": "code",
   "execution_count": null,
   "metadata": {
    "deletable": false,
    "editable": false,
    "nbgrader": {
     "cell_type": "code",
     "checksum": "a5975228515fb430d75faa21b215b929",
     "grade": true,
     "grade_id": "cell-355f554673432533",
     "locked": true,
     "points": 10,
     "schema_version": 3,
     "solution": false,
     "task": false
    }
   },
   "outputs": [],
   "source": [
    "'''case1'''\n",
    "assert np.isclose(leF([1,0],0.001,[1]),np.array([ 0., -1.]),atol=1e-5).all()\n",
    "'''case2'''\n",
    "ft = np.sin(x)/x\n",
    "f1 = np.zeros(N)\n",
    "g1 = np.zeros(N)\n",
    "\n",
    "f1[0] = 1.0\n",
    "g1[0] = 0.0   \n",
    "n = 1\n",
    "param = np.array([n])\n",
    "\n",
    "for i in range(0,N-1):\n",
    "    fn = rk4step([f1[i],g1[i]],x[i],leF,dx,param)\n",
    "    f1[i+1] = fn[0]\n",
    "    g1[i+1] = fn[1]\n",
    "assert np.isclose(ft,f1,atol=1e-5).all()\n",
    "'''case3'''\n",
    "ft = 1-x**2/6\n",
    "f1 = np.zeros(N)\n",
    "g1 = np.zeros(N)\n",
    "\n",
    "f1[0] = 1.0\n",
    "g1[0] = 0.0   \n",
    "n = 0\n",
    "param = np.array([n])\n",
    "\n",
    "for i in range(0,N-1):\n",
    "    fn = rk4step([f1[i],g1[i]],x[i],leF,dx,param)\n",
    "    f1[i+1] = fn[0]\n",
    "    g1[i+1] = fn[1]\n",
    "assert np.isclose(ft,f1,atol=1e-5).all()\n",
    "'''case4'''\n",
    "ft = 1/np.sqrt(1+x**2/3)\n",
    "f1 = np.zeros(N)\n",
    "g1 = np.zeros(N)\n",
    "\n",
    "f1[0] = 1.0\n",
    "g1[0] = 0.0   \n",
    "n = 5\n",
    "param = np.array([n])\n",
    "\n",
    "for i in range(0,N-1):\n",
    "    fn = rk4step([f1[i],g1[i]],x[i],leF,dx,param)\n",
    "    f1[i+1] = fn[0]\n",
    "    g1[i+1] = fn[1]\n",
    "assert np.isclose(ft,f1,atol=1e-5).all()"
   ]
  },
  {
   "cell_type": "markdown",
   "metadata": {
    "deletable": false,
    "editable": false,
    "nbgrader": {
     "cell_type": "markdown",
     "checksum": "d606e7a2e15a238828c8bc6284f53032",
     "grade": false,
     "grade_id": "cell-dc4eb37015ccc9f1",
     "locked": true,
     "schema_version": 3,
     "solution": false,
     "task": false
    }
   },
   "source": [
    "To simplify the notation, we're using a \"dimensionless\" version of the Lane-Emden equation. This means that the density $f(x)$ and $x$ you're calculating/using are in funky units. That means `x=3` does <i>not</i> correspond to 3 meters.\n",
    "\n",
    "One of the useful things about the Lane-Emden equation, is that it allows you to calculate the theoretical radius of the star by looking for where $f(x)$ goes to zero within this particular model (assuming some fixed mass). Note that the equation has mathematical solutions which allow $f(x)$ to be negative. Density is a non-negative quantity, so the solution is only physical for $f(x)>0$. The density starts at $f(x) = 1$ at the center ($x=0$) and decreases as one moves outward. The star exists until $f(x)$ drops to zero at some value $x = x_{0}$ ($f(x_{0}) = 0$). A simpleminded (but decent) way to calculate this radius is to use a loop that moves through the solution and checks for where $f(x)$ changes sign. Write a function the returns the (approximate) radius of the star for a given value of $n$. Check that it gives about $x_{0} = \\pi$ for $n = 1$.  "
   ]
  },
  {
   "cell_type": "code",
   "execution_count": null,
   "metadata": {
    "deletable": false,
    "nbgrader": {
     "cell_type": "code",
     "checksum": "98bfac8b90f72b34166a260540fa7c52",
     "grade": false,
     "grade_id": "cell-c0b38c9dde1d23df",
     "locked": false,
     "schema_version": 3,
     "solution": true,
     "task": false
    }
   },
   "outputs": [],
   "source": [
    "N = 1000\n",
    "dx = 0.005\n",
    "x = np.linspace(1e-9,dx*(N-1),N)\n",
    "\n",
    "def radius(n):\n",
    "    # YOUR CODE HERE\n",
    "    raise NotImplementedError()"
   ]
  },
  {
   "cell_type": "code",
   "execution_count": null,
   "metadata": {
    "deletable": false,
    "editable": false,
    "nbgrader": {
     "cell_type": "code",
     "checksum": "5a17d62d4132b3f13c76d70193dbefe6",
     "grade": true,
     "grade_id": "cell-79d69f32bcad8b17",
     "locked": true,
     "points": 10,
     "schema_version": 3,
     "solution": false,
     "task": false
    }
   },
   "outputs": [],
   "source": [
    "'''case1'''\n",
    "assert np.isclose(radius(1),np.pi,atol=1e-2).all()\n",
    "'''case2'''\n",
    "assert np.isclose(radius(0),np.sqrt(6),atol=1e-2).all()"
   ]
  },
  {
   "cell_type": "markdown",
   "metadata": {
    "deletable": false,
    "editable": false,
    "nbgrader": {
     "cell_type": "markdown",
     "checksum": "3e506a531c91f27d73f3e86ea8dab429",
     "grade": false,
     "grade_id": "cell-6d90b34bc80f08eb",
     "locked": true,
     "schema_version": 3,
     "solution": false,
     "task": false
    }
   },
   "source": [
    "What happens for $n = 5$? You won't find a zero for the range used above. Look at the function, and determine what it does at large values of $x$. "
   ]
  },
  {
   "cell_type": "markdown",
   "metadata": {
    "deletable": false,
    "editable": false,
    "nbgrader": {
     "cell_type": "markdown",
     "checksum": "aed89d9f9e5c9a3104d98d07cf64e90c",
     "grade": false,
     "grade_id": "cell-565c4753e48bda71",
     "locked": true,
     "schema_version": 3,
     "solution": false,
     "task": false
    }
   },
   "source": [
    "<h3>2. Fitzhugh-Nagumo</h3>"
   ]
  },
  {
   "cell_type": "markdown",
   "metadata": {
    "deletable": false,
    "editable": false,
    "nbgrader": {
     "cell_type": "markdown",
     "checksum": "fda4f1021f09ea0623c3c5e624adbf9c",
     "grade": false,
     "grade_id": "cell-5a2c4516bb1836ff",
     "locked": true,
     "schema_version": 3,
     "solution": false,
     "task": false
    }
   },
   "source": [
    "The <b>Fitzhugh-Nagumo (FHN)</b> system is a simplified model for the electrical dynamics of neurons and cardiac cells--jointly referred to as <b>excitable cells</b>. Models for such cells typically consist of two or more dynamical variables with one corresponding to the electric potential across the cell's membrane, $u(t)$. In more complex models, one keeps track of various gating variables or ionic currents. In the FHN system, all of these microscopic variables are lumped into one quantity $v(t)$ which is referred to as the \"inhibitory response.\"\n",
    "\n",
    "$$\\frac{du}{dt} = u(u-a)(1-u) - v + c$$\n",
    "$$\\frac{dv}{dt} = \\epsilon (u-bv)$$\n",
    "\n",
    "Common parameter choices are $a = 0.15$, $b = 2.5$, $\\epsilon = 0.008$. The constant $c$ corresponds to a leakage current which deposits charge on the outside of the cell, gradually increasing the membrane potential. For sufficiently large $c$, charge will accumulate rapidly enough to cause periodic <b>excitation pulses</b>. This is (a highly simplified version of) the basic mechanism which allows your heart to beat regularly. Try $c = 0.05$ to begin.\n",
    "\n",
    "Complete the functions below to return $\\frac{du}{dt}$ and $\\frac{dv}{dt}$ in the FHN equations and then implement the RK4 scheme to calculate $u(t)$ and $v(t)$. Note that now you have <i>several</i> parameters to be packaged <i>but</i> the `rk4step()` function does not need to be modified."
   ]
  },
  {
   "cell_type": "code",
   "execution_count": null,
   "metadata": {
    "deletable": false,
    "nbgrader": {
     "cell_type": "code",
     "checksum": "c0f2d39dadb6592e1434eba1cfd47eaf",
     "grade": false,
     "grade_id": "cell-0a9c02e6a05693ca",
     "locked": false,
     "schema_version": 3,
     "solution": true,
     "task": false
    }
   },
   "outputs": [],
   "source": [
    "N = 2000\n",
    "tmax = 500\n",
    "t = np.linspace(0,tmax,N)\n",
    "dt = t[1]-t[0]\n",
    "\n",
    "u = np.zeros(N)\n",
    "v = np.zeros(N)\n",
    "\n",
    "a = 0.15\n",
    "b = 2.5\n",
    "c = 0.05\n",
    "ϵ=0.008\n",
    "\n",
    "param = np.array([a,b,c,ϵ])\n",
    "\n",
    "def dudt(u,t,param):\n",
    "    #Complete this function to returns [du/dt, dv/dt] as a np array\n",
    "    # YOUR CODE HERE\n",
    "    raise NotImplementedError()\n",
    "\n",
    "for i in range(0,N-1):\n",
    "    un = rk4step([u[i],v[i]],t[i],dudt,dt,param)\n",
    "    u[i+1] = un[0]\n",
    "    v[i+1] = un[1]\n",
    "    \n",
    "plt.plot(t,u)\n",
    "plt.plot(t,v)\n",
    "plt.xlabel('time')\n",
    "plt.ylabel('u,v')\n",
    "plt.show()"
   ]
  },
  {
   "cell_type": "code",
   "execution_count": null,
   "metadata": {
    "deletable": false,
    "editable": false,
    "nbgrader": {
     "cell_type": "code",
     "checksum": "5dd87c7bc82d942ce56cf95521fa0891",
     "grade": true,
     "grade_id": "cell-483bc1dff47313ab",
     "locked": true,
     "points": 5,
     "schema_version": 3,
     "solution": false,
     "task": false
    }
   },
   "outputs": [],
   "source": [
    "'''case1'''\n",
    "assert np.isclose(dudt([1,1],1,[.1,2,.1,.01]),np.array([-0.9 , -0.01])).all()\n",
    "'''case2'''\n",
    "assert np.isclose(dudt([-1,10],1,[.4,3,.2,1]),np.array([ -7., -31.])).all()"
   ]
  },
  {
   "cell_type": "markdown",
   "metadata": {
    "deletable": false,
    "editable": false,
    "nbgrader": {
     "cell_type": "markdown",
     "checksum": "4976f207738b046b36e7f439710ddf1a",
     "grade": false,
     "grade_id": "cell-a9db5fa3888d1eb6",
     "locked": true,
     "schema_version": 3,
     "solution": false,
     "task": false
    }
   },
   "source": [
    "Given the solution $u(t)$ and $v(t)$, one can look at the <b>phase space</b> $(u,v)$ to get a sense for the overal behavior of the system. The dotted lines below show where <i>either</i> $u(t)$ or $v(t)$ has zero derivative. The system is entirely stable (would remain without change) where these dotted lines cross. These dotted lines are referred to in the literature as <b>nullclines</b>. Note how the trajectory follows the so-called \"reverse-N\" nullcline shape."
   ]
  },
  {
   "cell_type": "code",
   "execution_count": null,
   "metadata": {
    "deletable": false,
    "editable": false,
    "nbgrader": {
     "cell_type": "code",
     "checksum": "630e2628fbe7866e7ad488524e60df1c",
     "grade": false,
     "grade_id": "cell-f4e3608590819e4b",
     "locked": true,
     "schema_version": 3,
     "solution": false,
     "task": false
    }
   },
   "outputs": [],
   "source": [
    "uo = np.linspace(-0.4,1.2)\n",
    "v1 = uo*(1-uo)*(uo-a)+c\n",
    "v2 = uo/b\n",
    "\n",
    "plt.plot(u,v)\n",
    "plt.plot(uo,v1,'k--')\n",
    "plt.plot(uo,v2,'k--')\n",
    "plt.xlim(-0.27,1.0)\n",
    "plt.ylim(-0.01,0.2)\n",
    "plt.xlabel('u')\n",
    "plt.ylabel('v')\n",
    "plt.show()"
   ]
  },
  {
   "cell_type": "markdown",
   "metadata": {
    "deletable": false,
    "editable": false,
    "nbgrader": {
     "cell_type": "markdown",
     "checksum": "de54a2a773ccfcfeec939528f5c5c467",
     "grade": false,
     "grade_id": "cell-c73e26c90af9ced6",
     "locked": true,
     "schema_version": 3,
     "solution": false,
     "task": false
    }
   },
   "source": [
    "### 3. Rabbits and foxes"
   ]
  },
  {
   "cell_type": "markdown",
   "metadata": {
    "deletable": false,
    "editable": false,
    "nbgrader": {
     "cell_type": "markdown",
     "checksum": "16f5ad050756cf5e8d86cee8a031a935",
     "grade": false,
     "grade_id": "cell-63e2e6ec18e528fd",
     "locked": true,
     "schema_version": 3,
     "solution": false,
     "task": false
    }
   },
   "source": [
    "Let us return to the model of rabbits and foxes where $r(t)$ ($f(t)$) gives the population of rabbits (foxes),\n",
    "\n",
    "$$\\frac{df}{dt} = \\alpha f -\\beta r f$$\n",
    "\n",
    "$$\\frac{dr}{dt} = -\\delta rf + \\gamma r$$\n",
    "\n",
    "Here $\\alpha$, $\\beta$, $\\delta$, $\\gamma$ are parameters. This is a classic <b>predator-prey</b> model which is actually solvable. The parameters $\\alpha$, $\\gamma$ represent reproduction rates. The other parameters represent some sort of interaction betwen the populations (perhaps foxes <i>feed</i> on the rabbits and depend on their existence). You can read about this model in almost any textbook on differential equations. It's fun, do it!\n",
    "\n",
    "To make the dynamics more interesting, let's consider a slightly more complicated model. We are untethered from exactly solvable models, so we can explore more complex dynamics. Consider the following model:\n",
    "\n",
    "$$\\frac{df}{dt} = \\alpha f - \\beta rf - c_{1}f^{2}$$\n",
    "$$\\frac{dr}{dt} = \\gamma r - \\delta rf - c_{2}r^{2}$$\n"
   ]
  },
  {
   "cell_type": "code",
   "execution_count": null,
   "metadata": {
    "deletable": false,
    "nbgrader": {
     "cell_type": "code",
     "checksum": "beaef742e22093ec736649435a99d247",
     "grade": false,
     "grade_id": "cell-492c180c36d6cbd5",
     "locked": false,
     "schema_version": 3,
     "solution": true,
     "task": false
    }
   },
   "outputs": [],
   "source": [
    "def dxdt(x,t,param):\n",
    "    # YOUR CODE HERE\n",
    "    raise NotImplementedError()"
   ]
  },
  {
   "cell_type": "code",
   "execution_count": null,
   "metadata": {
    "deletable": false,
    "editable": false,
    "nbgrader": {
     "cell_type": "code",
     "checksum": "858126fa8888a534bf20e8d6928905a6",
     "grade": true,
     "grade_id": "cell-bdb699d8883f216c",
     "locked": true,
     "points": 5,
     "schema_version": 3,
     "solution": false,
     "task": false
    }
   },
   "outputs": [],
   "source": [
    "'''case1'''\n",
    "assert np.isclose(dxdt([1,2],0,[1,.1,1,.1,1,1]),np.array([-0.2, -5.8])).all()"
   ]
  },
  {
   "cell_type": "code",
   "execution_count": null,
   "metadata": {
    "deletable": false,
    "nbgrader": {
     "cell_type": "code",
     "checksum": "bac63c50acdc65e2d88c82e505920132",
     "grade": false,
     "grade_id": "cell-493883b9c87e91d1",
     "locked": false,
     "schema_version": 3,
     "solution": true,
     "task": false
    }
   },
   "outputs": [],
   "source": [
    "α = 60\n",
    "c1 = 3\n",
    "β = 4\n",
    "γ = 42\n",
    "δ = 2\n",
    "c2 = 3\n",
    "\n",
    "param = [α,β,c1,γ,δ,c2]\n",
    "N = 2000\n",
    "tmax = 100\n",
    "t = np.linspace(0,tmax,N)\n",
    "dt = t[1]-t[0]\n",
    "\n",
    "fo = 2\n",
    "ro = 2\n",
    "\n",
    "f = np.zeros(N)\n",
    "r = np.zeros(N)\n",
    "\n",
    "f[0] = fo\n",
    "r[0] = ro\n",
    "\n",
    "for i in range(0,N-1):\n",
    "    # YOUR CODE HERE\n",
    "    raise NotImplementedError()\n",
    "    \n",
    "plt.plot(t,f)\n",
    "plt.plot(t,r)\n",
    "plt.legend(['foxes','rabbits'])\n",
    "plt.xlabel('t')\n",
    "plt.ylabel('population')\n",
    "plt.show()"
   ]
  },
  {
   "cell_type": "code",
   "execution_count": null,
   "metadata": {
    "deletable": false,
    "editable": false,
    "nbgrader": {
     "cell_type": "code",
     "checksum": "c72825e9daf3ebd44bf368df3e5bd8a5",
     "grade": false,
     "grade_id": "cell-8cfa6ab233bedcb4",
     "locked": true,
     "schema_version": 3,
     "solution": false,
     "task": false
    }
   },
   "outputs": [],
   "source": [
    "plt.plot(f,r)\n",
    "plt.xlabel('foxes')\n",
    "plt.ylabel('rabbits')\n",
    "plt.show()"
   ]
  },
  {
   "cell_type": "markdown",
   "metadata": {
    "deletable": false,
    "editable": false,
    "nbgrader": {
     "cell_type": "markdown",
     "checksum": "5d316bd4f6d774dc9b6dd75c2bad05e8",
     "grade": false,
     "grade_id": "cell-fa8e5137a13a4b5f",
     "locked": true,
     "schema_version": 3,
     "solution": false,
     "task": false
    }
   },
   "source": [
    "Now let us explore the <i>global</i> behavior. That is, for what initial conditions (initial rabbit/fox populations) will the solution converge to stable equilibrium? Do the populations always stablize? To answer this, we can repeat the calculation many times (say 100) with randomly chosen initial conditions. \n",
    "\n",
    "In the following, set the initial values of the rabbit and fox populations to some random number between 0 and 20. It can be a random integer or a random floating point value (maybe population is measured in millions so 3.56 makes sense). Then use the `rk4step()` function to implement time evolution for each choice of initial conditions. As we move through the loop, the populations will be plotted, so there's no need to save everything in a giant two-dimensional array.\n",
    "\n",
    "<b>Warning: </b> It <i>might</i> take a few moments to compute all of these trajectories. Do not panic if you have to wait a bit. That probably means it's working."
   ]
  },
  {
   "cell_type": "code",
   "execution_count": null,
   "metadata": {
    "deletable": false,
    "nbgrader": {
     "cell_type": "code",
     "checksum": "636ff1fc0565aab31a111a63c605d09c",
     "grade": false,
     "grade_id": "cell-93b5afcd2afac585",
     "locked": false,
     "schema_version": 3,
     "solution": true,
     "task": false
    }
   },
   "outputs": [],
   "source": [
    "N = 10000\n",
    "tmax = 100\n",
    "t = np.linspace(0,tmax,N)\n",
    "dt = t[1]-t[0]\n",
    "\n",
    "for n in range(0,100):\n",
    "    f = np.zeros(N)\n",
    "    r = np.zeros(N)\n",
    "    # YOUR CODE HERE\n",
    "    raise NotImplementedError()\n",
    "    plt.plot(f,r,'b-')\n",
    "    plt.plot(fo,ro,'bo')\n",
    "    plt.plot(f[N-1],r[N-1],'ro')\n",
    "    \n",
    "plt.xlabel('foxes')\n",
    "plt.ylabel('rabbits')\n",
    "plt.show()"
   ]
  },
  {
   "cell_type": "markdown",
   "metadata": {
    "deletable": false,
    "editable": false,
    "nbgrader": {
     "cell_type": "markdown",
     "checksum": "fad512d44b5c2fb085eb22ef6363e2b9",
     "grade": false,
     "grade_id": "cell-37c8145bb1981776",
     "locked": true,
     "schema_version": 3,
     "solution": false,
     "task": false
    }
   },
   "source": [
    "What are you looking at? Each initial point is plotted as a blue dot. The lines show what happens as time passes, and the red dots show where the population ends up. What can you conclude about the dynamics? Are there any stable equilibria (meaning places where the populations tend to settle)?"
   ]
  },
  {
   "cell_type": "markdown",
   "metadata": {
    "deletable": false,
    "editable": false,
    "nbgrader": {
     "cell_type": "markdown",
     "checksum": "ab0a6610860ef8b610a7e5c5c56f5287",
     "grade": false,
     "grade_id": "cell-9eb6e420b9405428",
     "locked": true,
     "schema_version": 3,
     "solution": false,
     "task": false
    }
   },
   "source": [
    "<h3>4. High-altitude free fall</h3>"
   ]
  },
  {
   "cell_type": "markdown",
   "metadata": {
    "deletable": false,
    "editable": false,
    "nbgrader": {
     "cell_type": "markdown",
     "checksum": "80dfb774b32fd86ab4d9fbbfdfd95440",
     "grade": false,
     "grade_id": "cell-240cd6e240e9c566",
     "locked": true,
     "schema_version": 3,
     "solution": false,
     "task": false
    }
   },
   "source": [
    "In October 2012, Felix Baumgartner set the record for high-altitude skydiving, descending from a height of roughly 40km above the New Mexico desert. He was lifted in a capsule by a fairly large balloon. \n",
    "\n",
    "<img src=\"felix.jpeg\" width=400>\n",
    "\n",
    "Image: [https://www.wired.com/2013/02/felix-baumgartner-red-bull-stratos-3/](https://www.wired.com/2013/02/felix-baumgartner-red-bull-stratos-3/)\n",
    "\n",
    "Felix stepped out of the capsule, accelerating due to gravity to a speed which surpassed the (STP) speed of sound on the surface, apparently 800+ mph. An interesting question is how he was able to deploy a parachute after being launched to super-sonic speed without ripping himself in half (or at least tearing the parachute to shreds). \n",
    "\n",
    "Interestingly, it's the <i>atmosphere</i> that actually slows him down before he pulls the ripcord. At 40 km, the atmosphere is so thin that he's able to accelerate to tremendous speed before the density of air becomes substantial. As he falls and the air becomes thicker, and increasing force of air resistance is applied, slowing him \"softly.\" By the time he's at the height at which a normal skydiver would be deploying the parachute, he has slowed down to roughly the same speed as a typical skydiver. And we can model this!\n",
    "\n",
    "Newton's second law for an object experiencing near-Earth (see below) gravity and air resistance gives\n",
    "\n",
    "$$m\\frac{dv}{dt} = -mg + \\frac{1}{2}c_{D}\\rho(x)A v^{2}$$\n",
    "\n",
    "This assumes the object is <i>falling</i> ($v<0$) so that air resistance points <i>up</i>, impeding the motion. It turns out 40 km is not high enough to change gravitational acceleration that much, so \"near-Earth\" $mg$ is perfectly fine to use where $g = 9.8\\mbox{m/s}^{2}$. The other parameters are $c_{D}$, a dimensionless coefficient of drag, $A$, the object's cross-sectional area. The air density $\\rho(x)$ will vary with altitude $x$, and a simple model is \n",
    "\n",
    "$$\\rho(x) = \\rho_{0}e^{-Mgx/(RT)},$$\n",
    "\n",
    "where $\\rho_{0} = 1.2 \\mbox{kg/m}^{3}$ is STP density of air at sea level, $R = 8.3 \\mbox{J/mol K}$ is the ideal gas constant, $T$ is temperature in kelvin, and $M=0.02897 \\mbox{kg/mol}$ is the molar mass of air. At this point, we make some crude assumptions. $A\\sim 0.5 \\mbox{m}^{2}$ is a reasonable guess for his cross-sectional area, $c_{D} \\sim 1$ is also reasonable since it's only the product $c_{D}A$ that makes a difference. Of course, you should vary these and see how it affects the motion after everything is working. Felix is wearing a pretty hefty suit, so $m\\approx 100\\mbox{ kg}$ is a fine starting point. Lastly, the temperature is <i>not</i> constant, but the model assumes so. We might as well try $T \\approx 300 \\mbox{K}$ (roughly room temperature) and see what happens.\n",
    "\n",
    "Below, write a function to return air density. Then write a function to return the derivatives of velocity and position with respect time time. Finally, employ `rk4step()` to integrate the equations of motion."
   ]
  },
  {
   "cell_type": "code",
   "execution_count": null,
   "metadata": {
    "deletable": false,
    "nbgrader": {
     "cell_type": "code",
     "checksum": "f05c5a65b8dc6acc3ad2eda3c9cfb3d5",
     "grade": false,
     "grade_id": "cell-22d1c1c1dcd6a46f",
     "locked": false,
     "schema_version": 3,
     "solution": true,
     "task": false
    }
   },
   "outputs": [],
   "source": [
    "ρo = 1.2\n",
    "R = 8.3\n",
    "T = 300\n",
    "m = 100\n",
    "g = 9.8\n",
    "c = 1\n",
    "M = 0.02897\n",
    "A = 0.5\n",
    "\n",
    "param = [ρo,R,T,m,g,c,M,A]\n",
    "\n",
    "N = 1000\n",
    "tmax = 300\n",
    "\n",
    "t = np.linspace(0,tmax,N)\n",
    "dt = t[1]-t[0]\n",
    "\n",
    "x = np.zeros(N)\n",
    "v = np.zeros(N)\n",
    "\n",
    "x[0] = 40000\n",
    "\n",
    "def ρ(x,param):\n",
    "    # YOUR CODE HERE\n",
    "    raise NotImplementedError()\n",
    "\n",
    "def freefall(x,t,param):\n",
    "    # YOUR CODE HERE\n",
    "    raise NotImplementedError()\n",
    "    \n",
    "for i in range(0,N-1):\n",
    "    # YOUR CODE HERE\n",
    "    raise NotImplementedError()\n",
    "    \n",
    "plt.plot(t,x)\n",
    "plt.xlabel('time (s)')\n",
    "plt.ylabel('height (m)')\n",
    "plt.show()\n",
    "\n",
    "plt.plot(t,v)\n",
    "plt.xlabel('time (s)')\n",
    "plt.ylabel('velocity (m/s)')\n",
    "plt.show()"
   ]
  },
  {
   "cell_type": "code",
   "execution_count": null,
   "metadata": {
    "deletable": false,
    "editable": false,
    "nbgrader": {
     "cell_type": "code",
     "checksum": "334df8d7c2fdb0c76814aa3e1b380388",
     "grade": true,
     "grade_id": "cell-b279bcf1a561dcd7",
     "locked": true,
     "points": 10,
     "schema_version": 3,
     "solution": false,
     "task": false
    }
   },
   "outputs": [],
   "source": [
    "'''case1'''\n",
    "assert np.isclose(ρ(200,[1,1,1,1,1,1,1,1]),0.513417119032592)\n",
    "'''case2'''\n",
    "assert np.isclose(freefall([200,-3],0,[1,1,1,1,1,1,1,1]),np.array([-3.,-9.78844811])).all()"
   ]
  },
  {
   "cell_type": "markdown",
   "metadata": {
    "deletable": false,
    "editable": false,
    "nbgrader": {
     "cell_type": "markdown",
     "checksum": "f8d33711aa92c98a03a474af8721159d",
     "grade": false,
     "grade_id": "cell-9de1dbff605b1c97",
     "locked": true,
     "schema_version": 3,
     "solution": false,
     "task": false
    }
   },
   "source": [
    "With results in hand, let us explore the model. Write a function that prints the maximum speed in miles-per-hour given the array of computed $v$ values. Note that speed is the <i>magnitude</i> of velocity, $|v|$."
   ]
  },
  {
   "cell_type": "code",
   "execution_count": null,
   "metadata": {
    "deletable": false,
    "nbgrader": {
     "cell_type": "code",
     "checksum": "10828ea4b99ab7dd8154e4066f7b1645",
     "grade": false,
     "grade_id": "cell-089e5b34df7bb265",
     "locked": false,
     "schema_version": 3,
     "solution": true,
     "task": false
    }
   },
   "outputs": [],
   "source": [
    "def maxspeed(v):\n",
    "    # YOUR CODE HERE\n",
    "    raise NotImplementedError()"
   ]
  },
  {
   "cell_type": "markdown",
   "metadata": {
    "deletable": false,
    "editable": false,
    "nbgrader": {
     "cell_type": "markdown",
     "checksum": "f23797d4cc1b03f0b72edf2d025356b2",
     "grade": false,
     "grade_id": "cell-d712815c6719ff4a",
     "locked": true,
     "schema_version": 3,
     "solution": false,
     "task": false
    }
   },
   "source": [
    "What parameters make sense to change? Can you get a maximum speed closer to the quoted value (843.6 mph)?"
   ]
  }
 ],
 "metadata": {
  "kernelspec": {
   "display_name": "Python 3 (ipykernel)",
   "language": "python",
   "name": "python3"
  },
  "language_info": {
   "codemirror_mode": {
    "name": "ipython",
    "version": 3
   },
   "file_extension": ".py",
   "mimetype": "text/x-python",
   "name": "python",
   "nbconvert_exporter": "python",
   "pygments_lexer": "ipython3",
   "version": "3.9.13"
  }
 },
 "nbformat": 4,
 "nbformat_minor": 4
}
