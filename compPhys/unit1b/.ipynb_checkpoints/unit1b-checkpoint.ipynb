{
 "cells": [
  {
   "cell_type": "markdown",
   "metadata": {
    "deletable": false,
    "editable": false,
    "nbgrader": {
     "cell_type": "markdown",
     "checksum": "306243ced996a9d3f63a570f51c9d89b",
     "grade": false,
     "grade_id": "cell-7f3f0d8d9475fb4f",
     "locked": true,
     "schema_version": 3,
     "solution": false,
     "task": false
    }
   },
   "source": [
    "<h1>PHY 2200 - Computational Physics</h1>\n",
    "<h2>Spring 2023</h2>"
   ]
  },
  {
   "cell_type": "markdown",
   "metadata": {
    "deletable": false,
    "editable": false,
    "nbgrader": {
     "cell_type": "markdown",
     "checksum": "e093cb188aa65d5938ca53aefadce040",
     "grade": false,
     "grade_id": "cell-9acd13e15941811a",
     "locked": true,
     "schema_version": 3,
     "solution": false,
     "task": false
    }
   },
   "source": [
    "<h2>More fun with random numbers and curve fitting</h2>"
   ]
  },
  {
   "cell_type": "code",
   "execution_count": 1,
   "metadata": {
    "deletable": false,
    "editable": false,
    "nbgrader": {
     "cell_type": "code",
     "checksum": "90d6afb80cfc21cd35992d6308aa75db",
     "grade": false,
     "grade_id": "cell-53442b0496c570e6",
     "locked": true,
     "schema_version": 3,
     "solution": false,
     "task": false
    }
   },
   "outputs": [],
   "source": [
    "import numpy as np\n",
    "from matplotlib import pyplot as plt"
   ]
  },
  {
   "cell_type": "markdown",
   "metadata": {
    "deletable": false,
    "editable": false,
    "nbgrader": {
     "cell_type": "markdown",
     "checksum": "a0b6299d5a07711e074a795295dacdea",
     "grade": false,
     "grade_id": "cell-ed041d12f01fd66c",
     "locked": true,
     "schema_version": 3,
     "solution": false,
     "task": false
    }
   },
   "source": [
    "<h2>Exercises</h2>"
   ]
  },
  {
   "cell_type": "markdown",
   "metadata": {
    "deletable": false,
    "editable": false,
    "nbgrader": {
     "cell_type": "markdown",
     "checksum": "7273ef96019c1a57db6a82dd5e9d8700",
     "grade": false,
     "grade_id": "cell-95090a8cfdaa3ac6",
     "locked": true,
     "schema_version": 3,
     "solution": false,
     "task": false
    }
   },
   "source": [
    "<h3>1. The birthday problem</h3>\n",
    "\n",
    "You have a group of $N$ people in a room. For concreteness, let $N=30$ for this discussion. What is the probability that two people in the room have the same birthday? To make things simple, let's not worry about leap year (sorry, leap year babies; you <i>do</i> matter and it's not your fault). \n",
    "\n",
    "With only 30 people and 365 days, would you guess that the probability is more than 50%? I wouldn't. Write a function that generates random birthdays for $N$ individuals and returns 1 if at least two individuals have the same birthday, returning zero otherwise. A hint at the (apparent) paradox to come is that there are <i>many</i> ways this function an return 1 but only one way it can return zero (all birthdays are distinct). The test is passed if two people have the same birthday, three people have the same birthday, two pairs of two people share birthdays, and the list goes on. Incidentally, this points to a strategy for calculating this probability based on first principles, but let us proceed with a numerical approach.\n",
    "\n",
    "I would recommend using ```np.random.randint(0,365,N)``` to generate a list of these numbers all at once, but you could also do a loop and calculate a birthday for each person. Once you have the list of birthdays, use logical indexing to determine whether all birthdays are distinct or not. One method is to use the function ```np.unique``` to peel off all the distinct elements of an array. If duplicates occur, the list of unique values is smaller than the original array (hint, hint... check the size)."
   ]
  },
  {
   "cell_type": "code",
   "execution_count": 59,
   "metadata": {
    "deletable": false,
    "nbgrader": {
     "cell_type": "code",
     "checksum": "95ccb7575f556bdab7f8a39e371abf3e",
     "grade": false,
     "grade_id": "cell-0d36590a2f89344d",
     "locked": false,
     "schema_version": 3,
     "solution": true,
     "task": false
    }
   },
   "outputs": [
    {
     "data": {
      "text/plain": [
       "1"
      ]
     },
     "execution_count": 59,
     "metadata": {},
     "output_type": "execute_result"
    }
   ],
   "source": [
    "def birthdayDuplicates(N):\n",
    "    # YOUR CODE HERE\n",
    "    z=np.random.randint(0,365,N)\n",
    "    \n",
    "    unique = np.unique(z)\n",
    "    \n",
    "    if (len(unique) < len(z)):\n",
    "        return 1\n",
    "    else:\n",
    "        return 0\n",
    "    raise NotImplementedError()\n",
    "\n",
    "birthdayDuplicates(23)"
   ]
  },
  {
   "cell_type": "markdown",
   "metadata": {
    "deletable": false,
    "editable": false,
    "nbgrader": {
     "cell_type": "markdown",
     "checksum": "0e9f5f162950c65c43ffd795f4098fa5",
     "grade": false,
     "grade_id": "cell-f6e2e0bdd287c64d",
     "locked": true,
     "schema_version": 3,
     "solution": false,
     "task": false
    }
   },
   "source": [
    "Play around with this to get a feel for what happens as $N$ changes. Keep in mind that each function call gives you only a single random set of people. To assess a <i>probability</i> we need to look at many realizations and calculate the fraction that has duplicate birthdays. For example, if we looked at 100 sets of $N$ randomly collected people and found 51 sets resulted in two people having the same birthday, then the estimated probability would be $51/100 = 0.51$, or just over $50\\%$.\n",
    "\n",
    "Next, write a new function ```birthdayProbability(N,Nr)``` that loops over $N_{r}$ realizations and calculates the probability."
   ]
  },
  {
   "cell_type": "code",
   "execution_count": 60,
   "metadata": {
    "deletable": false,
    "nbgrader": {
     "cell_type": "code",
     "checksum": "0d845563c04ec27dd6b1ba5b7bd91e42",
     "grade": false,
     "grade_id": "cell-86a09930d03056ab",
     "locked": false,
     "schema_version": 3,
     "solution": true,
     "task": false
    }
   },
   "outputs": [],
   "source": [
    "def birthdayProbability(N,Nr):\n",
    "    # YOUR CODE HERE\n",
    "    s = np.zeros(Nr)\n",
    "    \n",
    "    for i in range(Nr):\n",
    "        s[i] = birthdayDuplicates(N)\n",
    "    \n",
    "    return (len(s[s>0])/Nr)\n",
    "\n",
    "    raise NotImplementedError()"
   ]
  },
  {
   "cell_type": "code",
   "execution_count": 61,
   "metadata": {
    "deletable": false,
    "editable": false,
    "nbgrader": {
     "cell_type": "code",
     "checksum": "3bbb222b35e44771dfba69e7918f9c07",
     "grade": true,
     "grade_id": "cell-2764fe227027f613",
     "locked": true,
     "points": 5,
     "schema_version": 3,
     "solution": false,
     "task": false
    }
   },
   "outputs": [],
   "source": [
    "'''case 1'''\n",
    "assert np.isclose(0.12,birthdayProbability(10,100000),0.05)"
   ]
  },
  {
   "cell_type": "code",
   "execution_count": 63,
   "metadata": {},
   "outputs": [
    {
     "data": {
      "text/plain": [
       "0.50779"
      ]
     },
     "execution_count": 63,
     "metadata": {},
     "output_type": "execute_result"
    }
   ],
   "source": [
    "birthdayProbability(23,100000)"
   ]
  },
  {
   "cell_type": "markdown",
   "metadata": {
    "deletable": false,
    "editable": false,
    "nbgrader": {
     "cell_type": "markdown",
     "checksum": "f141e59487f71586d917e0f7f35a985f",
     "grade": false,
     "grade_id": "cell-54b5eb5b41e042fc",
     "locked": true,
     "schema_version": 3,
     "solution": false,
     "task": false
    }
   },
   "source": [
    "Lastly, for some choice of $N_{r}$, make a plot of the (estimated) probability as a funtion of $N$ for the following values of $N$,"
   ]
  },
  {
   "cell_type": "code",
   "execution_count": 86,
   "metadata": {
    "deletable": false,
    "nbgrader": {
     "cell_type": "code",
     "checksum": "91a9e0281c0fc53dc4c58b565e096bd7",
     "grade": false,
     "grade_id": "cell-1215d9063580e291",
     "locked": false,
     "schema_version": 3,
     "solution": true,
     "task": false
    }
   },
   "outputs": [
    {
     "data": {
      "image/png": "[encoded data removed]",
      "text/plain": [
       "<Figure size 640x480 with 1 Axes>"
      ]
     },
     "metadata": {},
     "output_type": "display_data"
    },
    {
     "ename": "NotImplementedError",
     "evalue": "",
     "output_type": "error",
     "traceback": [
      "\u001b[0;31m---------------------------------------------------------------------------\u001b[0m",
      "\u001b[0;31mNotImplementedError\u001b[0m                       Traceback (most recent call last)",
      "\u001b[0;32m/var/folders/5y/f05xx2_d48d4jk28488my0980000gn/T/ipykernel_1344/3608289715.py\u001b[0m in \u001b[0;36m<module>\u001b[0;34m\u001b[0m\n\u001b[1;32m     16\u001b[0m \u001b[0mplt\u001b[0m\u001b[0;34m.\u001b[0m\u001b[0mshow\u001b[0m\u001b[0;34m(\u001b[0m\u001b[0;34m)\u001b[0m\u001b[0;34m\u001b[0m\u001b[0;34m\u001b[0m\u001b[0m\n\u001b[1;32m     17\u001b[0m \u001b[0;34m\u001b[0m\u001b[0m\n\u001b[0;32m---> 18\u001b[0;31m \u001b[0;32mraise\u001b[0m \u001b[0mNotImplementedError\u001b[0m\u001b[0;34m(\u001b[0m\u001b[0;34m)\u001b[0m\u001b[0;34m\u001b[0m\u001b[0;34m\u001b[0m\u001b[0m\n\u001b[0m",
      "\u001b[0;31mNotImplementedError\u001b[0m: "
     ]
    }
   ],
   "source": [
    "# YOUR CODE HERE\n",
    "N=100\n",
    "Nr=100000\n",
    "\n",
    "x = np.zeros(N) # np.arrange(0,N)\n",
    "y = np.zeros(N)\n",
    "for i in range(N):\n",
    "    x[i]=x[i-1]+1\n",
    "    y[i]=birthdayProbability(i+1,Nr)\n",
    "\n",
    "plt.plot(x,y,'b.')\n",
    "#plt.plot(xc,yc)\n",
    "plt.xlabel('runs')\n",
    "plt.ylabel('probability')\n",
    "#plt.axis('equal')\n",
    "plt.show()\n",
    "\n",
    "#raise NotImplementedError()"
   ]
  },
  {
   "cell_type": "markdown",
   "metadata": {
    "deletable": false,
    "editable": false,
    "nbgrader": {
     "cell_type": "markdown",
     "checksum": "936842266680fb385278b6533de0830a",
     "grade": false,
     "grade_id": "cell-f7b088fed81648e3",
     "locked": true,
     "schema_version": 3,
     "solution": false,
     "task": false
    }
   },
   "source": [
    "Imagine increasing $N$. At approximately what value of $N$ does the probability begin to exceed $50\\%$?"
   ]
  },
  {
   "cell_type": "markdown",
   "metadata": {
    "deletable": false,
    "editable": false,
    "nbgrader": {
     "cell_type": "markdown",
     "checksum": "fc5588b90715043727e24b08aeb2509a",
     "grade": false,
     "grade_id": "cell-dae9f012461ad30f",
     "locked": true,
     "schema_version": 3,
     "solution": false,
     "task": false
    }
   },
   "source": [
    "<h3>2. $N$ Days of Christmas</h3>"
   ]
  },
  {
   "cell_type": "markdown",
   "metadata": {
    "deletable": false,
    "editable": false,
    "nbgrader": {
     "cell_type": "markdown",
     "checksum": "d9452ffbb3710b472318140e6194940e",
     "grade": false,
     "grade_id": "cell-187d5c0ab82a6702",
     "locked": true,
     "schema_version": 3,
     "solution": false,
     "task": false
    }
   },
   "source": [
    "Flashback to Winter Break: How many gifts were given during the 12 Days of Christmas? If you have never endured listening to this song, it's basically that you get 1 gift (a partridge in a pear tree, which we count as one) on Day 2, 2 gives (two turtle doves) on Day 1, and so on. Easy, right?\n",
    "\n",
    "$$N_{gifts} = 1 + 2 + 3 + \\cdots + 12$$\n",
    "\n",
    "We could do it by hand or write a short loop. But it's actually a proven result that\n",
    "\n",
    "$$1 + 2 + 3 + \\cdots + N = \\frac{N(N+1)}{2}$$\n",
    "\n",
    "This gives $N_{gifts} = 12\\cdot 13/2 = 78$. Ah, but it's not this easy. The song starts on Day 1 with the first gift. But on Day 2, the gifts include another gift from Day 1. That is you end up with a total of 12 partidges in pear trees, $11\\times 2$ turtle doves, and so on. It's a more complicated problem, so let's write a function to compute it. For generality, let's do it for any arbitrary $N$ days of Christmas.\n",
    "\n",
    "To be clear, on Day $n$ you get $n$ of something plus whatever was given the day before. To check your function, the correct answer for $N=12$ is $364$. That's a <i>lot<i> of geese and maids a-milking."
   ]
  },
  {
   "cell_type": "code",
   "execution_count": 14,
   "metadata": {
    "deletable": false,
    "nbgrader": {
     "cell_type": "code",
     "checksum": "46cf8b35962f0cbdb5fbe037ab15c964",
     "grade": false,
     "grade_id": "cell-c545e32333b9aa15",
     "locked": false,
     "schema_version": 3,
     "solution": true,
     "task": false
    }
   },
   "outputs": [
    {
     "data": {
      "text/plain": [
       "364.0"
      ]
     },
     "execution_count": 14,
     "metadata": {},
     "output_type": "execute_result"
    }
   ],
   "source": [
    "def gifts(N):\n",
    "    # YOUR CODE HERE\n",
    "#    total = 1\n",
    "#    for i in range(N):\n",
    "#        s = i\n",
    "#        while(s!=0):\n",
    "#            total = total+s\n",
    "#            s=s-1\n",
    "    return (N*(N**2+3*N+2))/6\n",
    "\n",
    "    return total\n",
    "    raise NotImplementedError()\n",
    "\n",
    "gifts(12)\n",
    "# 1 \n",
    "# 1 2\n",
    "# 1 2 3\n",
    "# 1 2 3 4"
   ]
  },
  {
   "cell_type": "code",
   "execution_count": 15,
   "metadata": {
    "deletable": false,
    "editable": false,
    "nbgrader": {
     "cell_type": "code",
     "checksum": "a89291751ee448b72602a2d5c99deb8f",
     "grade": true,
     "grade_id": "cell-f916107f11e7a74c",
     "locked": true,
     "points": 5,
     "schema_version": 3,
     "solution": false,
     "task": false
    }
   },
   "outputs": [],
   "source": [
    "'''case 1'''\n",
    "assert np.isclose(364,gifts(12))"
   ]
  },
  {
   "cell_type": "markdown",
   "metadata": {
    "deletable": false,
    "editable": false,
    "nbgrader": {
     "cell_type": "markdown",
     "checksum": "aad90daeabebc6f38bcea9194e513c15",
     "grade": false,
     "grade_id": "cell-87c6457eceb7a5a7",
     "locked": true,
     "schema_version": 3,
     "solution": false,
     "task": false
    }
   },
   "source": [
    "<h3>3. Estimating yield of nuclear blast</h3>\n",
    "\n",
    "<center>\n",
    "<img src=\"fireball.png\" width=\"300\">\n",
    "</center>"
   ]
  },
  {
   "cell_type": "markdown",
   "metadata": {
    "deletable": false,
    "editable": false,
    "nbgrader": {
     "cell_type": "markdown",
     "checksum": "0e5613ff6695d582d8f6f47e864dd3c9",
     "grade": false,
     "grade_id": "cell-099423091689568e",
     "locked": true,
     "schema_version": 3,
     "solution": false,
     "task": false
    }
   },
   "source": [
    "A few years ago, Lawrence Livermore National Labs released a [large set](https://www.youtube.com/watch?v=pWpqGKUG5yY&list=PLvGO_dWo8VfcmG166wKRy5z-GlJ_OQND5) of declassified videos of various nuclear weapons tests. British physicist Using only dimensional analysis, it's possible to estimate the radius of the fireball $r$ as a function of time $t$ and other physical parameters,\n",
    "\n",
    "$$r(t) \\simeq E^{\\frac{1}{5}}\\rho^{-\\frac{1}{5}}t^{\\frac{2}{5}}$$\n",
    "\n",
    "Here $E$ is the energy released in the blast, $t$ is time, and $\\rho$ is the density of surrounding air (about $1.2\\mbox{ kg/s}$). What this <i>means</i> is that one can actually estimate the energy released in a blast by plotting $r$ vs. $t^{\\frac{2}{5}}$ and performing a linear fit. The <i>slope</i> of that fit gives\n",
    "\n",
    "$$\\mbox{slope } = E^{\\frac{1}{5}}\\rho^{-\\frac{1}{5}}$$\n",
    "\n",
    "I have taken the liberty of collecting $t$ and $r$ data from [this](https://www.youtube.com/watch?v=mULDAlCXH3c&list=PLvGO_dWo8VfcmG166wKRy5z-GlJ_OQND5&index=53) video. You can read this into the notebook using:"
   ]
  },
  {
   "cell_type": "code",
   "execution_count": 23,
   "metadata": {},
   "outputs": [],
   "source": [
    "f = open('OperationTurk.csv','r')\n",
    "A = np.genfromtxt(f, delimiter=\",\")\n",
    "A = A[1:,:]\n",
    "f.close()"
   ]
  },
  {
   "cell_type": "markdown",
   "metadata": {
    "deletable": false,
    "editable": false,
    "nbgrader": {
     "cell_type": "markdown",
     "checksum": "27b44199eb976213afd321e4056c705c",
     "grade": false,
     "grade_id": "cell-48d6402ebc0f38a9",
     "locked": true,
     "schema_version": 3,
     "solution": false,
     "task": false
    }
   },
   "source": [
    "The array ```A``` contains $t$ values (in seconds) in the first column and $r$ values (in meters) in the second column. Next, extract the radius and time values and plot $r$ vs $t^{2/5}$."
   ]
  },
  {
   "cell_type": "code",
   "execution_count": 24,
   "metadata": {
    "deletable": false,
    "nbgrader": {
     "cell_type": "code",
     "checksum": "5e708c4bccc592f992359485d5611b0a",
     "grade": false,
     "grade_id": "cell-9a9bc0a8c756bf28",
     "locked": false,
     "schema_version": 3,
     "solution": true,
     "task": false
    }
   },
   "outputs": [
    {
     "ename": "NotImplementedError",
     "evalue": "",
     "output_type": "error",
     "traceback": [
      "\u001b[0;31m---------------------------------------------------------------------------\u001b[0m",
      "\u001b[0;31mNotImplementedError\u001b[0m                       Traceback (most recent call last)",
      "\u001b[0;32m/var/folders/5y/f05xx2_d48d4jk28488my0980000gn/T/ipykernel_8660/3905364885.py\u001b[0m in \u001b[0;36m<module>\u001b[0;34m\u001b[0m\n\u001b[1;32m      3\u001b[0m \u001b[0mplt\u001b[0m\u001b[0;34m.\u001b[0m\u001b[0mxlabel\u001b[0m\u001b[0;34m(\u001b[0m\u001b[0;34m'time'\u001b[0m\u001b[0;34m)\u001b[0m\u001b[0;34m\u001b[0m\u001b[0;34m\u001b[0m\u001b[0m\n\u001b[1;32m      4\u001b[0m \u001b[0mplt\u001b[0m\u001b[0;34m.\u001b[0m\u001b[0mylabel\u001b[0m\u001b[0;34m(\u001b[0m\u001b[0;34m'meters'\u001b[0m\u001b[0;34m)\u001b[0m\u001b[0;34m\u001b[0m\u001b[0;34m\u001b[0m\u001b[0m\n\u001b[0;32m----> 5\u001b[0;31m \u001b[0;32mraise\u001b[0m \u001b[0mNotImplementedError\u001b[0m\u001b[0;34m(\u001b[0m\u001b[0;34m)\u001b[0m\u001b[0;34m\u001b[0m\u001b[0;34m\u001b[0m\u001b[0m\n\u001b[0m",
      "\u001b[0;31mNotImplementedError\u001b[0m: "
     ]
    },
    {
     "data": {
      "image/png": "[encoded data removed]",
      "text/plain": [
       "<Figure size 640x480 with 1 Axes>"
      ]
     },
     "metadata": {},
     "output_type": "display_data"
    }
   ],
   "source": [
    "# YOUR CODE HERE\n",
    "plt.plot(A)\n",
    "plt.xlabel('time')\n",
    "plt.ylabel('meters')\n",
    "raise NotImplementedError()"
   ]
  },
  {
   "cell_type": "markdown",
   "metadata": {
    "deletable": false,
    "editable": false,
    "nbgrader": {
     "cell_type": "markdown",
     "checksum": "74157196d3e9f976abefefda5907a63c",
     "grade": false,
     "grade_id": "cell-12fe8a32914f2877",
     "locked": true,
     "schema_version": 3,
     "solution": false,
     "task": false
    }
   },
   "source": [
    "Your plot <i>should</i> look approximately linear. Lastly, use ```polyfit``` to obtain the slope. From that slope, estimate the energy released (in Joules) from the blast. I have adjusted the scaling so that your result should be in reasonably good agreement with the quoted value of 43 kT (kilotons of TNT) on the first frame of the [video](https://www.youtube.com/watch?v=mULDAlCXH3c&list=PLvGO_dWo8VfcmG166wKRy5z-GlJ_OQND5&index=53).\n",
    "\n",
    "In the last step, to convert from Joules to kT, the appropriate conversion factor is\n",
    "\n",
    "$$1\\mbox{ Joule} = 2.39006\\times 10^{-13}\\mbox{ kT}$$"
   ]
  },
  {
   "cell_type": "code",
   "execution_count": null,
   "metadata": {
    "deletable": false,
    "nbgrader": {
     "cell_type": "code",
     "checksum": "95228cd02060c39be2c265ba5a87f261",
     "grade": false,
     "grade_id": "cell-5d9812c2f637ea64",
     "locked": false,
     "schema_version": 3,
     "solution": true,
     "task": false
    }
   },
   "outputs": [],
   "source": [
    "def blastyield(t,r):\n",
    "    # YOUR CODE HERE\n",
    "    raise NotImplementedError()"
   ]
  },
  {
   "cell_type": "code",
   "execution_count": null,
   "metadata": {},
   "outputs": [],
   "source": [
    "blastyield(t,r)"
   ]
  },
  {
   "cell_type": "code",
   "execution_count": null,
   "metadata": {
    "deletable": false,
    "editable": false,
    "nbgrader": {
     "cell_type": "code",
     "checksum": "5add9f709b76efd11e16d13bf7e9d6fb",
     "grade": true,
     "grade_id": "cell-edd7194c4de58f03",
     "locked": true,
     "points": 5,
     "schema_version": 3,
     "solution": false,
     "task": false
    }
   },
   "outputs": [],
   "source": [
    "'''case 1'''\n",
    "assert np.isclose(43.45417441842238,blastyield(t,r))"
   ]
  },
  {
   "cell_type": "markdown",
   "metadata": {
    "deletable": false,
    "editable": false,
    "nbgrader": {
     "cell_type": "markdown",
     "checksum": "53f746fe58b247eebc756ae58e797a12",
     "grade": false,
     "grade_id": "cell-f6b93a760d0e3b0f",
     "locked": true,
     "schema_version": 3,
     "solution": false,
     "task": false
    }
   },
   "source": [
    "<h3>4. Random walk</h3> "
   ]
  },
  {
   "cell_type": "markdown",
   "metadata": {
    "deletable": false,
    "editable": false,
    "nbgrader": {
     "cell_type": "markdown",
     "checksum": "0f4e0a62fe7b4f157cdec1877b51bb5a",
     "grade": false,
     "grade_id": "cell-36c4ed3ef2f5818b",
     "locked": true,
     "schema_version": 3,
     "solution": false,
     "task": false
    }
   },
   "source": [
    "Consider the <i>random walk</i> process in one dimension: an object (particle, person, whatever you're feeling) begins at the origin ($x_{0}=0$). The particle moves by taking discrete steps of size $\\pm\\delta x$. The sign (direction) is chosen randomly at each step. A randomly chosen sign ($\\pm$) can be obtained by using the ```np.sign()``` function which returns the sign of the argument. Given a randomly chosen number $x\\in [0,1]$, how can you use this to obtain $\\pm 1$ with equal probability? Use this result to complete the following loop to execute a random walk for $N$ steps:"
   ]
  },
  {
   "cell_type": "code",
   "execution_count": 38,
   "metadata": {
    "deletable": false,
    "nbgrader": {
     "cell_type": "code",
     "checksum": "0d2a05a3feb35f46ed761233371a2ee9",
     "grade": false,
     "grade_id": "cell-3464c7f24ff00bfe",
     "locked": false,
     "schema_version": 3,
     "solution": true,
     "task": false
    }
   },
   "outputs": [
    {
     "ename": "NotImplementedError",
     "evalue": "",
     "output_type": "error",
     "traceback": [
      "\u001b[0;31m---------------------------------------------------------------------------\u001b[0m",
      "\u001b[0;31mNotImplementedError\u001b[0m                       Traceback (most recent call last)",
      "\u001b[0;32m/var/folders/5y/f05xx2_d48d4jk28488my0980000gn/T/ipykernel_8660/930617086.py\u001b[0m in \u001b[0;36m<module>\u001b[0;34m\u001b[0m\n\u001b[1;32m     16\u001b[0m \u001b[0;31m#    np.sign(np.random.rand()-.5)*δx\u001b[0m\u001b[0;34m\u001b[0m\u001b[0;34m\u001b[0m\u001b[0m\n\u001b[1;32m     17\u001b[0m \u001b[0;34m\u001b[0m\u001b[0m\n\u001b[0;32m---> 18\u001b[0;31m \u001b[0;32mraise\u001b[0m \u001b[0mNotImplementedError\u001b[0m\u001b[0;34m(\u001b[0m\u001b[0;34m)\u001b[0m\u001b[0;34m\u001b[0m\u001b[0;34m\u001b[0m\u001b[0m\n\u001b[0m",
      "\u001b[0;31mNotImplementedError\u001b[0m: "
     ]
    }
   ],
   "source": [
    "δx = 1.0\n",
    "δt = 1.0\n",
    "N = 1000\n",
    "xo = 0.0\n",
    "\n",
    "t = np.linspace(δt,N*δt,N)\n",
    "x = np.zeros(N)\n",
    "\n",
    "for i in range(0,N):\n",
    "    # YOUR CODE HERE\n",
    "    if(np.random.rand()<.5):\n",
    "        x[i]=x[i]+δx\n",
    "    else:\n",
    "        x[i]=x[i]-δx\n",
    "\n",
    "#    np.sign(np.random.rand()-.5)*δx\n",
    "\n",
    "#raise NotImplementedError()"
   ]
  },
  {
   "cell_type": "markdown",
   "metadata": {
    "deletable": false,
    "editable": false,
    "nbgrader": {
     "cell_type": "markdown",
     "checksum": "d7c7fd14f475d9af0e3681aa8c8ac129",
     "grade": false,
     "grade_id": "cell-492314da8bb3546f",
     "locked": true,
     "schema_version": 3,
     "solution": false,
     "task": false
    }
   },
   "source": [
    "Make a plot of the position."
   ]
  },
  {
   "cell_type": "code",
   "execution_count": null,
   "metadata": {
    "deletable": false,
    "nbgrader": {
     "cell_type": "code",
     "checksum": "8ffae9ae3954cbaa609fc27adced34e3",
     "grade": false,
     "grade_id": "cell-b554ccb5894fa8b3",
     "locked": false,
     "schema_version": 3,
     "solution": true,
     "task": false
    }
   },
   "outputs": [],
   "source": [
    "# YOUR CODE HERE\n",
    "\n",
    "raise NotImplementedError()"
   ]
  },
  {
   "cell_type": "markdown",
   "metadata": {
    "deletable": false,
    "editable": false,
    "nbgrader": {
     "cell_type": "markdown",
     "checksum": "2e0a9c28a9d3be9d7b473a1c72131f17",
     "grade": false,
     "grade_id": "cell-a9aed6740915b057",
     "locked": true,
     "schema_version": 3,
     "solution": false,
     "task": false
    }
   },
   "source": [
    "If you repeat the random walk several times, you should find the end location of the particle meanders quite randomly. Predicting where a particle will land after $N$ steps is hopeless. Interestingly, this process does obey well defined statistics. To demonstrate this, let's consider a number of random walks (same $\\delta x$, same starting point, same value of $N$). It can be shown that the average position $\\langle x(t)\\rangle$ approaches zero for all times while the average <i>squared distance</i> obeys\n",
    "\n",
    "$$\\langle x^{2}(t)\\rangle \\propto t$$\n",
    "\n",
    "That is, the average <i>distance</i> from the origin, $\\langle |x(t)| \\rangle$, grows like $\\sqrt{t}$. Use a two-dimensional array to store a single random walk trajectory in each column in the block below. Then compute the average squared distance by summing up the columns of ```x``` and dividing by the number of walks, ```Nw```."
   ]
  },
  {
   "cell_type": "code",
   "execution_count": null,
   "metadata": {
    "deletable": false,
    "nbgrader": {
     "cell_type": "code",
     "checksum": "081418855930f78afd092ec46fa3ab9b",
     "grade": false,
     "grade_id": "cell-036e56d6f07b5fe8",
     "locked": false,
     "schema_version": 3,
     "solution": true,
     "task": false
    }
   },
   "outputs": [],
   "source": [
    "δx = 1.0\n",
    "δt = 1.0\n",
    "\n",
    "N = 100\n",
    "Nw = 1000\n",
    "\n",
    "t = np.linspace(δt,N*δt,N)\n",
    "x = np.zeros((N,Nw))\n",
    "\n",
    "for n in range(0,Nw):\n",
    "    for i in range(0,N):\n",
    "        # YOUR CODE HERE\n",
    "        raise NotImplementedError()\n",
    "\n",
    "xav2 = np.zeros(N)\n",
    "\n",
    "for n in range(0,Nw):\n",
    "    xav2 = xav2 + x[:,n]**2/Nw"
   ]
  },
  {
   "cell_type": "markdown",
   "metadata": {
    "deletable": false,
    "editable": false,
    "nbgrader": {
     "cell_type": "markdown",
     "checksum": "4f2f8067c120e9f579932b88af77b5ac",
     "grade": false,
     "grade_id": "cell-cfe11218186218fe",
     "locked": true,
     "schema_version": 3,
     "solution": false,
     "task": false
    }
   },
   "source": [
    "For visual inspection, it might help to plot ```xav2``` vs. ```t``` to make sure it <i>looks</i> linear."
   ]
  },
  {
   "cell_type": "code",
   "execution_count": null,
   "metadata": {},
   "outputs": [],
   "source": [
    "plt.plot(t,xav2)\n",
    "plt.xlabel('t')\n",
    "plt.ylabel('<x^2>')\n",
    "plt.show()"
   ]
  },
  {
   "cell_type": "markdown",
   "metadata": {
    "deletable": false,
    "editable": false,
    "nbgrader": {
     "cell_type": "markdown",
     "checksum": "c7567002cc19484c8bdc13b7fb123cf2",
     "grade": false,
     "grade_id": "cell-f0c1ec954bf1ac30",
     "locked": true,
     "schema_version": 3,
     "solution": false,
     "task": false
    }
   },
   "source": [
    "Once you see a linear trend in $\\langle x^{2}(t)\\rangle  = Dt$ for some constant $D$, use ```np.polyfit()``` to obtain the constant $D$. "
   ]
  },
  {
   "cell_type": "code",
   "execution_count": null,
   "metadata": {},
   "outputs": [],
   "source": [
    "np.polyfit(t,xav2,1)"
   ]
  },
  {
   "cell_type": "markdown",
   "metadata": {
    "deletable": false,
    "editable": false,
    "nbgrader": {
     "cell_type": "markdown",
     "checksum": "f664773e3c3eaf1c338d30676c5c7420",
     "grade": false,
     "grade_id": "cell-44f7b8dab749298c",
     "locked": true,
     "schema_version": 3,
     "solution": false,
     "task": false
    }
   },
   "source": [
    "It turns out that the constant $D$ can be written in terms of $\\delta x$ and $\\delta t$ (so far we have set both to 1). Turn the block(s) above into a function that returns the slope and takes $\\delta x$ and $\\delta t$ as inputs. This will require leaving ```N``` and ```Nw``` fixed and defined inside of the function."
   ]
  },
  {
   "cell_type": "code",
   "execution_count": null,
   "metadata": {
    "deletable": false,
    "nbgrader": {
     "cell_type": "code",
     "checksum": "61574095c1b5fd9a48db5924d01202fe",
     "grade": false,
     "grade_id": "cell-6120202ae7593c7e",
     "locked": false,
     "schema_version": 3,
     "solution": true,
     "task": false
    }
   },
   "outputs": [],
   "source": [
    "def rwslope(δt, δx):\n",
    "\n",
    "    N = 100\n",
    "    Nw = 1000\n",
    "\n",
    "    # YOUR CODE HERE\n",
    "    raise NotImplementedError()"
   ]
  },
  {
   "cell_type": "markdown",
   "metadata": {
    "deletable": false,
    "editable": false,
    "nbgrader": {
     "cell_type": "markdown",
     "checksum": "e905bd58de43e78ad938614518e7713c",
     "grade": false,
     "grade_id": "cell-7231ca8ac2985d74",
     "locked": true,
     "schema_version": 3,
     "solution": false,
     "task": false
    }
   },
   "source": [
    "Using your function, try to determine the formula for $D$ in terms of $\\delta t$, $\\delta x$."
   ]
  },
  {
   "cell_type": "code",
   "execution_count": null,
   "metadata": {
    "deletable": false,
    "editable": false,
    "nbgrader": {
     "cell_type": "code",
     "checksum": "b2a61fe847e3ecb92791ec3701b49c3c",
     "grade": true,
     "grade_id": "cell-95bb148d2bce05ca",
     "locked": true,
     "points": 10,
     "schema_version": 3,
     "solution": false,
     "task": false
    }
   },
   "outputs": [],
   "source": [
    "'''case 1'''\n",
    "assert np.isclose(1,rwslope(1,1),.1)"
   ]
  },
  {
   "cell_type": "markdown",
   "metadata": {
    "deletable": false,
    "editable": false,
    "nbgrader": {
     "cell_type": "markdown",
     "checksum": "f4eea5a02f6133e443a9948ffe44bf36",
     "grade": false,
     "grade_id": "cell-d3bb43712eb7bebd",
     "locked": true,
     "schema_version": 3,
     "solution": false,
     "task": false
    }
   },
   "source": [
    "<h3>6. Random number generator</h3>"
   ]
  },
  {
   "cell_type": "markdown",
   "metadata": {
    "deletable": false,
    "editable": false,
    "nbgrader": {
     "cell_type": "markdown",
     "checksum": "7f1052dc357c0bd4910b05e25b49ddf5",
     "grade": false,
     "grade_id": "cell-320e13a6404cfcd4",
     "locked": true,
     "schema_version": 3,
     "solution": false,
     "task": false
    }
   },
   "source": [
    "So far, we have taken for granted that ```numpy``` has a built-in random number generator. Reliable generation of <i>pseudorandom</i> numbers is a bit of a slippery process. Any algorithm is necessarily deterministic, so it's a little tricky to create a distribution that appears effectively random.\n",
    "\n",
    "A toy model for how this process works is to consider the <b>logistic map</b>:\n",
    "\n",
    "$$x_{n+1} = rx_{n}(1-x_{n})$$\n",
    "\n",
    "Given $x_{0}$ and some value for the constant $r$, we can compute $x_{1}$. Feeding that back into the formula we get $x_{2}$, and so on. We'll return to the logistic map in its full generality later in the course, but for now it suffices to set $r=4$. For this choice and suitable initial condition $x_{0}$, the $x_{n}$ produced are bounded $0\\leq x_{n} \\leq 1$ and bounce around in a way that looks quite <i>random</i>. The goal of this question is to explore the properties of the seemingly random numbers we get from this sequence.\n",
    "\n",
    "Set $r=4$ and implement the logistic map in the block below."
   ]
  },
  {
   "cell_type": "code",
   "execution_count": null,
   "metadata": {
    "deletable": false,
    "nbgrader": {
     "cell_type": "code",
     "checksum": "418049e8e88d7862d770f3d345ab3564",
     "grade": false,
     "grade_id": "cell-3fa579918eaff986",
     "locked": false,
     "schema_version": 3,
     "solution": true,
     "task": false
    }
   },
   "outputs": [],
   "source": [
    "N = 1000\n",
    "\n",
    "xo = 0.25\n",
    "x = np.zeros(N)\n",
    "x[0] = xo\n",
    "\n",
    "for i in range(0,N):\n",
    "    # YOUR CODE HERE\n",
    "    raise NotImplementedError()\n",
    "    \n",
    "plt.plot(x,'b.')\n",
    "plt.show()"
   ]
  },
  {
   "cell_type": "markdown",
   "metadata": {
    "deletable": false,
    "editable": false,
    "nbgrader": {
     "cell_type": "markdown",
     "checksum": "411a8acaef2deb1ac1b6e48eab3f0b9c",
     "grade": false,
     "grade_id": "cell-6ddcd8d0d25fe2f6",
     "locked": true,
     "schema_version": 3,
     "solution": false,
     "task": false
    }
   },
   "source": [
    "If executed correctly, you should see that the entire sequence collapses to 0.75 repeating. Try it again for different choices of ```xo``` and observe the qualitative nature of the sequence for <i>most</i> values of ```xo``` (but positive and less than 1). "
   ]
  },
  {
   "cell_type": "markdown",
   "metadata": {
    "deletable": false,
    "editable": false,
    "nbgrader": {
     "cell_type": "markdown",
     "checksum": "6476fadbe2335f252d2486b8311156d8",
     "grade": false,
     "grade_id": "cell-0b9830fd5823c4f0",
     "locked": true,
     "schema_version": 3,
     "solution": false,
     "task": false
    }
   },
   "source": [
    "Recall the tests of randomness we used previously. For a truly uniform sampling of the interval, one should find\n",
    "\n",
    "$$\\langle x\\rangle = \\frac{1}{2}$$\n",
    "$$\\langle x^{2}\\rangle = \\frac{1}{3}$$\n",
    "$$\\langle x^{3}\\rangle = \\frac{1}{4}$$\n",
    "$$\\vdots $$\n",
    "$$\\langle x^{p}\\rangle = \\frac{1}{p+1}$$\n",
    "\n",
    "Complete a function that uses the logistic map to create $N$ terms and returns the $N^{th}$ moment."
   ]
  },
  {
   "cell_type": "code",
   "execution_count": null,
   "metadata": {
    "deletable": false,
    "nbgrader": {
     "cell_type": "code",
     "checksum": "9ded990350f95d5c0caadb78d9664861",
     "grade": false,
     "grade_id": "cell-11d027d21a54b9e0",
     "locked": false,
     "schema_version": 3,
     "solution": true,
     "task": false
    }
   },
   "outputs": [],
   "source": [
    "def pmomentlog(p,xo,N):\n",
    "\n",
    "    # YOUR CODE HERE\n",
    "    raise NotImplementedError()"
   ]
  },
  {
   "cell_type": "markdown",
   "metadata": {
    "deletable": false,
    "editable": false,
    "nbgrader": {
     "cell_type": "markdown",
     "checksum": "6dbf866998c21196e045dc2f5d3bcb2f",
     "grade": false,
     "grade_id": "cell-4a051fd5a0bc492f",
     "locked": true,
     "schema_version": 3,
     "solution": false,
     "task": false
    }
   },
   "source": [
    "Does this method compute random numbers? You might wish to use the sort function and plot the ordered list and compare to ```np.random.rand()```. Alternatively, you should find that the moments converge to the expected values as $N$ is increased <i>if</i> the distribution is truly random."
   ]
  },
  {
   "cell_type": "code",
   "execution_count": null,
   "metadata": {},
   "outputs": [],
   "source": [
    "pmomentlog(3,0.3532,200)"
   ]
  },
  {
   "cell_type": "code",
   "execution_count": null,
   "metadata": {
    "deletable": false,
    "editable": false,
    "nbgrader": {
     "cell_type": "code",
     "checksum": "b3c7e6b5f3f3f4f63095be15e3f97859",
     "grade": true,
     "grade_id": "cell-ca31b8f572b399c2",
     "locked": true,
     "points": 5,
     "schema_version": 3,
     "solution": false,
     "task": false
    }
   },
   "outputs": [],
   "source": [
    "'''case 1'''\n",
    "assert np.isclose(0.2974036256610134,pmomentlog(3,0.3532,200))"
   ]
  },
  {
   "cell_type": "code",
   "execution_count": null,
   "metadata": {},
   "outputs": [],
   "source": []
  }
 ],
 "metadata": {
  "kernelspec": {
   "display_name": "Python 3 (ipykernel)",
   "language": "python",
   "name": "python3"
  },
  "language_info": {
   "codemirror_mode": {
    "name": "ipython",
    "version": 3
   },
   "file_extension": ".py",
   "mimetype": "text/x-python",
   "name": "python",
   "nbconvert_exporter": "python",
   "pygments_lexer": "ipython3",
   "version": "3.9.13"
  }
 },
 "nbformat": 4,
 "nbformat_minor": 4
}
