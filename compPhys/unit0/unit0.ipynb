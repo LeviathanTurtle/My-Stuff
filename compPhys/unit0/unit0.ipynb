{
 "cells": [
  {
   "cell_type": "markdown",
   "metadata": {
    "deletable": false,
    "editable": false,
    "nbgrader": {
     "cell_type": "markdown",
     "checksum": "e133fa80dd319983502210ce93e2bd4e",
     "grade": false,
     "grade_id": "cell-01e3d1ab753c5a2a",
     "locked": true,
     "schema_version": 3,
     "solution": false,
     "task": false
    }
   },
   "source": [
    "<h1>PHY 2200 - Computational Physics</h1>\n",
    "<h2>Spring 2023</h2>"
   ]
  },
  {
   "cell_type": "markdown",
   "metadata": {
    "deletable": false,
    "editable": false,
    "nbgrader": {
     "cell_type": "markdown",
     "checksum": "6e1a791ec6b30c7d8f8c2f41ab5af56b",
     "grade": false,
     "grade_id": "cell-75fdd5d6b093f298",
     "locked": true,
     "schema_version": 3,
     "solution": false,
     "task": false
    }
   },
   "source": [
    "<h2>Jupyter and numpy</h2>"
   ]
  },
  {
   "cell_type": "markdown",
   "metadata": {
    "deletable": false,
    "editable": false,
    "nbgrader": {
     "cell_type": "markdown",
     "checksum": "55c8ca7974f4d944e21d1d8f62cc8c6b",
     "grade": false,
     "grade_id": "cell-c2e83197dbfd80d5",
     "locked": true,
     "schema_version": 3,
     "solution": false,
     "task": false
    }
   },
   "source": [
    "In this fist module, we will introduce some of the Python syntax we will frequently use in this course. Our guiding philosophy is to learn programming syntax, numerical methods, mathematics, and physics as we need it. In other words, the context and application will always motivate the introduction of new ideas. Therefore, this notebook is not a comprehensive introduction to Python. But rather, it is only an introduction to the basic syntax we will use regularly. Throughout the course, we will introduce new ideas as we need them."
   ]
  },
  {
   "cell_type": "markdown",
   "metadata": {
    "deletable": false,
    "editable": false,
    "nbgrader": {
     "cell_type": "markdown",
     "checksum": "60efa4d88c2720e12c04ba46f894bcb4",
     "grade": false,
     "grade_id": "cell-f87b8b92bd6fcbdd",
     "locked": true,
     "schema_version": 3,
     "solution": false,
     "task": false
    }
   },
   "source": [
    "## Importing libraries\n",
    "\n",
    "This semester, we will use:\n",
    "\n",
    "- [numpy](https://numpy.org/) for numerical methods, mathematical functions, and arrays\n",
    "- [matplotlib.pyplot](https://www.tutorialspoint.com/matplotlib/matplotlib_pyplot_api.htm) for graphing\n",
    "- [pandas](https://pandas.pydata.org/) for data\n",
    "- [numba](https://numba.pydata.org/) for high-performance computing\n",
    "- [scipy](http://scipy.github.io/devdocs/) for scientific computing functions like curve fitting and solving ODEs\n",
    "- [sympy](https://docs.sympy.org/latest/index.html) for symbolic math\n",
    "- [vpython](https://vpython.org/) for 3D graphics\n",
    "- [mplEasyAnimate](https://github.com/tboudreaux/mpl_animate) for creating animations from matplotlib graphs\n",
    "- [random](https://docs.python.org/3/library/random.html) for random numbers\n",
    "\n",
    "It is best to **import** a library with an **alias** in order to avoid namespace conflicts between libraries. Put the import statements at the top of the notebook. For this notebook, we only need `numpy`, `matplotlib.pyplot`, and `random`. (Later, we will also import `vpython`)."
   ]
  },
  {
   "cell_type": "code",
   "execution_count": 10,
   "metadata": {
    "deletable": false,
    "editable": false,
    "nbgrader": {
     "cell_type": "code",
     "checksum": "c06c6541feb6ff19e9852bf4421b0b9a",
     "grade": false,
     "grade_id": "cell-d5d968dbe3fb2dba",
     "locked": true,
     "schema_version": 3,
     "solution": false,
     "task": false
    }
   },
   "outputs": [],
   "source": [
    "import numpy as np\n",
    "import matplotlib.pyplot as plt\n",
    "import random as rand"
   ]
  },
  {
   "cell_type": "markdown",
   "metadata": {
    "deletable": false,
    "editable": false,
    "nbgrader": {
     "cell_type": "markdown",
     "checksum": "1acca4e7427c5d52c5e27b8fd252da20",
     "grade": false,
     "grade_id": "cell-2f0a4ec9e95018e3",
     "locked": true,
     "schema_version": 3,
     "solution": false,
     "task": false
    }
   },
   "source": [
    "The last import of ```random``` is not actually needed, but it does save us a little bit of typing. We'll see that below."
   ]
  },
  {
   "cell_type": "markdown",
   "metadata": {
    "deletable": false,
    "editable": false,
    "nbgrader": {
     "cell_type": "markdown",
     "checksum": "3c91703c5f6af08194507eb7f65a03a0",
     "grade": false,
     "grade_id": "cell-501d07039e9b0349",
     "locked": true,
     "schema_version": 3,
     "solution": false,
     "task": false
    }
   },
   "source": [
    "## Built-in Types\n",
    "\n",
    "Python has a number of [built-in types](https://docs.python.org/3.9/library/stdtypes.html). (This reference has much of the documentation you will need regarding boolean operators, comparison operators, etc.)\n",
    "\n",
    "## Numeric Types\n",
    "\n",
    "Python is an **interpreted** language and uses **dynamic typing**. To define a variable as an integer, simply do not use a decimal point. To define a variable as a floating point, use a decimal point. When using an integer in a mathemical expression with a float, it will be converted to a float. In most of your programs, you will use Python's implicit type conversion. On occasion you will need to use explicit type conversion."
   ]
  },
  {
   "cell_type": "code",
   "execution_count": 2,
   "metadata": {},
   "outputs": [
    {
     "data": {
      "text/plain": [
       "2.5"
      ]
     },
     "execution_count": 2,
     "metadata": {},
     "output_type": "execute_result"
    }
   ],
   "source": [
    "x = 1\n",
    "y = 1.5\n",
    "z = x + y\n",
    "z"
   ]
  },
  {
   "cell_type": "code",
   "execution_count": 3,
   "metadata": {},
   "outputs": [
    {
     "data": {
      "text/plain": [
       "2"
      ]
     },
     "execution_count": 3,
     "metadata": {},
     "output_type": "execute_result"
    }
   ],
   "source": [
    "z = x +int(y)\n",
    "z"
   ]
  },
  {
   "cell_type": "markdown",
   "metadata": {
    "deletable": false,
    "editable": false,
    "nbgrader": {
     "cell_type": "markdown",
     "checksum": "aeed840b4813adbf8c279b7eea371333",
     "grade": false,
     "grade_id": "cell-5878ecbd58987e2d",
     "locked": true,
     "schema_version": 3,
     "solution": false,
     "task": false
    }
   },
   "source": [
    "We can use `**` to raise a number or variable to a power."
   ]
  },
  {
   "cell_type": "code",
   "execution_count": 4,
   "metadata": {},
   "outputs": [
    {
     "data": {
      "text/plain": [
       "64"
      ]
     },
     "execution_count": 4,
     "metadata": {},
     "output_type": "execute_result"
    }
   ],
   "source": [
    "x = 2\n",
    "y = x**6\n",
    "y"
   ]
  },
  {
   "cell_type": "markdown",
   "metadata": {
    "deletable": false,
    "editable": false,
    "nbgrader": {
     "cell_type": "markdown",
     "checksum": "0bcd454927fb8d23f97486c437e2107f",
     "grade": false,
     "grade_id": "cell-6af65e548be518ca",
     "locked": true,
     "schema_version": 3,
     "solution": false,
     "task": false
    }
   },
   "source": [
    "## Mathematical functions\n",
    "\n",
    "We can `numpy` for mathematical functions like square roots, trig functions and <i>oh</i>, so much more."
   ]
  },
  {
   "cell_type": "code",
   "execution_count": 5,
   "metadata": {},
   "outputs": [
    {
     "data": {
      "text/plain": [
       "1.4142135623730951"
      ]
     },
     "execution_count": 5,
     "metadata": {},
     "output_type": "execute_result"
    }
   ],
   "source": [
    "a = np.sqrt(2)\n",
    "a"
   ]
  },
  {
   "cell_type": "markdown",
   "metadata": {
    "deletable": false,
    "editable": false,
    "nbgrader": {
     "cell_type": "markdown",
     "checksum": "67f0f2ae12cc23a4914237660e6ff596",
     "grade": false,
     "grade_id": "cell-f3b97814bb4bcbd9",
     "locked": true,
     "schema_version": 3,
     "solution": false,
     "task": false
    }
   },
   "source": [
    "Use the string method `format()` to insert values of variables into a printed string. In the example below, the value of the variable is inserted into the string at `{:.5f}`. The `5` represents the number of decimal places and `f` specifies a float."
   ]
  },
  {
   "cell_type": "code",
   "execution_count": 6,
   "metadata": {},
   "outputs": [
    {
     "name": "stdout",
     "output_type": "stream",
     "text": [
      "The square root of 2 is 1.41421.\n"
     ]
    }
   ],
   "source": [
    "print(\"The square root of 2 is {:.5f}.\".format(a))"
   ]
  },
  {
   "cell_type": "markdown",
   "metadata": {
    "deletable": false,
    "editable": false,
    "nbgrader": {
     "cell_type": "markdown",
     "checksum": "2677f76a1f5778e7688ddf4a159048b8",
     "grade": false,
     "grade_id": "cell-e40a46ea65f36d62",
     "locked": true,
     "schema_version": 3,
     "solution": false,
     "task": false
    }
   },
   "source": [
    "For trig functions, one must convert angles in degrees to radians by multiplying by $\\pi/180$."
   ]
  },
  {
   "cell_type": "code",
   "execution_count": 7,
   "metadata": {},
   "outputs": [
    {
     "name": "stdout",
     "output_type": "stream",
     "text": [
      "cos(1.047) = 0.500.\n"
     ]
    }
   ],
   "source": [
    "theta = 60*np.pi/180\n",
    "b = np.cos(theta)\n",
    "print(\"cos({:.3f}) = {:.3f}.\".format(theta,b))"
   ]
  },
  {
   "cell_type": "markdown",
   "metadata": {
    "deletable": false,
    "editable": false,
    "nbgrader": {
     "cell_type": "markdown",
     "checksum": "23de6beab0788c75219532542f8d1aa8",
     "grade": false,
     "grade_id": "cell-d6dfbf82ea7cae59",
     "locked": true,
     "schema_version": 3,
     "solution": false,
     "task": false
    }
   },
   "source": [
    "The natural exponential function is $e^{x}$ where $e = 2.71828183...$ is the base of the natural logarithm, $\\ln x$. `numpy` has $e$ built in as `np.e`, so one <i>could</i> compute $e^{x}$ as `np.e**x`, but it's better practice to use ```np.exp(x)```."
   ]
  },
  {
   "cell_type": "code",
   "execution_count": 8,
   "metadata": {},
   "outputs": [
    {
     "name": "stdout",
     "output_type": "stream",
     "text": [
      "e^1 = 2.718281828\n"
     ]
    }
   ],
   "source": [
    "x = 1\n",
    "y = np.exp(x)\n",
    "print(\"e^{:d} = {:.9f}\".format(x,y))"
   ]
  },
  {
   "cell_type": "markdown",
   "metadata": {
    "deletable": false,
    "editable": false,
    "nbgrader": {
     "cell_type": "markdown",
     "checksum": "16db02f9f51fc0ad609c50971571fc2d",
     "grade": false,
     "grade_id": "cell-a587814c03cae51a",
     "locked": true,
     "schema_version": 3,
     "solution": false,
     "task": false
    }
   },
   "source": [
    "## Lists\n",
    "\n",
    "Python [sequences](https://docs.python.org/3.9/library/stdtypes.html#sequence-types-list-tuple-range) include lists, tuples, and range objects. \n",
    "\n",
    "**Lists** are convenient for storing calculated data or for storing objects through which you will iterate (using a list to store planets in a solar system simulation or charged particles in calculating net electric field). Lists are like arrays in other languages. However, we will distinguish **lists** from `numpy` **arrays** because arrays can be used in numerical expressions (calculations) and lists cannot. We'll explore this important difference between lists and numpy arrays later in this notebook.\n",
    "\n",
    "**Range** objects will mostly be used with `for` loops."
   ]
  },
  {
   "cell_type": "code",
   "execution_count": 9,
   "metadata": {},
   "outputs": [
    {
     "name": "stdout",
     "output_type": "stream",
     "text": [
      "[]\n",
      "[0, 2, 4, 6, 8]\n"
     ]
    }
   ],
   "source": [
    "b = [] #empty list\n",
    "print(b)\n",
    "\n",
    "b = [0, 2, 4, 6, 8]\n",
    "print(b)"
   ]
  },
  {
   "cell_type": "markdown",
   "metadata": {
    "deletable": false,
    "editable": false,
    "nbgrader": {
     "cell_type": "markdown",
     "checksum": "fbd851b392a30ee85c85ff9f6339dd8b",
     "grade": false,
     "grade_id": "cell-b71879730ba78577",
     "locked": true,
     "schema_version": 3,
     "solution": false,
     "task": false
    }
   },
   "source": [
    "You can append items to a list:"
   ]
  },
  {
   "cell_type": "code",
   "execution_count": 10,
   "metadata": {},
   "outputs": [
    {
     "data": {
      "text/plain": [
       "[0, 2, 4, 6, 8, 10]"
      ]
     },
     "execution_count": 10,
     "metadata": {},
     "output_type": "execute_result"
    }
   ],
   "source": [
    "b.append(10)\n",
    "b"
   ]
  },
  {
   "cell_type": "markdown",
   "metadata": {
    "deletable": false,
    "editable": false,
    "nbgrader": {
     "cell_type": "markdown",
     "checksum": "3ce4fd130d0cf9349eea9f477deca2bb",
     "grade": false,
     "grade_id": "cell-2676df01671784a4",
     "locked": true,
     "schema_version": 3,
     "solution": false,
     "task": false
    }
   },
   "source": [
    "You can reference the $i^{th}$ item in a list:"
   ]
  },
  {
   "cell_type": "code",
   "execution_count": 11,
   "metadata": {},
   "outputs": [
    {
     "data": {
      "text/plain": [
       "4"
      ]
     },
     "execution_count": 11,
     "metadata": {},
     "output_type": "execute_result"
    }
   ],
   "source": [
    "b[2]"
   ]
  },
  {
   "cell_type": "markdown",
   "metadata": {
    "deletable": false,
    "editable": false,
    "nbgrader": {
     "cell_type": "markdown",
     "checksum": "f37b9ffcfbfe86f99dd7b070aa3fade4",
     "grade": false,
     "grade_id": "cell-16f766ff74fa3656",
     "locked": true,
     "schema_version": 3,
     "solution": false,
     "task": false
    }
   },
   "source": [
    "Note that Python indexing starts with 0. That is, `b[0]` is the first element, `b[1]` is the second element, and so on. If you have any experience using C/C++, this might be familiar. FORTRAN and MATLAB begin the indexing at 1."
   ]
  },
  {
   "cell_type": "markdown",
   "metadata": {
    "deletable": false,
    "editable": false,
    "nbgrader": {
     "cell_type": "markdown",
     "checksum": "859cda1b4580b1ca757c3c1dc1a8202f",
     "grade": false,
     "grade_id": "cell-bd39ea0211277cf9",
     "locked": true,
     "schema_version": 3,
     "solution": false,
     "task": false
    }
   },
   "source": [
    "## Array slicing\n",
    "\n",
    "Use `:` with the first element and last element to select a slice of the list. The slice does not include the last element. For example, the following returns `[b[2],b[3]]'`. "
   ]
  },
  {
   "cell_type": "code",
   "execution_count": 12,
   "metadata": {},
   "outputs": [
    {
     "data": {
      "text/plain": [
       "[4, 6]"
      ]
     },
     "execution_count": 12,
     "metadata": {},
     "output_type": "execute_result"
    }
   ],
   "source": [
    "b[2:4]"
   ]
  },
  {
   "cell_type": "markdown",
   "metadata": {
    "deletable": false,
    "editable": false,
    "nbgrader": {
     "cell_type": "markdown",
     "checksum": "004efc97b81a7f400b7f029669b11ecb",
     "grade": false,
     "grade_id": "cell-af05e29c58602982",
     "locked": true,
     "schema_version": 3,
     "solution": false,
     "task": false
    }
   },
   "source": [
    "The array slicing, combined with counterintuitive indexing can make one queasy when learning. When you're trying to do something complicated, there is no shame in taking a simple list (e.g., `[0,1,2,3,4,5...]`) and trying different slicing/indexing techniques to get a sense for what Python will return in the general case."
   ]
  },
  {
   "cell_type": "markdown",
   "metadata": {
    "deletable": false,
    "editable": false,
    "nbgrader": {
     "cell_type": "markdown",
     "checksum": "62c4454980b5cba196bce062c3242663",
     "grade": false,
     "grade_id": "cell-559327ad89404b46",
     "locked": true,
     "schema_version": 3,
     "solution": false,
     "task": false
    }
   },
   "source": [
    "## Range\n",
    "\n",
    "Create a [range](https://docs.python.org/3.9/library/stdtypes.html#range) of integers from min to max (but not including the max), with a step size. This is especiallly useful in a `for` loop. The default step size is 1 and the default starting integer is 0."
   ]
  },
  {
   "cell_type": "code",
   "execution_count": 13,
   "metadata": {},
   "outputs": [
    {
     "name": "stdout",
     "output_type": "stream",
     "text": [
      "Print N integers starting at 0.\n",
      "0\n",
      "1\n",
      "2\n",
      "3\n",
      "4\n",
      "5\n",
      "6\n",
      "7\n",
      "8\n",
      "9\n"
     ]
    }
   ],
   "source": [
    "print(\"Print N integers starting at 0.\")\n",
    "for n in range(10):\n",
    "    print(n)"
   ]
  },
  {
   "cell_type": "code",
   "execution_count": 14,
   "metadata": {},
   "outputs": [
    {
     "name": "stdout",
     "output_type": "stream",
     "text": [
      "Customize the min, max, and step size.\n",
      "1\n",
      "3\n",
      "5\n",
      "7\n",
      "9\n"
     ]
    }
   ],
   "source": [
    "print(\"Customize the min, max, and step size.\")    \n",
    "for n in range(1,10,2):\n",
    "    print(n)\n"
   ]
  },
  {
   "cell_type": "code",
   "execution_count": 15,
   "metadata": {},
   "outputs": [
    {
     "name": "stdout",
     "output_type": "stream",
     "text": [
      "Calculate cosines of angles around a circle and store the values in a list.\n",
      "[1.0, 0.8660254037844387, 0.5000000000000001, 6.123233995736766e-17, -0.4999999999999998, -0.8660254037844387, -1.0, -0.8660254037844386, -0.5000000000000004, -1.8369701987210297e-16, 0.5, 0.8660254037844384]\n"
     ]
    }
   ],
   "source": [
    "print(\"Calculate cosines of angles around a circle and store the values in a list.\")\n",
    "cosines = []\n",
    "for theta in range(0,360,30):\n",
    "    theta_rad = np.pi*theta/180\n",
    "    cosines.append(np.cos(theta_rad))\n",
    "\n",
    "print(cosines)"
   ]
  },
  {
   "cell_type": "markdown",
   "metadata": {
    "deletable": false,
    "editable": false,
    "nbgrader": {
     "cell_type": "markdown",
     "checksum": "2e0ff2920135d329195cc2ee96678dfa",
     "grade": false,
     "grade_id": "cell-d53daf5f62776ee3",
     "locked": true,
     "schema_version": 3,
     "solution": false,
     "task": false
    }
   },
   "source": [
    "## Iterate over a list\n",
    "\n",
    "You can use a `for` loop to iterate over any sequence. This is particularly useful if you have values stored in a list."
   ]
  },
  {
   "cell_type": "code",
   "execution_count": 16,
   "metadata": {},
   "outputs": [
    {
     "name": "stdout",
     "output_type": "stream",
     "text": [
      "Color 0 is red.\n",
      "Color 1 is green.\n",
      "Color 2 is blue.\n",
      "\n",
      "Color 0 is red.\n",
      "Color 1 is green.\n",
      "Color 2 is blue.\n"
     ]
    }
   ],
   "source": [
    "colors = ['red', 'green', 'blue']\n",
    "\n",
    "#iterate over list items\n",
    "for c in colors:\n",
    "    i = colors.index(c)\n",
    "    print(\"Color {:d} is {}.\".format(i,c))\n",
    "\n",
    "print()\n",
    "#iterate over index\n",
    "for i in range(len(colors)):\n",
    "    c = colors[i]\n",
    "    print(\"Color {:d} is {}.\".format(i,c))\n"
   ]
  },
  {
   "cell_type": "markdown",
   "metadata": {
    "deletable": false,
    "editable": false,
    "nbgrader": {
     "cell_type": "markdown",
     "checksum": "b87677c88121fffc4b49128598ec36b1",
     "grade": false,
     "grade_id": "cell-7961860312bd1b4d",
     "locked": true,
     "schema_version": 3,
     "solution": false,
     "task": false
    }
   },
   "source": [
    "## Python's random number generator\n",
    "\n",
    "We will return to exploring random numbers in more detail next week. But as a reference, here is the basic information about generating random numbers with `numpy`."
   ]
  },
  {
   "cell_type": "markdown",
   "metadata": {
    "deletable": false,
    "editable": false,
    "nbgrader": {
     "cell_type": "markdown",
     "checksum": "3b81e3d5a37aecabd9c054ddf6c80c6e",
     "grade": false,
     "grade_id": "cell-e737486178e76d33",
     "locked": true,
     "schema_version": 3,
     "solution": false,
     "task": false
    }
   },
   "source": [
    "You can [read more about the functions](https://docs.python.org/3.7/library/random.html) available in Python for generating a random number. These include:\n",
    "\n",
    "- `random.randint(a, b)` Return a random integer $N$ such that $a <= N <= b$. Alias for `randrange(a, b+1)`.\n",
    "   \n",
    "- `random.random()` Return a random floating point number in the range $[0.0, 1.0)$.\n",
    "   \n",
    "- `random.uniform(a, b)` Return a random floating point number $N$ such that:\n",
    "   \n",
    "   - $a <= N <= b$ for $a <= b$\n",
    "   - $b <= N <= a$ for $b < a$.\n",
    "\n",
    "   The end-point value b may or may not be included in the range depending on floating-point rounding in the equation `a + (b-a) * random()`.\n",
    "   \n",
    "If you import all of the package `random` with an alias, then you can use an alias to call the functions. For example, you can use:\n",
    "\n",
    "```\n",
    "import random as rand\n",
    "```"
   ]
  },
  {
   "cell_type": "code",
   "execution_count": 18,
   "metadata": {},
   "outputs": [
    {
     "data": {
      "text/plain": [
       "0.29193652272204074"
      ]
     },
     "execution_count": 18,
     "metadata": {},
     "output_type": "execute_result"
    }
   ],
   "source": [
    "a = rand.random()\n",
    "a"
   ]
  },
  {
   "cell_type": "markdown",
   "metadata": {
    "deletable": false,
    "editable": false,
    "nbgrader": {
     "cell_type": "markdown",
     "checksum": "d88cb30e50f6b0ad9d7a0fea5e1c9973",
     "grade": false,
     "grade_id": "cell-c3fbab241efef99d",
     "locked": true,
     "schema_version": 3,
     "solution": false,
     "task": false
    }
   },
   "source": [
    "Note that you can access these functions using `numpy` without importing `random` separately. Here is the same function:"
   ]
  },
  {
   "cell_type": "code",
   "execution_count": 20,
   "metadata": {},
   "outputs": [
    {
     "data": {
      "text/plain": [
       "0.6703128232307136"
      ]
     },
     "execution_count": 20,
     "metadata": {},
     "output_type": "execute_result"
    }
   ],
   "source": [
    "a = np.random.random()\n",
    "a"
   ]
  },
  {
   "cell_type": "markdown",
   "metadata": {
    "deletable": false,
    "editable": false,
    "nbgrader": {
     "cell_type": "markdown",
     "checksum": "720fff4a3651ba87e2146b640a426e4f",
     "grade": false,
     "grade_id": "cell-20e952d29cac5d8c",
     "locked": true,
     "schema_version": 3,
     "solution": false,
     "task": false
    }
   },
   "source": [
    "## VPython\n",
    "\n",
    "VPython is useful for 3D visualization. Install it using:\n",
    "\n",
    "```\n",
    "conda install -c vpython vpython\n",
    "```\n",
    "\n",
    "It will run in Jupyter but has some ill behavior specific to Jupyter. It is best to follow these practices when using VPython in Jupyter:\n",
    "\n",
    "- `import` vpython in its own cell.\n",
    "- use `scene=canvas()` at the beginning of your program.\n",
    "- run all vpython code that updates the scene in the same cell.\n",
    "- restart the kernel and clear the output if the scene is not being updated.\n",
    "- for writing and testing a complete program, use an IDE like PyCharm.\n",
    "\n",
    "Creating a canvas is important for creating canvases in different cells.\n",
    "\n"
   ]
  },
  {
   "cell_type": "markdown",
   "metadata": {
    "deletable": false,
    "editable": false,
    "nbgrader": {
     "cell_type": "markdown",
     "checksum": "11693ff807d32ecf3788a99c71459bb7",
     "grade": false,
     "grade_id": "cell-680c1df595c085cf",
     "locked": true,
     "schema_version": 3,
     "solution": false,
     "task": false
    }
   },
   "source": [
    "## Defining a Function\n",
    "\n",
    "`np.cos()` and `np.exp()` are examples of functions that take an argument (passed to the function) and return a result. Functions can take any number of arguments (including no arguments) and can return any object. Variables defined within a function cannot be referenced outside the function. Variables defined outside a function can be referenced, but not changed, inside a function. \n",
    "\n",
    "I will create some exercises whereby you have to create a function. These exercises allow you to test your code before you submit your notebook.\n",
    "\n",
    "Here is an example. Note the use of a [docstring](https://www.python.org/dev/peps/pep-0257/) to describe the function. Here is its convention.\n",
    "\n",
    "\n",
    "```python\n",
    "def complex(real=0.0, imag=0.0):\n",
    "    \"\"\"Form a complex number.\n",
    "\n",
    "    Keyword arguments:\n",
    "    real -- the real part (default 0.0)\n",
    "    imag -- the imaginary part (default 0.0)\n",
    "    \"\"\"\n",
    "    \n",
    "    ...\n",
    "```\n",
    "\n",
    "### Example\n",
    "\n",
    "Define a function `K(m,vmag)` that takes the mass in kg and speed in m/s of a particle and calculates and returns its kinetic energy, assuming a non-relativistic speed. The kinetic energy of a particle is its *energy associated with its motion*. For speeds significantly less than the speed of light, the kinetic energy of a particle is\n",
    "\n",
    "$$K \\approx \\frac{1}{2}mv^2$$\n",
    "\n",
    "and its SI unit is J, joule.\n",
    "\n",
    "The variable $v$ is the speed of the particle and is calculated as $|\\vec{v}|=\\sqrt{v_x^2+v_y^2+v_z^2}$. "
   ]
  },
  {
   "cell_type": "code",
   "execution_count": 23,
   "metadata": {},
   "outputs": [],
   "source": [
    "def K(m=0, vmag=0):\n",
    "    \"\"\"Calculate the kinetic energy of a particle.\n",
    "    \n",
    "    Keyword arguments:\n",
    "    m -- mass in kg (default 0)\n",
    "    vmag -- non-relativistic speed in m/s (default 0)\n",
    "    \"\"\"\n",
    "    \n",
    "    K = 1/2*m*vmag**2\n",
    "    \n",
    "    return K"
   ]
  },
  {
   "cell_type": "code",
   "execution_count": 24,
   "metadata": {},
   "outputs": [
    {
     "data": {
      "text/plain": [
       "0.5"
      ]
     },
     "execution_count": 24,
     "metadata": {},
     "output_type": "execute_result"
    }
   ],
   "source": [
    "K(1,1)"
   ]
  },
  {
   "cell_type": "markdown",
   "metadata": {
    "deletable": false,
    "editable": false,
    "nbgrader": {
     "cell_type": "markdown",
     "checksum": "8e5cef34c7a386288734b74828a2dfb9",
     "grade": false,
     "grade_id": "cell-5762a7d87a1bd9dd",
     "locked": true,
     "schema_version": 3,
     "solution": false,
     "task": false
    }
   },
   "source": [
    "# Exercises"
   ]
  },
  {
   "cell_type": "markdown",
   "metadata": {
    "deletable": false,
    "editable": false,
    "nbgrader": {
     "cell_type": "markdown",
     "checksum": "484c5a28ae3f3aee177dfda4b4e1806d",
     "grade": false,
     "grade_id": "cell-7be67a5556bfba48",
     "locked": true,
     "schema_version": 3,
     "solution": false,
     "task": false
    }
   },
   "source": [
    "### 1. Function for radian conversion\n",
    "\n",
    "Create a function `rad()` that takes an angle in degrees and converts it to radians. The conversion is\n",
    "\n",
    "$$\\pi = 180^\\circ $$\n",
    "\n",
    "<i>Hint: </i> Make sure your function maps all angles (positive or negative) to the range $[0,2\\pi]$. You might want to look up what the function `np.mod()` does."
   ]
  },
  {
   "cell_type": "code",
   "execution_count": 28,
   "metadata": {
    "deletable": false,
    "nbgrader": {
     "cell_type": "code",
     "checksum": "fe7e152c8dcf73f078678795e2fe27d2",
     "grade": false,
     "grade_id": "cell-7718248caa706f60",
     "locked": false,
     "schema_version": 3,
     "solution": true,
     "task": false
    }
   },
   "outputs": [],
   "source": [
    "def rad(theta_deg):\n",
    "    \"\"\"Convert an angle from degrees to radians.\n",
    "    \n",
    "    Keyword arguments:\n",
    "    theta_deg -- an angle in degrees\n",
    "    \n",
    "    Requires:\n",
    "    numpy\n",
    "    \n",
    "    \"\"\"\n",
    "    \n",
    "    return (theta_deg*np.pi)/180\n",
    "    raise NotImplementedError()"
   ]
  },
  {
   "cell_type": "markdown",
   "metadata": {
    "deletable": false,
    "editable": false,
    "nbgrader": {
     "cell_type": "markdown",
     "checksum": "aed51f850b17cc8242dcfe855648aaf9",
     "grade": false,
     "grade_id": "cell-5f9683aefeabcb9f",
     "locked": true,
     "schema_version": 3,
     "solution": false,
     "task": false
    }
   },
   "source": [
    "Note that 90 degrees is $\\pi/2$ (or 1.57) radians. Run the cell below to test your function."
   ]
  },
  {
   "cell_type": "code",
   "execution_count": 29,
   "metadata": {
    "deletable": false,
    "editable": false,
    "nbgrader": {
     "cell_type": "code",
     "checksum": "03028e343a2cdc3cafce8cce94efac7d",
     "grade": false,
     "grade_id": "cell-6cd164c75ba7a009",
     "locked": true,
     "schema_version": 3,
     "solution": false,
     "task": false
    }
   },
   "outputs": [
    {
     "data": {
      "text/plain": [
       "1.5707963267948966"
      ]
     },
     "execution_count": 29,
     "metadata": {},
     "output_type": "execute_result"
    }
   ],
   "source": [
    "rad(90)"
   ]
  },
  {
   "cell_type": "code",
   "execution_count": 30,
   "metadata": {
    "deletable": false,
    "editable": false,
    "nbgrader": {
     "cell_type": "code",
     "checksum": "8f5318fac9d2663588dc0f97f84a7f7b",
     "grade": true,
     "grade_id": "cell-08cfe0279befe851",
     "locked": true,
     "points": 5,
     "schema_version": 3,
     "solution": false,
     "task": false
    }
   },
   "outputs": [],
   "source": [
    "'''case 1'''\n",
    "assert np.isclose(np.pi/4,rad(45))"
   ]
  },
  {
   "cell_type": "markdown",
   "metadata": {
    "deletable": false,
    "editable": false,
    "nbgrader": {
     "cell_type": "markdown",
     "checksum": "60d04b65689db005f92202049583917a",
     "grade": false,
     "grade_id": "cell-04042657f19e9c6f",
     "locked": true,
     "schema_version": 3,
     "solution": false,
     "task": false
    }
   },
   "source": [
    "### 2. First element in an array\n",
    "\n",
    "Write a function that returns only the first value of a list or one-dimensional array. Yes, it's redundant. But we must learn to crawl before we can learn to walk."
   ]
  },
  {
   "cell_type": "code",
   "execution_count": 47,
   "metadata": {
    "deletable": false,
    "nbgrader": {
     "cell_type": "code",
     "checksum": "bf3985ae8a497f09283211a07adb5106",
     "grade": false,
     "grade_id": "cell-03a161d4df2e6c92",
     "locked": false,
     "schema_version": 3,
     "solution": true,
     "task": false
    }
   },
   "outputs": [],
   "source": [
    "def first_element(x):\n",
    "    \n",
    "    return x[0]\n",
    "    raise NotImplementedError()"
   ]
  },
  {
   "cell_type": "markdown",
   "metadata": {
    "deletable": false,
    "editable": false,
    "nbgrader": {
     "cell_type": "markdown",
     "checksum": "fdf732f06572960e34430eb68da8c902",
     "grade": false,
     "grade_id": "cell-202024638dfd415c",
     "locked": true,
     "schema_version": 3,
     "solution": false,
     "task": false
    }
   },
   "source": [
    "You should test your programs. Here is a blank cell where you can play around with your creation. Note that you can always insert more cells for this purpose using the `+` icon on the upper left."
   ]
  },
  {
   "cell_type": "code",
   "execution_count": null,
   "metadata": {},
   "outputs": [],
   "source": []
  },
  {
   "cell_type": "code",
   "execution_count": 48,
   "metadata": {
    "deletable": false,
    "editable": false,
    "nbgrader": {
     "cell_type": "code",
     "checksum": "cd39e8a8a134c1940405316254c5bcda",
     "grade": true,
     "grade_id": "cell-1f477776637714c5",
     "locked": true,
     "points": 5,
     "schema_version": 3,
     "solution": false,
     "task": false
    }
   },
   "outputs": [],
   "source": [
    "'''case 1'''\n",
    "x = np.linspace(3,4,100)\n",
    "assert np.isclose(3,first_element(x))\n"
   ]
  },
  {
   "cell_type": "markdown",
   "metadata": {
    "deletable": false,
    "editable": false,
    "nbgrader": {
     "cell_type": "markdown",
     "checksum": "2623efaa15d91d8203784b51035ccb52",
     "grade": false,
     "grade_id": "cell-dd95c5203909f917",
     "locked": true,
     "schema_version": 3,
     "solution": false,
     "task": false
    }
   },
   "source": [
    "### 3. <i>Last</i> element in an array\n",
    "\n",
    "Write a function that returns only the last entry of the list or one-dimensional array. There is also an equally quick way of doing this. I'm asking you to think about how to accomplish this task without the slick Python indexing. Without using the \"fast way,\" this is not as easy because different sized arrays will have different numbers of entries. So you need two lines instead of one line.\n",
    "\n",
    "I would think about what the function `len()` can do for you here."
   ]
  },
  {
   "cell_type": "code",
   "execution_count": 36,
   "metadata": {
    "deletable": false,
    "nbgrader": {
     "cell_type": "code",
     "checksum": "0fd7f520faee4f1ec10c9ae18848c032",
     "grade": false,
     "grade_id": "cell-813f66ad8bd721c4",
     "locked": false,
     "schema_version": 3,
     "solution": true,
     "task": false
    }
   },
   "outputs": [],
   "source": [
    "def last_element(x):\n",
    "    \n",
    "    return x[len(x)-1]\n",
    "    raise NotImplementedError()"
   ]
  },
  {
   "cell_type": "code",
   "execution_count": 38,
   "metadata": {
    "deletable": false,
    "editable": false,
    "nbgrader": {
     "cell_type": "code",
     "checksum": "cf3d3b7776e6d23f1b2e83aacbcd02e7",
     "grade": true,
     "grade_id": "cell-944b169e1a7fb551",
     "locked": true,
     "points": 5,
     "schema_version": 3,
     "solution": false,
     "task": false
    }
   },
   "outputs": [],
   "source": [
    "'''case 1'''\n",
    "x = np.linspace(3,4,100)\n",
    "assert np.isclose(4,last_element(x))\n"
   ]
  },
  {
   "cell_type": "code",
   "execution_count": null,
   "metadata": {},
   "outputs": [],
   "source": []
  },
  {
   "cell_type": "markdown",
   "metadata": {
    "deletable": false,
    "editable": false,
    "nbgrader": {
     "cell_type": "markdown",
     "checksum": "13c23f1b1303a65857764e17fe2f6f5b",
     "grade": false,
     "grade_id": "cell-34a608c05cc4c16b",
     "locked": true,
     "schema_version": 3,
     "solution": false,
     "task": false
    }
   },
   "source": [
    "<h3> 4. Factorial</h3>\n",
    "\n",
    "Here's one more redundant but instructive example. The factorial function is defined for <i>positive</i> integers $n$ as \n",
    "\n",
    "$$n! = 1\\cdot 2\\cdot \\cdots \\cdot n$$\n",
    "\n",
    "Write a function to compute the factorial for an integer $n$. You could do this several ways, but I think the `for` loop is easiest. Also note that this is redundant because Python has the function already (`factorial(n)`). But it's also instructive. To be clear, you should <i>not</i> have `factorial()` anywhere in you're function. Yes, you're reinventing the wheel here! "
   ]
  },
  {
   "cell_type": "code",
   "execution_count": 11,
   "metadata": {
    "deletable": false,
    "nbgrader": {
     "cell_type": "code",
     "checksum": "3396c043f7dd28c42b5c265ddc69625a",
     "grade": false,
     "grade_id": "cell-2d13abf8f3f99849",
     "locked": false,
     "schema_version": 3,
     "solution": true,
     "task": false
    }
   },
   "outputs": [],
   "source": [
    "def fact(n):\n",
    "    \n",
    "#    x=1\n",
    "    for i in range(1,n):\n",
    "        n=n*i\n",
    "    return n\n",
    "    raise NotImplementedError()"
   ]
  },
  {
   "cell_type": "code",
   "execution_count": 23,
   "metadata": {},
   "outputs": [
    {
     "data": {
      "text/plain": [
       "120"
      ]
     },
     "execution_count": 23,
     "metadata": {},
     "output_type": "execute_result"
    }
   ],
   "source": [
    "fact(5)"
   ]
  },
  {
   "cell_type": "code",
   "execution_count": 24,
   "metadata": {
    "deletable": false,
    "editable": false,
    "nbgrader": {
     "cell_type": "code",
     "checksum": "5c897b615d13c122da786c285539545a",
     "grade": true,
     "grade_id": "cell-449afffeec4de77e",
     "locked": true,
     "points": 5,
     "schema_version": 3,
     "solution": false,
     "task": false
    }
   },
   "outputs": [],
   "source": [
    "'''case 1'''\n",
    "assert np.isclose(6,fact(3))"
   ]
  },
  {
   "cell_type": "markdown",
   "metadata": {
    "deletable": false,
    "editable": false,
    "nbgrader": {
     "cell_type": "markdown",
     "checksum": "7c77e9bf425de41618d9b1adf8da39ba",
     "grade": false,
     "grade_id": "cell-1336def6c04f1eed",
     "locked": true,
     "schema_version": 3,
     "solution": false,
     "task": false
    }
   },
   "source": [
    "Does your function happen to work for $n=0$? Perhaps strangely (though for good reason), we define $0! = 1$. You can compare your output of `fact(n)` to that of `factorial(n)`."
   ]
  },
  {
   "cell_type": "markdown",
   "metadata": {
    "deletable": false,
    "editable": false,
    "nbgrader": {
     "cell_type": "markdown",
     "checksum": "ddf37372a6945232a1028e77c834edf8",
     "grade": false,
     "grade_id": "cell-f7702d9e497865fa",
     "locked": true,
     "schema_version": 3,
     "solution": false,
     "task": false
    }
   },
   "source": [
    "<h3>5. From crawling to walking: the <i>hyper</i>factorial</h3>\n",
    "  \n",
    "In <i>doing</i> physics, you often encounter some fairly exotic mathematical functions. One of these strange beasts is the <b>hyperfactorial</b> function, defined for an integer $n$ as\n",
    "\n",
    "$$H(n) = 1^{1}\\cdot 2^{2} \\cdot 3^{3} \\cdot \\cdots \\cdot n^{n}$$\n",
    "\n",
    "This is an example of something Python does <i>not</i> have lying around waiting for you to call. Write a function which computes $H(n)$ for a positive integer $n$. "
   ]
  },
  {
   "cell_type": "code",
   "execution_count": 33,
   "metadata": {
    "deletable": false,
    "nbgrader": {
     "cell_type": "code",
     "checksum": "5ee4aa6ecc74dedce5b790b7e300aa49",
     "grade": false,
     "grade_id": "cell-23a64d3a631cc2ef",
     "locked": false,
     "schema_version": 3,
     "solution": true,
     "task": false
    }
   },
   "outputs": [],
   "source": [
    "def hyperfact(n):\n",
    "    \n",
    "    val=1\n",
    "    for i in range(1,n+1):\n",
    "        val=val*pow(i,i)\n",
    "    return val\n",
    "    raise NotImplementedError()"
   ]
  },
  {
   "cell_type": "code",
   "execution_count": 34,
   "metadata": {},
   "outputs": [
    {
     "data": {
      "text/plain": [
       "108"
      ]
     },
     "execution_count": 34,
     "metadata": {},
     "output_type": "execute_result"
    }
   ],
   "source": [
    "hyperfact(3)"
   ]
  },
  {
   "cell_type": "code",
   "execution_count": 35,
   "metadata": {
    "deletable": false,
    "editable": false,
    "nbgrader": {
     "cell_type": "code",
     "checksum": "4a5df9997d5668f4a023716bfdcc092b",
     "grade": true,
     "grade_id": "cell-70a9ca0b7bf51017",
     "locked": true,
     "points": 5,
     "schema_version": 3,
     "solution": false,
     "task": false
    }
   },
   "outputs": [],
   "source": [
    "'''case 1'''\n",
    "assert np.isclose(108,hyperfact(3))"
   ]
  },
  {
   "cell_type": "markdown",
   "metadata": {
    "deletable": false,
    "editable": false,
    "nbgrader": {
     "cell_type": "markdown",
     "checksum": "bad5ad26074f0a3fd0bf88253b69233f",
     "grade": false,
     "grade_id": "cell-c3e90a69ad94a47c",
     "locked": true,
     "schema_version": 3,
     "solution": false,
     "task": false
    }
   },
   "source": [
    "Note that this thing grows pretty explosively. Use with caution. You can check out [Wikipedia](https://en.wikipedia.org/wiki/Hyperfactorial) for the list of the first few $H(n)$ to check your function."
   ]
  },
  {
   "cell_type": "markdown",
   "metadata": {
    "deletable": false,
    "editable": false,
    "nbgrader": {
     "cell_type": "markdown",
     "checksum": "43ea1899a389fe1ece2bb4e2acfd5148",
     "grade": false,
     "grade_id": "cell-4bd4b4cf34d827aa",
     "locked": true,
     "schema_version": 3,
     "solution": false,
     "task": false
    }
   },
   "source": [
    "<h3>6. Plotting to make sense of madness</h3>\n",
    "\n",
    "We have not made use of plots so far, but they're quite useful. Given lists (or one-dimensional arrays) `x` and `y`, we can generate a plot using `matplotlib` as:\n",
    "\n",
    "```\n",
    "plt.plot(x,y)\n",
    "plt.xlabel('x label')\n",
    "plt.ylabel('y label')\n",
    "plt.show()\n",
    "```\n",
    "\n",
    "These rapidly growing functions can actually be shown to behave approximately (for large $n$) as\n",
    "\n",
    "$$n! \\sim C_{1}\\sqrt{n}n^{n}e^{-n}$$\n",
    "\n",
    "$$H(n) \\sim C_{2}n^{(6n^{2}+6n+1)/12}e^{-n^{2}/4}$$\n",
    "\n",
    "for some constants $C_{1}$, $C_{2}$. To test this with our expressions for $n!$ and $H(n)$, we can compute the following ratios:\n",
    "\n",
    "$$y_{1}(n) \\equiv \\frac{n!}{\\sqrt{n}n^{n}e^{-n}}$$\n",
    "\n",
    "$$y_{2}(n) \\equiv \\frac{H(n)}{n^{(6n^{2}+6n+1)/12}e^{-n^{2}/4}}$$\n",
    "\n",
    "Make plots of $y_{1,2}(n)$ vs $n$ to show that the functions approach constants."
   ]
  },
  {
   "cell_type": "markdown",
   "metadata": {
    "deletable": false,
    "editable": false,
    "nbgrader": {
     "cell_type": "markdown",
     "checksum": "7e1f4901f5af215d62f5cc6cabb13920",
     "grade": false,
     "grade_id": "cell-ffb8c4f7d9d729c9",
     "locked": true,
     "schema_version": 3,
     "solution": false,
     "task": false
    }
   },
   "source": [
    "<h4>Factorial asymptotics:</h4>"
   ]
  },
  {
   "cell_type": "code",
   "execution_count": 40,
   "metadata": {
    "deletable": false,
    "nbgrader": {
     "cell_type": "code",
     "checksum": "7d823a80d088ab0d7d0da81243c17258",
     "grade": false,
     "grade_id": "cell-d4bcbd3c07a5f966",
     "locked": false,
     "schema_version": 3,
     "solution": true,
     "task": false
    }
   },
   "outputs": [],
   "source": [
    "def y1(n):\n",
    "    \n",
    "    # YOUR CODE HERE\n",
    "    return fact(n)/(np.sqrt(n)*pow(n,n)*pow(np.e,-n))\n",
    "    raise NotImplementedError()"
   ]
  },
  {
   "cell_type": "markdown",
   "metadata": {
    "deletable": false,
    "editable": false,
    "nbgrader": {
     "cell_type": "markdown",
     "checksum": "c0dee2e6ec4ccb6f36073a3f97cd5aab",
     "grade": false,
     "grade_id": "cell-f5ec2cc1c30dc748",
     "locked": true,
     "schema_version": 3,
     "solution": false,
     "task": false
    }
   },
   "source": [
    "In the block below, do not worry if you get an error. The case $n=0$ results in dividing by zero. We <i>could</i> doctor up the function, but it's not important for our purposes. We do slice the array to avoid plotting the first problematic point."
   ]
  },
  {
   "cell_type": "code",
   "execution_count": 41,
   "metadata": {},
   "outputs": [
    {
     "name": "stderr",
     "output_type": "stream",
     "text": [
      "/var/folders/5y/f05xx2_d48d4jk28488my0980000gn/T/ipykernel_19066/4112456213.py:4: RuntimeWarning: invalid value encountered in double_scalars\n",
      "  return fact(n)/(np.sqrt(n)*pow(n,n)*pow(np.e,-n))\n"
     ]
    },
    {
     "data": {
      "image/png": "[encoded data removed]",
      "text/plain": [
       "<Figure size 640x480 with 1 Axes>"
      ]
     },
     "metadata": {},
     "output_type": "display_data"
    }
   ],
   "source": [
    "N = 10\n",
    "x = range(0,N)\n",
    "y = np.zeros(N)\n",
    "for i in range(0,N):\n",
    "    y[i] = y1(x[i])\n",
    "    \n",
    "plt.plot(x[1:],y[1:],'b.')\n",
    "plt.xlabel('n')\n",
    "plt.ylabel('y(n)')\n",
    "plt.show()"
   ]
  },
  {
   "cell_type": "markdown",
   "metadata": {
    "deletable": false,
    "editable": false,
    "nbgrader": {
     "cell_type": "markdown",
     "checksum": "cc2f2a2032e65d3e26d4b2d81602a641",
     "grade": false,
     "grade_id": "cell-4c6541e55044d8c6",
     "locked": true,
     "schema_version": 3,
     "solution": false,
     "task": false
    }
   },
   "source": [
    "Does your function converge to a constant? Try varying $N$. It can be shown that the constant $C_{1} = \\sqrt{2\\pi}$. Is your result consistent?"
   ]
  },
  {
   "cell_type": "code",
   "execution_count": 42,
   "metadata": {
    "deletable": false,
    "editable": false,
    "nbgrader": {
     "cell_type": "code",
     "checksum": "27c35c7972fdb1110d4e3d26ef94a165",
     "grade": true,
     "grade_id": "cell-913245540f8d23e7",
     "locked": true,
     "points": 5,
     "schema_version": 3,
     "solution": false,
     "task": false
    }
   },
   "outputs": [],
   "source": [
    "'''case 1'''\n",
    "assert np.isclose(2.718281828459045,y1(1))"
   ]
  },
  {
   "cell_type": "markdown",
   "metadata": {
    "deletable": false,
    "editable": false,
    "nbgrader": {
     "cell_type": "markdown",
     "checksum": "0d398e64f6c331c4fc544f64c592d4b4",
     "grade": false,
     "grade_id": "cell-3082702afe6758cd",
     "locked": true,
     "schema_version": 3,
     "solution": false,
     "task": false
    }
   },
   "source": [
    "<h4>Hyperfactorial asymptotics:</h4>"
   ]
  },
  {
   "cell_type": "code",
   "execution_count": 50,
   "metadata": {
    "deletable": false,
    "nbgrader": {
     "cell_type": "code",
     "checksum": "2267f76b00796ec2e7c12b547c1e4b41",
     "grade": false,
     "grade_id": "cell-6dbf21397839f154",
     "locked": false,
     "schema_version": 3,
     "solution": true,
     "task": false
    }
   },
   "outputs": [],
   "source": [
    "def y2(n):\n",
    "    \n",
    "    # YOUR CODE HERE\n",
    "    return hyperfact(n)/(pow(n,(6*pow(n,2)+6*n+1)/12)*pow(np.e,pow(-n,2)/4))\n",
    "    \n",
    "    raise NotImplementedError()"
   ]
  },
  {
   "cell_type": "code",
   "execution_count": 51,
   "metadata": {},
   "outputs": [
    {
     "ename": "ZeroDivisionError",
     "evalue": "float division by zero",
     "output_type": "error",
     "traceback": [
      "\u001b[0;31m---------------------------------------------------------------------------\u001b[0m",
      "\u001b[0;31mZeroDivisionError\u001b[0m                         Traceback (most recent call last)",
      "\u001b[0;32m/var/folders/5y/f05xx2_d48d4jk28488my0980000gn/T/ipykernel_19066/1917253634.py\u001b[0m in \u001b[0;36m<module>\u001b[0;34m\u001b[0m\n\u001b[1;32m      3\u001b[0m \u001b[0my\u001b[0m \u001b[0;34m=\u001b[0m \u001b[0mnp\u001b[0m\u001b[0;34m.\u001b[0m\u001b[0mzeros\u001b[0m\u001b[0;34m(\u001b[0m\u001b[0mN\u001b[0m\u001b[0;34m)\u001b[0m\u001b[0;34m\u001b[0m\u001b[0;34m\u001b[0m\u001b[0m\n\u001b[1;32m      4\u001b[0m \u001b[0;32mfor\u001b[0m \u001b[0mi\u001b[0m \u001b[0;32min\u001b[0m \u001b[0mrange\u001b[0m\u001b[0;34m(\u001b[0m\u001b[0;36m0\u001b[0m\u001b[0;34m,\u001b[0m\u001b[0mN\u001b[0m\u001b[0;34m)\u001b[0m\u001b[0;34m:\u001b[0m\u001b[0;34m\u001b[0m\u001b[0;34m\u001b[0m\u001b[0m\n\u001b[0;32m----> 5\u001b[0;31m     \u001b[0my\u001b[0m\u001b[0;34m[\u001b[0m\u001b[0mi\u001b[0m\u001b[0;34m]\u001b[0m \u001b[0;34m=\u001b[0m \u001b[0my2\u001b[0m\u001b[0;34m(\u001b[0m\u001b[0mx\u001b[0m\u001b[0;34m[\u001b[0m\u001b[0mi\u001b[0m\u001b[0;34m]\u001b[0m\u001b[0;34m)\u001b[0m\u001b[0;34m\u001b[0m\u001b[0;34m\u001b[0m\u001b[0m\n\u001b[0m\u001b[1;32m      6\u001b[0m \u001b[0;34m\u001b[0m\u001b[0m\n\u001b[1;32m      7\u001b[0m \u001b[0mplt\u001b[0m\u001b[0;34m.\u001b[0m\u001b[0mplot\u001b[0m\u001b[0;34m(\u001b[0m\u001b[0mx\u001b[0m\u001b[0;34m[\u001b[0m\u001b[0;36m1\u001b[0m\u001b[0;34m:\u001b[0m\u001b[0;34m]\u001b[0m\u001b[0;34m,\u001b[0m\u001b[0my\u001b[0m\u001b[0;34m[\u001b[0m\u001b[0;36m1\u001b[0m\u001b[0;34m:\u001b[0m\u001b[0;34m]\u001b[0m\u001b[0;34m,\u001b[0m\u001b[0;34m'b.'\u001b[0m\u001b[0;34m)\u001b[0m\u001b[0;34m\u001b[0m\u001b[0;34m\u001b[0m\u001b[0m\n",
      "\u001b[0;32m/var/folders/5y/f05xx2_d48d4jk28488my0980000gn/T/ipykernel_19066/3188623408.py\u001b[0m in \u001b[0;36my2\u001b[0;34m(n)\u001b[0m\n\u001b[1;32m      2\u001b[0m \u001b[0;34m\u001b[0m\u001b[0m\n\u001b[1;32m      3\u001b[0m     \u001b[0;31m# YOUR CODE HERE\u001b[0m\u001b[0;34m\u001b[0m\u001b[0;34m\u001b[0m\u001b[0m\n\u001b[0;32m----> 4\u001b[0;31m     \u001b[0;32mreturn\u001b[0m \u001b[0mhyperfact\u001b[0m\u001b[0;34m(\u001b[0m\u001b[0mn\u001b[0m\u001b[0;34m)\u001b[0m\u001b[0;34m/\u001b[0m\u001b[0;34m(\u001b[0m\u001b[0mpow\u001b[0m\u001b[0;34m(\u001b[0m\u001b[0mn\u001b[0m\u001b[0;34m,\u001b[0m\u001b[0;34m(\u001b[0m\u001b[0;36m6\u001b[0m\u001b[0;34m*\u001b[0m\u001b[0mpow\u001b[0m\u001b[0;34m(\u001b[0m\u001b[0mn\u001b[0m\u001b[0;34m,\u001b[0m\u001b[0;36m2\u001b[0m\u001b[0;34m)\u001b[0m\u001b[0;34m+\u001b[0m\u001b[0;36m6\u001b[0m\u001b[0;34m*\u001b[0m\u001b[0mn\u001b[0m\u001b[0;34m+\u001b[0m\u001b[0;36m1\u001b[0m\u001b[0;34m)\u001b[0m\u001b[0;34m/\u001b[0m\u001b[0;36m12\u001b[0m\u001b[0;34m)\u001b[0m\u001b[0;34m*\u001b[0m\u001b[0mpow\u001b[0m\u001b[0;34m(\u001b[0m\u001b[0mnp\u001b[0m\u001b[0;34m.\u001b[0m\u001b[0me\u001b[0m\u001b[0;34m,\u001b[0m\u001b[0mpow\u001b[0m\u001b[0;34m(\u001b[0m\u001b[0;34m-\u001b[0m\u001b[0mn\u001b[0m\u001b[0;34m,\u001b[0m\u001b[0;36m2\u001b[0m\u001b[0;34m)\u001b[0m\u001b[0;34m/\u001b[0m\u001b[0;36m4\u001b[0m\u001b[0;34m)\u001b[0m\u001b[0;34m)\u001b[0m\u001b[0;34m\u001b[0m\u001b[0;34m\u001b[0m\u001b[0m\n\u001b[0m\u001b[1;32m      5\u001b[0m \u001b[0;34m\u001b[0m\u001b[0m\n\u001b[1;32m      6\u001b[0m     \u001b[0;32mraise\u001b[0m \u001b[0mNotImplementedError\u001b[0m\u001b[0;34m(\u001b[0m\u001b[0;34m)\u001b[0m\u001b[0;34m\u001b[0m\u001b[0;34m\u001b[0m\u001b[0m\n",
      "\u001b[0;31mZeroDivisionError\u001b[0m: float division by zero"
     ]
    }
   ],
   "source": [
    "N = 20\n",
    "x = range(0,N)\n",
    "y = np.zeros(N)\n",
    "for i in range(0,N):\n",
    "    y[i] = y2(x[i])\n",
    "    \n",
    "plt.plot(x[1:],y[1:],'b.')\n",
    "plt.xlabel('n')\n",
    "plt.ylabel('y(n)')\n",
    "plt.show()"
   ]
  },
  {
   "cell_type": "markdown",
   "metadata": {
    "deletable": false,
    "editable": false,
    "nbgrader": {
     "cell_type": "markdown",
     "checksum": "91505f4ec10dece6fc769421642037b4",
     "grade": false,
     "grade_id": "cell-e02479437e8f3921",
     "locked": true,
     "schema_version": 3,
     "solution": false,
     "task": false
    }
   },
   "source": [
    "Does your function converge to a constant? Try varying $N$. You might run into problems if $N$ becomes too large since $H(n)$ grows so fast. That's one reason it's nice to have an asymptotic approximation for $H(n)$.\n",
    "\n",
    "The constant $C_{2}$ does not have a simple form like $C_{1}$, but it <i>is</i> known as the <b>Glaisher-Kinkelin constant</b>, $\\mathcal{A} = 1.28243...$. The convergence should take place faster for $H(n)$ so that you don't need a ton of terms to see it."
   ]
  },
  {
   "cell_type": "code",
   "execution_count": 52,
   "metadata": {
    "deletable": false,
    "editable": false,
    "nbgrader": {
     "cell_type": "code",
     "checksum": "38bdd82ebd4e29bdf1b73d87c95d05bc",
     "grade": true,
     "grade_id": "cell-151212f714f8c609",
     "locked": true,
     "points": 5,
     "schema_version": 3,
     "solution": false,
     "task": false
    }
   },
   "outputs": [
    {
     "ename": "AssertionError",
     "evalue": "",
     "output_type": "error",
     "traceback": [
      "\u001b[0;31m---------------------------------------------------------------------------\u001b[0m",
      "\u001b[0;31mAssertionError\u001b[0m                            Traceback (most recent call last)",
      "\u001b[0;32m/var/folders/5y/f05xx2_d48d4jk28488my0980000gn/T/ipykernel_19066/2342516596.py\u001b[0m in \u001b[0;36m<module>\u001b[0;34m\u001b[0m\n\u001b[1;32m      1\u001b[0m \u001b[0;34m'''case 1'''\u001b[0m\u001b[0;34m\u001b[0m\u001b[0;34m\u001b[0m\u001b[0m\n\u001b[0;32m----> 2\u001b[0;31m \u001b[0;32massert\u001b[0m \u001b[0mnp\u001b[0m\u001b[0;34m.\u001b[0m\u001b[0misclose\u001b[0m\u001b[0;34m(\u001b[0m\u001b[0;36m1.2840254166877414\u001b[0m\u001b[0;34m,\u001b[0m\u001b[0my2\u001b[0m\u001b[0;34m(\u001b[0m\u001b[0;36m1\u001b[0m\u001b[0;34m)\u001b[0m\u001b[0;34m)\u001b[0m\u001b[0;34m\u001b[0m\u001b[0;34m\u001b[0m\u001b[0m\n\u001b[0m",
      "\u001b[0;31mAssertionError\u001b[0m: "
     ]
    }
   ],
   "source": [
    "'''case 1'''\n",
    "assert np.isclose(1.2840254166877414,y2(1))"
   ]
  },
  {
   "cell_type": "code",
   "execution_count": null,
   "metadata": {},
   "outputs": [],
   "source": []
  }
 ],
 "metadata": {
  "kernelspec": {
   "display_name": "Python 3 (ipykernel)",
   "language": "python",
   "name": "python3"
  },
  "language_info": {
   "codemirror_mode": {
    "name": "ipython",
    "version": 3
   },
   "file_extension": ".py",
   "mimetype": "text/x-python",
   "name": "python",
   "nbconvert_exporter": "python",
   "pygments_lexer": "ipython3",
   "version": "3.9.13"
  }
 },
 "nbformat": 4,
 "nbformat_minor": 4
}
