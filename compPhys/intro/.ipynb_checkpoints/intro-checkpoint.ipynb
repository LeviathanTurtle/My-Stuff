{
 "cells": [
  {
   "cell_type": "markdown",
   "metadata": {
    "deletable": false,
    "editable": false,
    "nbgrader": {
     "cell_type": "markdown",
     "checksum": "e133fa80dd319983502210ce93e2bd4e",
     "grade": false,
     "grade_id": "cell-01e3d1ab753c5a2a",
     "locked": true,
     "schema_version": 3,
     "solution": false,
     "task": false
    }
   },
   "source": [
    "<h1>PHY 2200 - Computational Physics</h1>\n",
    "<h2>Spring 2023</h2>"
   ]
  },
  {
   "cell_type": "markdown",
   "metadata": {
    "deletable": false,
    "editable": false,
    "nbgrader": {
     "cell_type": "markdown",
     "checksum": "87a0c3986bd921ae28100c1d4c4402f0",
     "grade": false,
     "grade_id": "cell-b3f33a788d01d99a",
     "locked": true,
     "schema_version": 3,
     "solution": false,
     "task": false
    }
   },
   "source": [
    "## Python, Jupyter, and Markdown\n",
    "\n",
    "Welcome to the course! The goals for today are to make sure you have the Anaconda distrbution of Python installed, to introduce you to the workflow of this class, and to give you a little bit of exposure to using Markdown to writing mathematical expressions. \n",
    "\n",
    "Communication is critical. When you are working on projects throughout this course, you will need to explain what you are doing beyond just commenting the code. You are telling a story, and your story will necessarily involve computation. Markdown allows you to use $\\LaTeX$ commands to typeset equations, special characters, and other mathematical statements. You might not be familiar with $\\LaTeX$, but a great way to get practice is to sign up for a free account with [Overleaf](https://www.overleaf.com/). We won't need to generate PDF documents or use much of the fancy typesetting that the full package uses. But we will make use of basic commands and operations to make equations.\n",
    "\n",
    "This might seem an odd way to start off a course on computational physics. It is. We're getting to know each other, and I already know this is a diverse group. Some of you have little programming experience, and some of you have never taken physics. Think of the first few days as a trial period where we will build up some expertise in a set of common skills.\n",
    "\n",
    "The cell containing this and the previous three paragraphs is a Markdown cell. If you double click, you can see the source. An oversimplified (but <i>useful</i>) way of thinking about Markdown is as simpler (but more limited) version of HTML in which you can write equations that look good. Today, we'll go through some examples of things you can do. In the following cell, you can see several equations from physics and higher mathematics. Double click to see how these are created:"
   ]
  },
  {
   "cell_type": "markdown",
   "metadata": {},
   "source": [
    "# Here is a list of equations:\n",
    "\n",
    "$$\\frac{d{\\bf p}}{dt} = {\\bf F}_{ext}$$\n",
    "\n",
    "$$\\nabla \\cdot {\\bf E} = \\frac{\\rho({\\bf r})}{\\epsilon_{0}}$$\n",
    "\n",
    "$$\\nabla \\times {\\bf E} = -\\frac{\\partial {\\bf B}}{\\partial t}$$\n",
    "\n",
    "$$\\gamma = \\frac{1}{\\sqrt{1-\\frac{{\\bf v}\\cdot {\\bf v}}{c^{2}}}}$$\n",
    "\n",
    "$$\\int_{-\\infty}^{\\infty}e^{-\\alpha x^{2}}dx = \\sqrt{\\frac{\\pi}{\\alpha}}$$\n",
    "\n",
    "$$\\langle \\cos^{2}\\theta\\rangle = \\frac{\\int_{0}^{2\\pi}\\cos^{2}\\theta d\\theta}{\\int_{0}^{2\\pi}d\\theta} = \\frac{1}{2}$$\n",
    "\n",
    "$$E^{2} = \\sqrt{m^{2}c^{4} + p^{2}c^{2}}$$\n",
    "\n",
    "$$\\frac{\\partial f}{\\partial t} = \\nabla^{2}f$$\n",
    "\n",
    "$$\\sigma^{y} = \\left(\\begin{array}{cc} 0 & -i \\\\ i & 0 \\end{array}\\right)$$\n",
    "\n",
    "$${\\bf I} = \\left(\\begin{array}{ccc} I_{xx} & I_{xy} & I_{xz}\\\\ I_{yx} & I_{yy} & I_{yz}\\\\ I_{zx} & I_{zy} & I_{zz}\\end{array}\\right)$$\n",
    "\n",
    "$$i\\hbar\\frac{d|\\psi\\rangle}{dt} = \\hat{H}|\\psi\\rangle$$\n",
    "\n",
    "\n",
    "$$\\sum_{n=1}^{\\infty}\\frac{1}{n^{2}} = \\frac{1}{1^{2}} + \\frac{1}{2^{2}} + \\frac{1}{3^{2}} + \\cdots  = \\frac{\\pi^{2}}{3!}$$\n",
    "\n",
    "$$\\Delta p \\Delta x \\geq \\frac{\\hbar}{2}$$\n",
    "\n",
    "$$f(x+ \\delta x) \\simeq f(x) + \\delta x f'(x) + \\frac{\\delta x^{2}}{2}f''(x)$$\n",
    "\n",
    "$$\\Gamma(z)\\Gamma(1-z) = \\frac{\\pi}{\\sin(\\pi z)}$$\n",
    "\n",
    "$$\\eta_{\\mu\\nu} = \\left(\\begin{array}{cccc} 1 & 0 &0 & 0\\\\ 0 & -1 & 0 & 0 \\\\ 0 & 0 & -1 & 0\\\\ 0 & 0 & 0 & -1\\end{array}\\right)$$\n",
    "\n",
    "\n",
    "$$\\mathcal{L} = -\\frac{1}{4}F_{\\mu\\nu}F^{\\mu\\nu}$$\n",
    "\n",
    "\n",
    "$$\\LaTeX\\mbox{ is life}$$"
   ]
  },
  {
   "cell_type": "markdown",
   "metadata": {
    "deletable": false,
    "editable": false,
    "nbgrader": {
     "cell_type": "markdown",
     "checksum": "4c32c64f3ab131f88583627f24ed4d88",
     "grade": false,
     "grade_id": "cell-ce26435ca9954675",
     "locked": true,
     "schema_version": 3,
     "solution": false,
     "task": false
    }
   },
   "source": [
    "Got it? Great.\n",
    "\n",
    "But really, this should look overwhelming the first time you see it. Google is your friend. For example, [here](https://artofproblemsolving.com/wiki/index.php/LaTeX:Symbols) is one of the first things that came up when I searched for a quick reference sheet. It gives you probably every symbol and structure you'd need for most applications in this course. Depending on what you're trying to do, you might not find the exact answer here. Look a little harder, or ask me for help.\n",
    "\n",
    "For your first task, take a look at the equations below. I pasted <i>images</i> of these, so you can't see the $\\LaTeX$ source when you double click. In the cell below this, figure out how to write each equation using $\\LaTeX$ in a Markdown cell.\n",
    "\n",
    "<b>Important: </b> By default, each new cell is initialized as a `code` cell, meaning Python commands are expected. You get an error trying to type out equations. See the `code` option on the pulldown menu at the top? You can change this to `Markdown` to let Jupyter know to expect Markdown input that it will interpret and typeset quite nicely for you. Don't be hard on yourself. You <i>will</i> forget to change these cell types from time to time. It will not break Python."
   ]
  },
  {
   "cell_type": "markdown",
   "metadata": {
    "deletable": false,
    "editable": false,
    "nbgrader": {
     "cell_type": "markdown",
     "checksum": "b7306883607a715a0733017c90d83b8c",
     "grade": false,
     "grade_id": "cell-9704dd366730c4b3",
     "locked": true,
     "schema_version": 3,
     "solution": false,
     "task": false
    }
   },
   "source": [
    "<center>\n",
    "<img src=\"eq1.png\" width=300>\n",
    "<img src=\"eq2.png\" width=500>\n",
    "</center>"
   ]
  },
  {
   "cell_type": "markdown",
   "metadata": {
    "deletable": false,
    "editable": false,
    "nbgrader": {
     "cell_type": "markdown",
     "checksum": "f7c7e11928fc51350220137c28c1d3f3",
     "grade": false,
     "grade_id": "cell-785bf04e2c3e2ffd",
     "locked": true,
     "schema_version": 3,
     "solution": false,
     "task": false
    }
   },
   "source": [
    "## Solution:"
   ]
  },
  {
   "cell_type": "markdown",
   "metadata": {},
   "source": [
    "$$(\\nabla \\times A)_i = \\epsilon_{ijk}\\frac{\\partial A_k}{\\partial x_j}$$\n",
    "$$\\lim _{x \\to \\infty} \\frac{\\sin x}{x} = \\frac{\\pi}{2}$$\n",
    "$$i \\bar{h} \\gamma^\\mu \\partial_\\mu \\psi (x) - m c \\psi (x) = 0$$\n",
    "$$\\sigma^x = \\begin{pmatrix} 0 & 1 \\\\ 1 & 0 \\end{matrix}$$\n",
    "$$\\nabla \\cdot \\bf B = 0$$\n",
    "$$\\nabla \\times \\bf B = \\mu_0 (\\bf J + \\epsilon_0 \\frac{\\partial \\bf E}{\\partial t}$$\n",
    "$$I_{jk} = \\sum m_n [ r^2 \\delta_{jk} - x_j x_k ]$$\n",
    "$$F_{\\mu v} = \\partial_\\mu A_v - \\partial_v A_\\mu$$\n",
    "$$\\aleph_\\omega = sup { \\aleph_n : n \\in \\omega }$$\n",
    "$$S = k_B ln \\Omega$$\n",
    "$$e^10 = cos \\theta + i sin \\theta$$\n",
    "$$R_{\\mu v} - \\frac{1}{2} Rg_{\\mu v} + \\wedge g_{\\mu v} = \\frac{8 \\pi G}{c^4} T_{\\mu v}$$\n",
    "$$\\Sigma \\quad \\sum \\frac{1}{n^3} = \\frac{1}{1^3} + \\frac{1}{2^3} + \\frac{1}{3^3} + ... + \\varsigma (3)$$\n",
    "$$\\gamma = \\lim _{n \\to \\infty} [ \\Sigma \\quad \\sum \\frac{1}{k} - ln \\emph{n} ] = 0.577$$\n",
    "$$e^x = 1 + x + \\frac{x^2}{2!} + \\frac{x^3}{3!} + \\Theta (x^4)$$\n",
    "$$\\bar{Z} [ J ] = \\int D \\phi exp [ \\int d^4 x ( \\frac{1}{2} ( \\partial_\\mu \\phi \\partial^u \\phi - m^2 \\phi^2 ) + J \\phi) ] $$\n",
    "$$g = \\begin{pmatrix} 1 & 0 & 0 & 0\\\\ 0 & -1 & 0 & 0 \\\\ 0 & 0 & -r^2 & 0\\\\ 0 & 0 & 0 & -r^2 sin^2 \\theta \\end{pmatrix}$$\n",
    "$$\\mid \\Psi ( t ) \\rangle = \\Sigma \\langle \\phi_n \\mid \\Psi ( 0 ) \\rangle e^{-i E_n t l h} \\mid \\Phi_n \\rangle$$"
   ]
  },
  {
   "cell_type": "markdown",
   "metadata": {
    "deletable": false,
    "editable": false,
    "nbgrader": {
     "cell_type": "markdown",
     "checksum": "ecb5fa62b14c75fcecf39fbe08e45c86",
     "grade": false,
     "grade_id": "cell-4dfcd6150ff5c43b",
     "locked": true,
     "schema_version": 3,
     "solution": false,
     "task": false
    }
   },
   "source": [
    "Another feature we'll use in this class is the `nbgrader` package for evaluating notebooks. This doesn't require <i>you</i> to install anything specific. But your answers (solutions to problems, segments of code, etc.) will need to be placed in particular places. Most often, you'll be completing <i>functions</i> which return some result. To explore the workflow, let's look at some of the classic \"math problems for children\" from mathematical physicist Vladimir Arnold (available [here](https://www.imaginary.org/sites/default/files/taskbook_arnold_en_0.pdf) for your amusement)."
   ]
  },
  {
   "cell_type": "markdown",
   "metadata": {
    "deletable": false,
    "editable": false,
    "nbgrader": {
     "cell_type": "markdown",
     "checksum": "2565289db8d20abf2c45accc07b0f829",
     "grade": false,
     "grade_id": "Q1",
     "locked": true,
     "schema_version": 3,
     "solution": false,
     "task": false
    }
   },
   "source": [
    "<h3>1. A brick weighs one pound and half the brick. How many pounds does the brick weigh?</h3>\n",
    "\n",
    "Just below the tag `# YOUR CODE HERE`, write your answer in the form `return x` where `x` is replaced by what you think the answer is."
   ]
  },
  {
   "cell_type": "code",
   "execution_count": 10,
   "metadata": {
    "deletable": false,
    "nbgrader": {
     "cell_type": "code",
     "checksum": "669816afb5e13366e97f8f911ab95931",
     "grade": false,
     "grade_id": "cell-851c4a976bc96ee9",
     "locked": false,
     "schema_version": 3,
     "solution": true,
     "task": false
    }
   },
   "outputs": [],
   "source": [
    "\n",
    "def answer():\n",
    "    return 2\n",
    "    raise NotImplementedError()"
   ]
  },
  {
   "cell_type": "markdown",
   "metadata": {
    "deletable": false,
    "editable": false,
    "nbgrader": {
     "cell_type": "markdown",
     "checksum": "636660f6816facf518a9aee4edb5aea1",
     "grade": false,
     "grade_id": "cell-bcb4712cbd40d426",
     "locked": true,
     "schema_version": 3,
     "solution": false,
     "task": false
    }
   },
   "source": [
    "The first trick is making sure that works without error. That does <i>not</i> necessarily mean your answer is correct. Below you can see the actual testing feature. For some questions, you'll be able to check if your solution passes the test. There will also (sometimes) be hidden tests where you will not be able to see how your solution is being checked. For these silly math problems, you can at least see that some sort of test is being performed.\n",
    "\n",
    "If you can execute the following block with no error, you got the answer right!"
   ]
  },
  {
   "cell_type": "code",
   "execution_count": 11,
   "metadata": {
    "deletable": false,
    "editable": false,
    "nbgrader": {
     "cell_type": "code",
     "checksum": "c1e62446d1e3a507a6d7f536e736ad07",
     "grade": true,
     "grade_id": "cell-9141513aba05fe6a",
     "locked": true,
     "points": 5,
     "schema_version": 3,
     "solution": false,
     "task": false
    }
   },
   "outputs": [],
   "source": [
    "'''case 1'''\n",
    "import math\n",
    "import numpy as np\n",
    "f = open('tests.csv','r')\n",
    "A = np.genfromtxt(f, delimiter=\",\")\n",
    "A = A[1]\n",
    "f.close()\n",
    "assert( math.isclose(answer(),A))"
   ]
  },
  {
   "cell_type": "markdown",
   "metadata": {
    "deletable": false,
    "editable": false,
    "nbgrader": {
     "cell_type": "markdown",
     "checksum": "9159bbca37d1bdea0b721cf57a1b6ba1",
     "grade": false,
     "grade_id": "cell-f601ec788b47229b",
     "locked": true,
     "schema_version": 3,
     "solution": false,
     "task": false
    }
   },
   "source": [
    "Now try your luck at as many of these as you have time to attempt. Embrace the intellectual struggle in solving problems supposedly designed for children!"
   ]
  },
  {
   "cell_type": "markdown",
   "metadata": {
    "deletable": false,
    "editable": false,
    "nbgrader": {
     "cell_type": "markdown",
     "checksum": "ea488f83c531575e76dde37333d87168",
     "grade": false,
     "grade_id": "cell-6f6fb9bfce0af04b",
     "locked": true,
     "schema_version": 3,
     "solution": false,
     "task": false
    }
   },
   "source": [
    "<h3>2. A bottle with a cork costs 10 kopecks, while the bottle itself is 9 kopecks more expensive than the cork. How much does the bottle without the cork cost?</h3>"
   ]
  },
  {
   "cell_type": "code",
   "execution_count": 4,
   "metadata": {
    "deletable": false,
    "nbgrader": {
     "cell_type": "code",
     "checksum": "730e71079578a43900c438353ecf7c2c",
     "grade": false,
     "grade_id": "cell-Q2",
     "locked": false,
     "schema_version": 3,
     "solution": true,
     "task": false
    }
   },
   "outputs": [],
   "source": [
    "def answer():\n",
    "    return 9.5\n",
    "    raise NotImplementedError()"
   ]
  },
  {
   "cell_type": "code",
   "execution_count": 5,
   "metadata": {
    "deletable": false,
    "editable": false,
    "nbgrader": {
     "cell_type": "code",
     "checksum": "090defb7fab7bfdb75edf8655b38e0bd",
     "grade": true,
     "grade_id": "cell-Q2eval",
     "locked": true,
     "points": 5,
     "schema_version": 3,
     "solution": false,
     "task": false
    }
   },
   "outputs": [],
   "source": [
    "'''case 1'''\n",
    "import math\n",
    "import numpy as np\n",
    "f = open('tests.csv','r')\n",
    "A = np.genfromtxt(f, delimiter=\",\")\n",
    "A = A[2]\n",
    "f.close()\n",
    "assert( math.isclose(answer(),A))"
   ]
  },
  {
   "cell_type": "markdown",
   "metadata": {
    "deletable": false,
    "editable": false,
    "nbgrader": {
     "cell_type": "markdown",
     "checksum": "84058aa1d081ad08336dc6d487b7ec0e",
     "grade": false,
     "grade_id": "cell-Q3",
     "locked": true,
     "schema_version": 3,
     "solution": false,
     "task": false
    }
   },
   "source": [
    "<h3>3. Two old ladies left from \n",
    "A to B and from B to A at dawn heading towards one another (along the same road). They met at noon, but did not stop, and each of them carried on walking with the same speed. The ﬁrst lady came (to B) at 4 p.m., and the second (to A) at 9 p.m. How many hours before noon was that day?</h3>"
   ]
  },
  {
   "cell_type": "code",
   "execution_count": 14,
   "metadata": {
    "deletable": false,
    "nbgrader": {
     "cell_type": "code",
     "checksum": "84f4b99d04a149947785df5ebb0a6345",
     "grade": false,
     "grade_id": "cell-9eff9c573574adc1",
     "locked": false,
     "schema_version": 3,
     "solution": true,
     "task": false
    }
   },
   "outputs": [],
   "source": [
    "def answer():\n",
    "    return 6\n",
    "    raise NotImplementedError()"
   ]
  },
  {
   "cell_type": "code",
   "execution_count": 15,
   "metadata": {
    "deletable": false,
    "editable": false,
    "nbgrader": {
     "cell_type": "code",
     "checksum": "db09f9e8f5b480a157ad19eac2aee40e",
     "grade": true,
     "grade_id": "cell-08313e36d2e4388a",
     "locked": true,
     "points": 0,
     "schema_version": 3,
     "solution": false,
     "task": false
    }
   },
   "outputs": [],
   "source": [
    "'''case 1'''\n",
    "import math\n",
    "import numpy as np\n",
    "f = open('tests.csv','r')\n",
    "A = np.genfromtxt(f, delimiter=\",\")\n",
    "A = A[3]\n",
    "f.close()\n",
    "assert( math.isclose(answer(),A))"
   ]
  },
  {
   "cell_type": "markdown",
   "metadata": {
    "deletable": false,
    "editable": false,
    "nbgrader": {
     "cell_type": "markdown",
     "checksum": "c9415cb154585fc0b790ee83cbf89b0e",
     "grade": false,
     "grade_id": "cell-d95c7fc62a239dc8",
     "locked": true,
     "schema_version": 3,
     "solution": false,
     "task": false
    }
   },
   "source": [
    "<h3>4. Vasya has 2 sisters more than he has brothers. How many daughters more than sons do Vasya’s parents have?"
   ]
  },
  {
   "cell_type": "code",
   "execution_count": 16,
   "metadata": {
    "deletable": false,
    "nbgrader": {
     "cell_type": "code",
     "checksum": "5aa57cced9c1ff60c9f497cde2b45cbe",
     "grade": false,
     "grade_id": "cell-25e64992bee3358f",
     "locked": false,
     "schema_version": 3,
     "solution": true,
     "task": false
    }
   },
   "outputs": [],
   "source": [
    "def answer():\n",
    "    return 1\n",
    "    raise NotImplementedError()"
   ]
  },
  {
   "cell_type": "code",
   "execution_count": 17,
   "metadata": {
    "deletable": false,
    "editable": false,
    "nbgrader": {
     "cell_type": "code",
     "checksum": "ff97db9f70c09e9e5e96a6b4728fdfc1",
     "grade": true,
     "grade_id": "cell-f553b231a441d3bf",
     "locked": true,
     "points": 0,
     "schema_version": 3,
     "solution": false,
     "task": false
    }
   },
   "outputs": [],
   "source": [
    "'''case 1'''\n",
    "import math\n",
    "import numpy as np\n",
    "f = open('tests.csv','r')\n",
    "A = np.genfromtxt(f, delimiter=\",\")\n",
    "A = A[4]\n",
    "f.close()\n",
    "assert( math.isclose(answer(),A))"
   ]
  },
  {
   "cell_type": "markdown",
   "metadata": {
    "deletable": false,
    "editable": false,
    "nbgrader": {
     "cell_type": "markdown",
     "checksum": "aa19dd89e68a86c70d078f5b3b86c621",
     "grade": false,
     "grade_id": "cell-Q5",
     "locked": true,
     "schema_version": 3,
     "solution": false,
     "task": false
    }
   },
   "source": [
    "<h3>5. During the daytime a snail climbs 3 cm up a post, and during the night, falling asleep, accidentally goes down by 2 cm. The post is 10 m high, and a delicious (for the snail) sweet is on its top. In how many days will the snail get the sweet?</h3>"
   ]
  },
  {
   "cell_type": "code",
   "execution_count": 18,
   "metadata": {
    "deletable": false,
    "nbgrader": {
     "cell_type": "code",
     "checksum": "1e5a403d6c919ff42107790ccafcec00",
     "grade": false,
     "grade_id": "cell-39b4949d36a3529a",
     "locked": false,
     "schema_version": 3,
     "solution": true,
     "task": false
    }
   },
   "outputs": [],
   "source": [
    "def answer():\n",
    "    return 998\n",
    "    raise NotImplementedError()"
   ]
  },
  {
   "cell_type": "code",
   "execution_count": 19,
   "metadata": {
    "deletable": false,
    "editable": false,
    "nbgrader": {
     "cell_type": "code",
     "checksum": "b6dea3682353d7bd7bbbdb25099e697c",
     "grade": true,
     "grade_id": "cell-e6e4c6536f82a604",
     "locked": true,
     "points": 0,
     "schema_version": 3,
     "solution": false,
     "task": false
    }
   },
   "outputs": [],
   "source": [
    "'''case 1'''\n",
    "import math\n",
    "import numpy as np\n",
    "f = open('tests.csv','r')\n",
    "A = np.genfromtxt(f, delimiter=\",\")\n",
    "A = A[5]\n",
    "f.close()\n",
    "assert( math.isclose(answer(),A))"
   ]
  },
  {
   "cell_type": "markdown",
   "metadata": {
    "deletable": false,
    "editable": false,
    "nbgrader": {
     "cell_type": "markdown",
     "checksum": "f33afd1b1d7e695d626e40a0a7b80b08",
     "grade": false,
     "grade_id": "cell-Q6",
     "locked": true,
     "schema_version": 3,
     "solution": false,
     "task": false
    }
   },
   "source": [
    "<h3>6. Two volumes of Pushkin, the ﬁrst and the second, are side-by-side on a bookshelf. The pages of each volume are 2 cm thick, and the cover - front and back each - is 2\n",
    "mm. A bookworm has gnawed through (perpendicular to the pages) from the ﬁrst page of volume 1 to the last page of volume 2. How long (in cm) is the bookworm’s track?</h3>"
   ]
  },
  {
   "cell_type": "code",
   "execution_count": 20,
   "metadata": {
    "deletable": false,
    "nbgrader": {
     "cell_type": "code",
     "checksum": "8449859c956ddaa6b4af2170b4ea6a66",
     "grade": false,
     "grade_id": "cell-fc7141694c25d85f",
     "locked": false,
     "schema_version": 3,
     "solution": true,
     "task": false
    }
   },
   "outputs": [],
   "source": [
    "def answer():\n",
    "    return .4\n",
    "    raise NotImplementedError()"
   ]
  },
  {
   "cell_type": "code",
   "execution_count": 21,
   "metadata": {
    "deletable": false,
    "editable": false,
    "nbgrader": {
     "cell_type": "code",
     "checksum": "88135c857c907240a537feaf7e9e63b5",
     "grade": true,
     "grade_id": "cell-5285d3359545281e",
     "locked": true,
     "points": 0,
     "schema_version": 3,
     "solution": false,
     "task": false
    }
   },
   "outputs": [],
   "source": [
    "'''case 1'''\n",
    "import math\n",
    "import numpy as np\n",
    "f = open('tests.csv','r')\n",
    "A = np.genfromtxt(f, delimiter=\",\")\n",
    "A = A[6]\n",
    "f.close()\n",
    "assert( math.isclose(answer(),A))"
   ]
  },
  {
   "cell_type": "markdown",
   "metadata": {
    "deletable": false,
    "editable": false,
    "nbgrader": {
     "cell_type": "markdown",
     "checksum": "48aa48826a6248c99107aaeb9f31aed6",
     "grade": false,
     "grade_id": "cell-Q7",
     "locked": true,
     "schema_version": 3,
     "solution": false,
     "task": false
    }
   },
   "source": [
    "<h3>7. The distance between cities A and B is 40km. Two cyclists leave respectively from A and B simultaneously towards one another, one with speed 10km/h and the other with speed 15km/h. A ﬂy ﬂies out with the ﬁrst cyclist from A with the speed of 100km/h, reaches the second, touches his forehead and ﬂies back to the ﬁrst, touches his forehead,returns to the second,and so on until the cyclists’ foreheads collide and squash the ﬂy. How many kilometers altogether has the ﬂy ﬂown?</h3>"
   ]
  },
  {
   "cell_type": "code",
   "execution_count": 22,
   "metadata": {
    "deletable": false,
    "nbgrader": {
     "cell_type": "code",
     "checksum": "3cef46cf19028168da86015da1e95f80",
     "grade": false,
     "grade_id": "cell-203420f0e8367ea8",
     "locked": false,
     "schema_version": 3,
     "solution": true,
     "task": false
    }
   },
   "outputs": [],
   "source": [
    "def answer():\n",
    "    return 160\n",
    "    raise NotImplementedError()"
   ]
  },
  {
   "cell_type": "code",
   "execution_count": 23,
   "metadata": {
    "deletable": false,
    "editable": false,
    "nbgrader": {
     "cell_type": "code",
     "checksum": "949b85b6fc51571c714661bb58fa609a",
     "grade": true,
     "grade_id": "cell-c23a4435e17bf5c1",
     "locked": true,
     "points": 0,
     "schema_version": 3,
     "solution": false,
     "task": false
    }
   },
   "outputs": [],
   "source": [
    "'''case 1'''\n",
    "import math\n",
    "import numpy as np\n",
    "f = open('tests.csv','r')\n",
    "A = np.genfromtxt(f, delimiter=\",\")\n",
    "A = A[7]\n",
    "f.close()\n",
    "assert( math.isclose(answer(),A))"
   ]
  },
  {
   "cell_type": "markdown",
   "metadata": {
    "deletable": false,
    "editable": false,
    "nbgrader": {
     "cell_type": "markdown",
     "checksum": "1f40d312a643becd9ddf5090093c7738",
     "grade": false,
     "grade_id": "cell-Q8",
     "locked": true,
     "schema_version": 3,
     "solution": false,
     "task": false
    }
   },
   "source": [
    "<h3>8. A caterpillar wants to slither from a corner of a cubic room (the left on the ﬂoor) to the opposite one (the right on the ceiling). Find the shortest route (in meters) for such a journey along the walls of the room. Each side of the room is 2 m.</h3>"
   ]
  },
  {
   "cell_type": "code",
   "execution_count": 24,
   "metadata": {
    "deletable": false,
    "nbgrader": {
     "cell_type": "code",
     "checksum": "b47e60c4430a263c8721b29528691085",
     "grade": false,
     "grade_id": "cell-2aeeda30a83fee84",
     "locked": false,
     "schema_version": 3,
     "solution": true,
     "task": false
    }
   },
   "outputs": [],
   "source": [
    "def answer():\n",
    "    return 4.472135955\n",
    "    raise NotImplementedError()"
   ]
  },
  {
   "cell_type": "code",
   "execution_count": 25,
   "metadata": {
    "deletable": false,
    "editable": false,
    "nbgrader": {
     "cell_type": "code",
     "checksum": "6f11399e6c0d7cdc5bd829e64c4aa749",
     "grade": true,
     "grade_id": "cell-f0d7dd09c276c307",
     "locked": true,
     "points": 0,
     "schema_version": 3,
     "solution": false,
     "task": false
    }
   },
   "outputs": [],
   "source": [
    "'''case 1'''\n",
    "import math\n",
    "import numpy as np\n",
    "f = open('tests.csv','r')\n",
    "A = np.genfromtxt(f, delimiter=\",\")\n",
    "A = A[8]\n",
    "f.close()\n",
    "assert( math.isclose(answer(),A,abs_tol=1e-3))"
   ]
  },
  {
   "cell_type": "markdown",
   "metadata": {
    "deletable": false,
    "editable": false,
    "nbgrader": {
     "cell_type": "markdown",
     "checksum": "097c1d796220e78f79efd4737257c3d4",
     "grade": false,
     "grade_id": "cell-Q9",
     "locked": true,
     "schema_version": 3,
     "solution": false,
     "task": false
    }
   },
   "source": [
    "<h3>9. There are ﬁve heads and fourteen legs in a family. How many people and how many dogs are in the family?</h3>"
   ]
  },
  {
   "cell_type": "code",
   "execution_count": 26,
   "metadata": {
    "deletable": false,
    "nbgrader": {
     "cell_type": "code",
     "checksum": "eb7b2811b6a72bc58a89cba146234565",
     "grade": false,
     "grade_id": "cell-82159c113d21b0e9",
     "locked": false,
     "schema_version": 3,
     "solution": true,
     "task": false
    }
   },
   "outputs": [],
   "source": [
    "def answerpeople():\n",
    "    return 3\n",
    "    raise NotImplementedError()\n",
    "    \n",
    "def answerdogs():\n",
    "    return 2\n",
    "    raise NotImplementedError()"
   ]
  },
  {
   "cell_type": "code",
   "execution_count": 27,
   "metadata": {
    "deletable": false,
    "editable": false,
    "nbgrader": {
     "cell_type": "code",
     "checksum": "2818c2e40cf4241673936948282062c3",
     "grade": true,
     "grade_id": "cell-c793330e8781b64e",
     "locked": true,
     "points": 0,
     "schema_version": 3,
     "solution": false,
     "task": false
    }
   },
   "outputs": [],
   "source": [
    "'''case 1'''\n",
    "import math\n",
    "import numpy as np\n",
    "f = open('tests.csv','r')\n",
    "A = np.genfromtxt(f, delimiter=\",\")\n",
    "A = A[9]\n",
    "f.close()\n",
    "assert( math.isclose(answerpeople(),A,abs_tol=1e-3))"
   ]
  },
  {
   "cell_type": "code",
   "execution_count": 28,
   "metadata": {
    "deletable": false,
    "editable": false,
    "nbgrader": {
     "cell_type": "code",
     "checksum": "a60f609aed8a53f35dfe435f0eabf915",
     "grade": true,
     "grade_id": "cell-3cff1cabdcc45b92",
     "locked": true,
     "points": 0,
     "schema_version": 3,
     "solution": false,
     "task": false
    }
   },
   "outputs": [],
   "source": [
    "'''case 1'''\n",
    "import math\n",
    "import numpy as np\n",
    "f = open('tests.csv','r')\n",
    "A = np.genfromtxt(f, delimiter=\",\")\n",
    "A = A[10]\n",
    "f.close()\n",
    "assert( math.isclose(answerdogs(),A,abs_tol=1e-3))"
   ]
  },
  {
   "cell_type": "markdown",
   "metadata": {
    "deletable": false,
    "editable": false,
    "nbgrader": {
     "cell_type": "markdown",
     "checksum": "5d7af892db6c985790d19c909c3679cc",
     "grade": false,
     "grade_id": "cell-8bce303a9f8e8f1e",
     "locked": true,
     "schema_version": 3,
     "solution": false,
     "task": false
    }
   },
   "source": [
    "<h3>10. Find the limit of the following infinitely continued fraction:\n",
    "</h3>\n",
    "\n",
    "$$x = 1+\\frac{1}{2+\\frac{1}{1+\\frac{1}{2+\\frac{1}{1+\\frac{1}{2+\\cdots}}}}}$$\n",
    "\n",
    "<i> Hint: </i> use self-similarity"
   ]
  },
  {
   "cell_type": "code",
   "execution_count": 29,
   "metadata": {
    "deletable": false,
    "nbgrader": {
     "cell_type": "code",
     "checksum": "7cff6cabb02da225061898f787cd0340",
     "grade": false,
     "grade_id": "cell-249932f88c13e0d2",
     "locked": false,
     "schema_version": 3,
     "solution": true,
     "task": false
    }
   },
   "outputs": [],
   "source": [
    "def answer():\n",
    "    return 1.366025404\n",
    "    raise NotImplementedError()"
   ]
  },
  {
   "cell_type": "code",
   "execution_count": 30,
   "metadata": {
    "deletable": false,
    "editable": false,
    "nbgrader": {
     "cell_type": "code",
     "checksum": "4d3e711397d189ed954dc0635ca9c884",
     "grade": true,
     "grade_id": "cell-890fadb0037ca5d7",
     "locked": true,
     "points": 0,
     "schema_version": 3,
     "solution": false,
     "task": false
    }
   },
   "outputs": [],
   "source": [
    "'''case 1'''\n",
    "import math\n",
    "import numpy as np\n",
    "f = open('tests.csv','r')\n",
    "A = np.genfromtxt(f, delimiter=\",\")\n",
    "A = A[11]\n",
    "f.close()\n",
    "assert( math.isclose(answer(),A,abs_tol=1e-3))"
   ]
  },
  {
   "cell_type": "code",
   "execution_count": null,
   "metadata": {},
   "outputs": [],
   "source": []
  },
  {
   "cell_type": "code",
   "execution_count": null,
   "metadata": {},
   "outputs": [],
   "source": []
  }
 ],
 "metadata": {
  "kernelspec": {
   "display_name": "Python 3 (ipykernel)",
   "language": "python",
   "name": "python3"
  },
  "language_info": {
   "codemirror_mode": {
    "name": "ipython",
    "version": 3
   },
   "file_extension": ".py",
   "mimetype": "text/x-python",
   "name": "python",
   "nbconvert_exporter": "python",
   "pygments_lexer": "ipython3",
   "version": "3.9.13"
  }
 },
 "nbformat": 4,
 "nbformat_minor": 4
}
