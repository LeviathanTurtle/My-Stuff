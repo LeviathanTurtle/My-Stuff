{
 "cells": [
  {
   "cell_type": "markdown",
   "metadata": {
    "deletable": false,
    "editable": false,
    "nbgrader": {
     "cell_type": "markdown",
     "checksum": "cfd2c4db84176b73f66c405c9d64742a",
     "grade": false,
     "grade_id": "cell-97c58a1ccde47057",
     "locked": true,
     "schema_version": 3,
     "solution": false,
     "task": false
    }
   },
   "source": [
    "<h1>PHY 2200 - Computational Physics</h1>\n",
    "<h2>Spring 2023</h2>"
   ]
  },
  {
   "cell_type": "markdown",
   "metadata": {
    "deletable": false,
    "editable": false,
    "nbgrader": {
     "cell_type": "markdown",
     "checksum": "6701aada4a582ff8999efab036660603",
     "grade": false,
     "grade_id": "cell-1603890debe992ae",
     "locked": true,
     "schema_version": 3,
     "solution": false,
     "task": false
    }
   },
   "source": [
    "<h2>Unit 2 Project - Morris-Lecar model for excitable tissue</h2>"
   ]
  },
  {
   "cell_type": "code",
   "execution_count": null,
   "metadata": {
    "deletable": false,
    "editable": false,
    "nbgrader": {
     "cell_type": "code",
     "checksum": "cabce39bd1c2a80fa6765fe1b2ddab62",
     "grade": false,
     "grade_id": "cell-b099dee5ed35205a",
     "locked": true,
     "schema_version": 3,
     "solution": false,
     "task": false
    }
   },
   "outputs": [],
   "source": [
    "import numpy as np\n",
    "from matplotlib import pyplot as plt"
   ]
  },
  {
   "cell_type": "markdown",
   "metadata": {
    "deletable": false,
    "editable": false,
    "nbgrader": {
     "cell_type": "markdown",
     "checksum": "8be8454b34f089790f12aad6cfc6e2dd",
     "grade": false,
     "grade_id": "cell-1738cc68a363ddd4",
     "locked": true,
     "schema_version": 3,
     "solution": false,
     "task": false
    }
   },
   "source": [
    "## Introduction and background\n",
    "\n",
    "In this lab, you will explore a particular model for the electrodynamics of an <b>excitable cell</b>, such as a neuron or cardiac cell. The hallmark feature of excitable cells is that they can support excitation pulses known as <b>action potential</b>, in which the electric potential (voltage) difference across the cellular membrane \"spikes\" under a mild stimulus.\n",
    "\n",
    "<center><img src=\"ap.png\" width = 500>\n",
    "Image: <a href=https://en.wikipedia.org/wiki/Action_potential>Wikipedia</a>.</center>\n",
    "\n",
    "More precisely, the voltage dynamics are <i>nonlinear</i>. The response of the cell is not proportional to the input. There exists a threshold such that sufficiently small stimuli do not result in an excitation pulse. Any stimuli above the threshold result in similar pulses. When cells are connected, the excitation pulse leads to a current which can excite nearby cells so that these action potential propagate through tissue (e.g., a signal causing your heart muscles to contract in such a way that blood is pushed through the chambers of the heart).\n",
    "\n",
    "Additionally, these excitations cost energy. After an excitation, the cells need some time to return to a configuration in which they can fire again. This minimum resting time is known as a <b>refractory period</b>. Any additional electrical stimuli that occur during the refactory period (even those above threshold) will <b>not</b> result in additional excitation pulses. The refractory period of a particular cell can depend on many complicated factors, but it's possible that certain arrythmia or other conditions can arise when normal propagation requires the heart cells to fire during refractory periods. \n",
    "\n",
    "A simple model for these types of cells is provided by the parallel ionic channel picture. The cell's lipid bilayer results in an effective capacitance. Ion pumps for particular species and channels that let specific ions flow result in nonlinear conductances for each type of ion considered. A typical picture models all of this complicated structure via a simple parallel circuit in which each type of ion has its own branch, gated by a (voltage-dependent, or nonlinear) conductance in addition to the capacitance of the cell membrane:\n",
    "\n",
    "<center><img src=\"plonsey.png\" width = 500>\n",
    "Image: R. Plonsey, <a href=https://link.springer.com/book/10.1007/978-1-4757-3152-1>Bioelectricity</a>, 2000.</center>\n",
    "\n",
    "The <b>Morris-Lecar (ML) model</b> is an example of a two-variable system which describes (qualitatively) the behavior of neurons or cardiac cells by incorporating dynamics in the calcium and potassium ionic channels as well as a leakage channel across the cell membrane. The equations are given as follows.\n",
    "\n",
    "$$C\\frac{dV}{dt} = I - g_{L}(V-V_{L})-g_{Ca}M_{ss}(V-V_{Ca})-g_{K}W(V-V_{K})$$\n",
    "$$\\frac{dW}{dt} = \\frac{W_{ss}-W}{\\tau_{W}}$$\n",
    "\n",
    "where\n",
    "\n",
    "$$M_{ss} = \\frac{1}{2}\\left(1+\\tanh\\left[\\frac{V-V_{1}}{V_{2}}\\right]\\right)$$\n",
    "$$W_{ss} = \\frac{1}{2}\\left(1+\\tanh\\left[\\frac{V-V_{3}}{V_{4}}\\right]\\right)$$\n",
    "$$\\tau_{W} = \\frac{1}{\\varphi \\cosh\\left[\\frac{V-V_{3}}{2V_{4}}\\right]}$$\n",
    "\n",
    "Note that <b>hyperbolic trig functions</b> like $\\tanh(x)$, $\\cosh(x)$ are available via `np.tanh(x)`, `np.cosh(x)`. The dynamical variables are $V(t)$ (membrane potential) and $W(t)$ (\"recovery variable\" corresponding to the probability that the potassium ion channel is conducting). Parameters are\n",
    "\n",
    "- $I(t)$ - applied current (possibly time-dependent function)\n",
    "- $C$ - membrane capacitance\n",
    "- $g_{L}$, $g_{Ca}$, $g_{K}$ - conductances of leakage, calcium and potassium channels\n",
    "- $V_{L}$, $V_{Ca}$, $V_{K}$ - equilibrium potential for leakage, calcium, potassium channels\n",
    "- $V_{1}$, $V_{2}$, $V_{3}$, $V_{4}$ - tuning parameters\n",
    "- $\\varphi$ - overall frequency scale\n",
    "\n",
    "It is understandable to feel somewhat dizzy at the myriad of constants and formulas involved in this \"simple\" model. In the Fitzhugh-Nagumo model we considered as a previous example, the dynamics are simplified with all of the dimensional parameters lumped into a handful of pieces. That model is a sort of mathematical idealization that captures the essential ideas qualitatively. Toward the quantitative end, the Hodgkin-Huxley model consists of four dynamical variables and was derived empircally from careful experiments with [squid giant axons](https://upload.wikimedia.org/wikipedia/commons/1/19/Giant_Axon_of_Squid_%2814356033761%29.jpg) in the late 1940s/early 1950s (<i>not</i> to be confused with \"[giant squid](https://news.uchicago.edu/sites/default/files/styles/full_width/public/images/2020-01/Squid1380.jpg?itok=17LuiUfq)\" axons). Since that time, more complicated models involving additional channels have been developed (for example, the <i>eight</i>-variable [Beeler-Reuter](http://www.scholarpedia.org/article/Models_of_cardiac_cell#Beeler-Reuter_model_.281977.29_.5B8_variables.5D) model). The Morris-Lecar model sort of splits the difference: it's only a two-variable system, but the physiological parameters (with all the dimensions) are retained.\n",
    "\n",
    "<b>Remark: </b> These more complicated models (Hodgkin-Huxley/Beeler-Reuter/others?) would make for great projects if you're interested in exploring them.\n",
    "\n",
    "Your goal in this project is to use RK4 to integrate the ML equations and obtain $V(t)$ in a variety of situations. To begin, here are the various parameters that I will package into a vector `param` to be used by the set of functions involved in this process. Units are omitted, but you can check at Wikipedia/Scholarpedia give the same values in a certain set of units."
   ]
  },
  {
   "cell_type": "code",
   "execution_count": null,
   "metadata": {
    "deletable": false,
    "editable": false,
    "nbgrader": {
     "cell_type": "code",
     "checksum": "845a1f017e06603f62ecf103419f4a1e",
     "grade": false,
     "grade_id": "cell-7f5093892bc78eb8",
     "locked": true,
     "schema_version": 3,
     "solution": false,
     "task": false
    }
   },
   "outputs": [],
   "source": [
    "I = 110\n",
    "C = 20\n",
    "gL = 2\n",
    "gCa = 4.4\n",
    "gK = 8\n",
    "vL = -60\n",
    "vCa = 130\n",
    "vK = -84\n",
    "v1 = -1.2\n",
    "v2 = 18\n",
    "v3 = 2\n",
    "v4 = 30\n",
    "ϕ = 0.04\n",
    "\n",
    "param = np.zeros(13)\n",
    "param[0] = I\n",
    "param[1] = C\n",
    "param[2] = gL\n",
    "param[3] = gCa\n",
    "param[4] = gK\n",
    "param[5] = vL\n",
    "param[6] = vCa\n",
    "param[7] = vK\n",
    "param[8] = v1\n",
    "param[9] = v2\n",
    "param[10] = v3\n",
    "param[11] = v4\n",
    "param[12] = ϕ"
   ]
  },
  {
   "cell_type": "markdown",
   "metadata": {
    "deletable": false,
    "editable": false,
    "nbgrader": {
     "cell_type": "markdown",
     "checksum": "aa5651b5bc25f01289b0d732aea9f289",
     "grade": false,
     "grade_id": "cell-2d7d97bde91d05bb",
     "locked": true,
     "schema_version": 3,
     "solution": false,
     "task": false
    }
   },
   "source": [
    "Complete the following function `dxdt(x,t,param)` to return the left-hand side of the ML differential equations as a two-component `np.array`. Use the mapping $V(t)\\rightarrow$ `x[0]` and $W(t)\\rightarrow$ `x[1]`. First, define individual functions to calculate $M_{ss}$, $W_{ss}$, and $\\tau$."
   ]
  },
  {
   "cell_type": "code",
   "execution_count": null,
   "metadata": {
    "deletable": false,
    "nbgrader": {
     "cell_type": "code",
     "checksum": "bfeef309b001d61518b835a0ea62b7a6",
     "grade": false,
     "grade_id": "cell-fb6f6886309f0a1b",
     "locked": false,
     "schema_version": 3,
     "solution": true,
     "task": false
    }
   },
   "outputs": [],
   "source": [
    "def mss(v,v1,v2):\n",
    "    # YOUR CODE HERE\n",
    "    raise NotImplementedError()\n",
    "def wss(v,v3,v4):\n",
    "    # YOUR CODE HERE\n",
    "    raise NotImplementedError()\n",
    "def τ(ϕ,v,v3,v4):\n",
    "    # YOUR CODE HERE\n",
    "    raise NotImplementedError()\n",
    "    \n",
    "def dxdt(x,t,param):\n",
    "    v = x[0]\n",
    "    w = x[1]\n",
    "    \n",
    "    # YOUR CODE HERE\n",
    "    raise NotImplementedError()"
   ]
  },
  {
   "cell_type": "code",
   "execution_count": null,
   "metadata": {
    "deletable": false,
    "editable": false,
    "nbgrader": {
     "cell_type": "code",
     "checksum": "2432daf78bd053c32865684e666eeb43",
     "grade": true,
     "grade_id": "cell-944afe374840ed50",
     "locked": true,
     "points": 10,
     "schema_version": 3,
     "solution": false,
     "task": false
    }
   },
   "outputs": [],
   "source": [
    "'''small function test 1 (10 pts for all of these)'''\n",
    "assert np.isclose(mss(2,1,1),0.8807970779778824,atol=1e-5)\n",
    "'''small function test 2'''\n",
    "assert np.isclose(wss(.2,2,3),0.23147521650098235,atol=1e-5)\n",
    "'''small function test 3'''\n",
    "assert np.isclose(τ(1,.1,1,.1),0.022215251496649675,atol=1e-5)"
   ]
  },
  {
   "cell_type": "code",
   "execution_count": null,
   "metadata": {
    "deletable": false,
    "editable": false,
    "nbgrader": {
     "cell_type": "code",
     "checksum": "ce30a0a9994410d77a67fc25e781ff27",
     "grade": true,
     "grade_id": "cell-ffad64430d5af923",
     "locked": true,
     "points": 10,
     "schema_version": 3,
     "solution": false,
     "task": false
    }
   },
   "outputs": [],
   "source": [
    "'''dxdt test 1 (10 pts for these)'''\n",
    "assert np.isclose(dxdt([2,1],0,[1,1,1,.1,1,1,1,.1,1,1,1,1,1]),np.array([-1.98807971, -0.13441631]),atol=1e-5).all()\n",
    "'''dxdt test 1'''\n",
    "assert np.isclose(dxdt([2,-1],0,[1,.1,1,.1,1,1,1,.1,1,.61,1,1,1]),np.array([18.03630958,  2.12083562]),atol=1e-5).all()\n"
   ]
  },
  {
   "cell_type": "markdown",
   "metadata": {
    "deletable": false,
    "editable": false,
    "nbgrader": {
     "cell_type": "markdown",
     "checksum": "a3855d8f74ea8327865e7feb5a85d273",
     "grade": false,
     "grade_id": "cell-0ec7004ada456985",
     "locked": true,
     "schema_version": 3,
     "solution": false,
     "task": false
    }
   },
   "source": [
    "Now complete the function `rk4step()` which will use instantaneous values of $V(t)$ and $W(t)$ (contained in a two-component object `x`) and `param` to compute $k_{1,2,3,4}$ and return the updates values for `x` according to the RK4 method. The input `deriv` is some function that will evaluate the appropriate derivatives (a placeholder for the one you just wrote)."
   ]
  },
  {
   "cell_type": "code",
   "execution_count": null,
   "metadata": {
    "deletable": false,
    "nbgrader": {
     "cell_type": "code",
     "checksum": "4b6ecb882d81e26a92313a1ec6d54d2e",
     "grade": false,
     "grade_id": "cell-4ddd8a8d6bfb660a",
     "locked": false,
     "schema_version": 3,
     "solution": true,
     "task": false
    }
   },
   "outputs": [],
   "source": [
    "def rk4step(deriv,t,x,dt,param):\n",
    "    # YOUR CODE HERE\n",
    "    raise NotImplementedError()"
   ]
  },
  {
   "cell_type": "code",
   "execution_count": null,
   "metadata": {
    "deletable": false,
    "editable": false,
    "nbgrader": {
     "cell_type": "code",
     "checksum": "5b2a9a08bfe82e2f5d5a8c8993add03b",
     "grade": true,
     "grade_id": "cell-662f4eaf2ce6f2e3",
     "locked": true,
     "points": 10,
     "schema_version": 3,
     "solution": false,
     "task": false
    }
   },
   "outputs": [],
   "source": [
    "'''RK4 test 1 (10 pts for these)'''\n",
    "def tf(t,x,param):\n",
    "    return np.sqrt(x)+1/np.sqrt(t)\n",
    "assert np.isclose(rk4step(tf,2,2,.01,[]),0.02121221577140338,atol=1e-5)\n",
    "\n",
    "'''RK4 test 2'''\n",
    "def tf(t,x,param):\n",
    "    return np.sqrt(x)-1/np.sqrt(t)\n",
    "assert np.isclose(rk4step(tf,20,40,2,[]),8.863734824540789,atol=1e-5)"
   ]
  },
  {
   "cell_type": "code",
   "execution_count": null,
   "metadata": {
    "deletable": false,
    "nbgrader": {
     "cell_type": "code",
     "checksum": "27dfa61f75b969d8ca3a4ee475b1cd3f",
     "grade": false,
     "grade_id": "cell-5a831f5d1b2f019f",
     "locked": false,
     "schema_version": 3,
     "solution": true,
     "task": false
    }
   },
   "outputs": [],
   "source": [
    "vo = 0.0\n",
    "wo = 0.0\n",
    "\n",
    "xo = np.array([vo,wo])\n",
    "\n",
    "tmax = 1000\n",
    "N = 10000\n",
    "t = np.linspace(0,tmax,N)\n",
    "dt = t[1]-t[0]\n",
    "\n",
    "# YOUR CODE HERE\n",
    "raise NotImplementedError()\n",
    "\n",
    "plt.plot(t,v)\n",
    "plt.xlabel('t (ms)')\n",
    "plt.ylabel('voltage (mV)')\n",
    "plt.show()"
   ]
  },
  {
   "cell_type": "markdown",
   "metadata": {
    "deletable": false,
    "editable": false,
    "nbgrader": {
     "cell_type": "markdown",
     "checksum": "9de3a6809b61344e3e101a4fddfbc857",
     "grade": false,
     "grade_id": "cell-2929c3a4dafc73a2",
     "locked": true,
     "schema_version": 3,
     "solution": false,
     "task": false
    }
   },
   "source": [
    "You should see a \"pulse train\" that looks like this:\n",
    "\n",
    "<img src=\"pt.png\" width=400>\n",
    "\n",
    "What has happened is that we began <i>far</i> from the system's equilibrium. Unlike a simple harmonic oscillator (i.e., a mass connected to a spring), a variety of initial conditions will lock into a <b>limit cycle</b> in which the system undergoes some (non-simple) oscillators regardless of the details of the initial conditions. A so-called <b>phase space</b> plot $(V,W)$ shows the global behavior:"
   ]
  },
  {
   "cell_type": "code",
   "execution_count": null,
   "metadata": {
    "deletable": false,
    "editable": false,
    "nbgrader": {
     "cell_type": "code",
     "checksum": "f6c35d49da0a49443b4fdd4b27d73678",
     "grade": false,
     "grade_id": "cell-7abe0ddc327f7ad5",
     "locked": true,
     "schema_version": 3,
     "solution": false,
     "task": false
    }
   },
   "outputs": [],
   "source": [
    "vt = np.linspace(-61,45,100)\n",
    "\n",
    "plt.plot(v,w)\n",
    "plt.xlabel('V')\n",
    "plt.ylabel('W')\n",
    "plt.show()"
   ]
  },
  {
   "cell_type": "markdown",
   "metadata": {
    "deletable": false,
    "editable": false,
    "nbgrader": {
     "cell_type": "markdown",
     "checksum": "7d9843eadf1e9ea9d4f294735cacf203",
     "grade": false,
     "grade_id": "cell-c057fda28b01df09",
     "locked": true,
     "schema_version": 3,
     "solution": false,
     "task": false
    }
   },
   "source": [
    "The initial \"position\" in phase space of $V=0$ and $W=0$ does not correspond to an equilibrium for the system. But the point quickly gets pulled into a limit cycle which shows up as a periodic orbit (closed loop) in phase space. It is the nonzero steady electrical current $I$ which drives this limit cycle.\n",
    "\n",
    "The leakage current $I$ is currently set to $110\\mbox{ mA}$. By trial and error, figure out the smallest current (to at least <i>four</i> significant figures, e.g., $79.12$) which will result in stable oscillations. Copy and paste anything you need here to make this determination. The last command in this cell should create a plot of $V(t)$ with this particular value of leakage current showing stable oscillations. For simplicity, let $I$ be the only parameter/initial condition that you vary. My advice is to work with integer values until you find the smallest integer value which works."
   ]
  },
  {
   "cell_type": "code",
   "execution_count": null,
   "metadata": {
    "deletable": false,
    "nbgrader": {
     "cell_type": "code",
     "checksum": "a505d096a7a8f47bc5304a9d98246997",
     "grade": false,
     "grade_id": "cell-892257e3efc86934",
     "locked": false,
     "schema_version": 3,
     "solution": true,
     "task": false
    }
   },
   "outputs": [],
   "source": [
    "# YOUR CODE HERE\n",
    "raise NotImplementedError()"
   ]
  },
  {
   "cell_type": "markdown",
   "metadata": {
    "deletable": false,
    "editable": false,
    "nbgrader": {
     "cell_type": "markdown",
     "checksum": "62b5f9b1e4cfc65d8dc440d33038dd67",
     "grade": false,
     "grade_id": "cell-280579e5cda9a43b",
     "locked": true,
     "schema_version": 3,
     "solution": false,
     "task": false
    }
   },
   "source": [
    "This system is a simplified model for how a neuron or cardiac muscle cell behaves. In realistic \"networks,\" one excitation pulse (or \"spike\") will cause an electrical signal to propagate to nearby cells, causing similar excitations via some localized current. To model the actual behavior of an excitable cell, it is therefore more useful to use a model for some sort of localized (short duration) current which appears.\n",
    "\n",
    "As a first step, let's make a model for a localized pulse of current. Consider a function with the following shape:\n",
    "\n",
    "$$p(t) = \\left\\{\\begin{array}{cc} 1 & (0\\leq t \\leq T)\\\\ 0 & \\mbox{otherwise}\\end{array}\\right.$$\n",
    "\n",
    "<img src=\"pulse.png\" width = 400>\n",
    "\n",
    "Complete the function below to return $p(t)$ given some pulse width $T$."
   ]
  },
  {
   "cell_type": "code",
   "execution_count": null,
   "metadata": {
    "deletable": false,
    "nbgrader": {
     "cell_type": "code",
     "checksum": "bdcf15e8d149724f43fa7c6ed4baa8dd",
     "grade": false,
     "grade_id": "cell-bf18a1ce9bce415c",
     "locked": false,
     "schema_version": 3,
     "solution": true,
     "task": false
    }
   },
   "outputs": [],
   "source": [
    "def pulse(t,T):\n",
    "    # YOUR CODE HERE\n",
    "    raise NotImplementedError()"
   ]
  },
  {
   "cell_type": "code",
   "execution_count": null,
   "metadata": {
    "deletable": false,
    "editable": false,
    "nbgrader": {
     "cell_type": "code",
     "checksum": "597e7ad04e44028c52e8a7510316bc0f",
     "grade": true,
     "grade_id": "cell-925b9a7979669cb3",
     "locked": true,
     "points": 10,
     "schema_version": 3,
     "solution": false,
     "task": false
    }
   },
   "outputs": [],
   "source": [
    "'''test 1 (10 pts for these)'''\n",
    "assert np.isclose(pulse(0.01,2),1.0)\n",
    "'''test 2'''\n",
    "assert np.isclose(pulse(-0.1,3),0.0)\n",
    "'''test 3'''\n",
    "assert np.isclose(pulse(2,1),0.0)"
   ]
  },
  {
   "cell_type": "markdown",
   "metadata": {
    "deletable": false,
    "editable": false,
    "nbgrader": {
     "cell_type": "markdown",
     "checksum": "924ead3428720f3f90330da4f6b705a4",
     "grade": false,
     "grade_id": "cell-25e79837f7820a5f",
     "locked": true,
     "schema_version": 3,
     "solution": false,
     "task": false
    }
   },
   "source": [
    "Recall that a function $f(x)$ can be translated by $a$ to the right (same shape but moved to the right by an amount $a$) by writing $f(x-a)$. That is, we can create a pulse of width $T$ which turns on at some time $t_{0}$ by calling `pulse(t-a,T)`. \n",
    "\n",
    "The next part of this project is to determine the minimum height of a pulse which will create a full excitation pulse for a fixed width. The physically important quantity is the total charge $Q$ which moves through the cell membrane. Since current is the time derivative of charge, $I = \\frac{dQ}{dt}$, we can write \n",
    "\n",
    "$$Q = \\int I dt$$\n",
    "\n",
    "For a piecewise constant current (i.e., a pulse) of duration $T$, the total charge deposited is $Q = I T$. In principle, we could have a large current over a short time or a smaller current over a larger time. It's the product of $I$ and $T$ that matters more than the individual details. In what you have simulated previously, a very slow-but-steady current deposits charge continuously. Let us now try the opposite limit. \n",
    "\n",
    "If you set $I=0$ with $V(0) = W(0) = 0.0$, you should see one initial excitation as the system relaxes to a stable equilibrium. Try that here:"
   ]
  },
  {
   "cell_type": "code",
   "execution_count": null,
   "metadata": {
    "deletable": false,
    "nbgrader": {
     "cell_type": "code",
     "checksum": "7bc13ec150ee0afd5ce845719e7061db",
     "grade": false,
     "grade_id": "cell-d49747d5cea2d971",
     "locked": false,
     "schema_version": 3,
     "solution": true,
     "task": false
    }
   },
   "outputs": [],
   "source": [
    "# YOUR CODE HERE\n",
    "raise NotImplementedError()\n",
    "\n",
    "plt.plot(t,v)\n",
    "plt.xlabel('t (ms)')\n",
    "plt.ylabel('voltage (mV)')\n",
    "plt.show()\n"
   ]
  },
  {
   "cell_type": "markdown",
   "metadata": {
    "deletable": false,
    "editable": false,
    "nbgrader": {
     "cell_type": "markdown",
     "checksum": "6e18305f3765e494cd744a77cd7babff",
     "grade": false,
     "grade_id": "cell-b345d8ca70250b95",
     "locked": true,
     "schema_version": 3,
     "solution": false,
     "task": false
    }
   },
   "source": [
    "### Creating excitation with pulse\n",
    "\n",
    "Let's let this signal hit equilibrium (should be around $-60\\mbox{ mV}$) and then hit it with a pulse. To do so, we need to modify the equations contained in `dxfdt(x,t,param)` as follows. In addition to $I$, we should add a term $Ap(t)$ where $p(t)$ is your function `pulse(t,T)` and $A$ (`A`) is a new parameter corresponding to the amplitude of the pulse. Place the pulse to begin at $t=500\\mbox{ ms}$, adding `A*pulse(t-500,T)` where `A` and `T` are new parameters that must be added to the list.\n",
    "\n",
    "Once it works, leave `A=200` and adjust `T` until you find the <i>smallest</i> pulse duration which gives a full excitation pulse. Below this threshold, you might see failed initiations which do not break above $V=0$. You're looking for the smallest $T$ which gives a full excitation (peaking above $20\\mbox{ mV}$). Make sure your value for $T$ is accurate to <b>two significant figures</b> (e.g., `T = 9.4`)."
   ]
  },
  {
   "cell_type": "code",
   "execution_count": null,
   "metadata": {
    "deletable": false,
    "nbgrader": {
     "cell_type": "code",
     "checksum": "05767ad879e8a7ee2146c2bad4b5227f",
     "grade": false,
     "grade_id": "cell-d00f3049cefd8185",
     "locked": false,
     "schema_version": 3,
     "solution": true,
     "task": false
    }
   },
   "outputs": [],
   "source": [
    "I = 0.0\n",
    "A = 200\n",
    "T = 5.4\n",
    "\n",
    "param = np.zeros(15)\n",
    "param[0] = I\n",
    "param[1] = C\n",
    "param[2] = gL\n",
    "param[3] = gCa\n",
    "param[4] = gK\n",
    "param[5] = vL\n",
    "param[6] = vCa\n",
    "param[7] = vK\n",
    "param[8] = v1\n",
    "param[9] = v2\n",
    "param[10] = v3\n",
    "param[11] = v4\n",
    "param[12] = ϕ\n",
    "param[13] = A\n",
    "param[14] = T\n",
    "\n",
    "def dxdt(x,t,param):\n",
    "    v = x[0]\n",
    "    w = x[1]\n",
    "    \n",
    "    # YOUR CODE HERE\n",
    "    raise NotImplementedError()\n",
    "\n",
    "vo = 0.0\n",
    "wo = 0.0\n",
    "\n",
    "# YOUR CODE HERE\n",
    "raise NotImplementedError()\n",
    "\n",
    "plt.plot(t,v)\n",
    "plt.xlabel('t (ms)')\n",
    "plt.ylabel('voltage (mV)')\n",
    "plt.show()\n"
   ]
  },
  {
   "cell_type": "markdown",
   "metadata": {
    "deletable": false,
    "editable": false,
    "nbgrader": {
     "cell_type": "markdown",
     "checksum": "3c8f6fd265029b54206799709a4fe87e",
     "grade": false,
     "grade_id": "cell-9c02f63367d733a7",
     "locked": true,
     "schema_version": 3,
     "solution": false,
     "task": false
    }
   },
   "source": [
    "### Minimum charge to create excitation\n",
    "\n",
    "Now set `T = 10`. Adjust `A` until you find the smallest value of `A` which gives a full excitation. Copy as much of your previous solution as you need to execute this below.\n",
    "\n",
    "What's the point of this? `T=10` should be reasonably different from your previous answer. You should find that the value of `T` or `A` doesn't matter as much individually. You can excite the system with a short pulse of large amplitude (or a longer pulse with a smaller amplitude). Roughly, it's the product `TA` which makes a difference physically, and this corresponds to the total charge dropped on the cell membrane (whether quickly or slowly)."
   ]
  },
  {
   "cell_type": "code",
   "execution_count": null,
   "metadata": {
    "deletable": false,
    "nbgrader": {
     "cell_type": "code",
     "checksum": "cf3ee14eea70978a61ff008b24505225",
     "grade": false,
     "grade_id": "cell-2a9f07679750002b",
     "locked": false,
     "schema_version": 3,
     "solution": true,
     "task": false
    }
   },
   "outputs": [],
   "source": [
    "I = 0.0\n",
    "A = 124\n",
    "T = 10\n",
    "\n",
    "param = np.zeros(15)\n",
    "param[0] = I\n",
    "param[1] = C\n",
    "param[2] = gL\n",
    "param[3] = gCa\n",
    "param[4] = gK\n",
    "param[5] = vL\n",
    "param[6] = vCa\n",
    "param[7] = vK\n",
    "param[8] = v1\n",
    "param[9] = v2\n",
    "param[10] = v3\n",
    "param[11] = v4\n",
    "param[12] = ϕ\n",
    "param[13] = A\n",
    "param[14] = T\n",
    "\n",
    "def dxdt(x,t,param):\n",
    "    v = x[0]\n",
    "    w = x[1]\n",
    "    \n",
    "    # YOUR CODE HERE\n",
    "    raise NotImplementedError()\n",
    "\n",
    "vo = 0.0\n",
    "wo = 0.0\n",
    "\n",
    "# YOUR CODE HERE\n",
    "raise NotImplementedError()\n",
    "\n",
    "plt.plot(t,v)\n",
    "plt.xlabel('t (ms)')\n",
    "plt.ylabel('voltage (mV)')\n",
    "plt.show()\n"
   ]
  },
  {
   "cell_type": "markdown",
   "metadata": {
    "deletable": false,
    "editable": false,
    "nbgrader": {
     "cell_type": "markdown",
     "checksum": "8a644039495436dd420bb03dad6dbe1d",
     "grade": false,
     "grade_id": "cell-8fbaeb9c1f5d36a2",
     "locked": true,
     "schema_version": 3,
     "solution": false,
     "task": false
    }
   },
   "source": [
    "### Pulse train\n",
    "\n",
    "The sino-atrial node in the heart is sort of like your built-in pacemaker for your heart beat. It outputs a steady \"train\" of pulses which travel through the tissue in your heart. The excitations of the cells lead to muscle contractions. Let's now modify the model to incorporate a periodic stimulus rather than a single pulse.\n",
    "\n",
    "Without changing your definition of `pulse()`, use the `np.mod()` function the create a steady periodic sequence of pulses beginning at $t = 0$ and occuring every $200\\mbox{ ms}$. Verify that for the following parameters, the system reacts with a periodic sequence of excitation pulses.\n",
    "\n",
    "Once this works, gradually reduce the period from $200\\mbox{ ms}$. A hallmark feature of excitable media is the <b>refractory period</b> after an excitation during which additional stimuli cannot create another full excitation. If you reduce the stimulus period, eventually you will reach a point where the time between pulses is so short that the system has not had time to fully recover. You will see one or more incomplete excitations if this happens.\n",
    "\n",
    "For the parameters `A = 200` and `T = 8`, find the smallest period (starting with $200\\mbox{ ms} and reducing) for which the system supports stable excitation pulses. You are looking for a series of identically shaped pulses (after a few larger ones as the system relaxes). If you see complex behavior or pulses with alternating heights, you have let the period become too small."
   ]
  },
  {
   "cell_type": "code",
   "execution_count": null,
   "metadata": {
    "deletable": false,
    "nbgrader": {
     "cell_type": "code",
     "checksum": "536942ea77ff95db4035638bc3d0e90b",
     "grade": false,
     "grade_id": "cell-bd2bca8b67cc1f33",
     "locked": false,
     "schema_version": 3,
     "solution": true,
     "task": false
    }
   },
   "outputs": [],
   "source": [
    "I = 0.0\n",
    "A = 200\n",
    "T = 8\n",
    "\n",
    "param = np.zeros(15)\n",
    "param[0] = I\n",
    "param[1] = C\n",
    "param[2] = gL\n",
    "param[3] = gCa\n",
    "param[4] = gK\n",
    "param[5] = vL\n",
    "param[6] = vCa\n",
    "param[7] = vK\n",
    "param[8] = v1\n",
    "param[9] = v2\n",
    "param[10] = v3\n",
    "param[11] = v4\n",
    "param[12] = ϕ\n",
    "param[13] = A\n",
    "param[14] = T\n",
    "\n",
    "def dxdt(x,t,param):\n",
    "    v = x[0]\n",
    "    w = x[1]\n",
    "    \n",
    "    # YOUR CODE HERE\n",
    "    raise NotImplementedError()\n",
    "\n",
    "# YOUR CODE HERE\n",
    "raise NotImplementedError()\n",
    "\n",
    "plt.plot(t,v)\n",
    "plt.xlabel('t (ms)')\n",
    "plt.ylabel('voltage (mV)')\n",
    "plt.show()\n"
   ]
  },
  {
   "cell_type": "markdown",
   "metadata": {
    "deletable": false,
    "editable": false,
    "nbgrader": {
     "cell_type": "markdown",
     "checksum": "cab1d886cf0b56bc108c61153dfa8cae",
     "grade": false,
     "grade_id": "cell-4a424a0386e7be21",
     "locked": true,
     "schema_version": 3,
     "solution": false,
     "task": false
    }
   },
   "source": [
    "### Equilibrium\n",
    "\n",
    "It has been convenient to start the system from $(V,W) = (0,0)$. However, this results in an inital transient period since $(0,0)$ is not an equilibrium of the system. If you plug $V = 0$ and $W = 0$ into the differential equations, you'll find they do not vanish. If the derivatives are nonzero, then the system will evolve to a new state. In this section, we are going to attempt to determine the equilibrium values $(V_{0},W_{0})$ for which the system remains \"at rest\" ($V(t) = V_{0}$ and $W(t) = W_{0}$).\n",
    "\n",
    "You can read all about the biophysics of how this equilibrium froms from balancing diffusion of different ionic species with the electrostatic interactions between ions [here](https://hpulibraries.on.worldcat.org/oclc/187007494). For now, we will just attempt to obtain the values $V_{0}$ and $W_{0}$. To this end, try turning off all input currents ($A = 0$, $I = 0$) and letting the system evolve from $V(0) = W(0) = 0$. Noting the (approximate) values that $V(t)$ and $W(t)$ approach, update your initial conditions to try to get as close as possible to the equilibrium. As you get closer, you will see that the initial transient \"blips\" in $V(t)$ and $W(t)$ become smaller. Note that you will need to look at plots of $V(t)$ <i>and</i> $W(t)$ (on separate plots since their dynamical scales are different). \n",
    "\n",
    "Obtain $V_{0}$ and $W_{0}$ in this way to at least <b>four significant figures</b>. "
   ]
  },
  {
   "cell_type": "code",
   "execution_count": null,
   "metadata": {
    "deletable": false,
    "nbgrader": {
     "cell_type": "code",
     "checksum": "2803c1f48123266513eb75b9c3708192",
     "grade": false,
     "grade_id": "cell-d696551412e6e939",
     "locked": false,
     "schema_version": 3,
     "solution": true,
     "task": false
    }
   },
   "outputs": [],
   "source": [
    "I = 0.0\n",
    "A = 0.0\n",
    "T = 0.0\n",
    "\n",
    "param = np.zeros(15)\n",
    "param[0] = I\n",
    "param[1] = C\n",
    "param[2] = gL\n",
    "param[3] = gCa\n",
    "param[4] = gK\n",
    "param[5] = vL\n",
    "param[6] = vCa\n",
    "param[7] = vK\n",
    "param[8] = v1\n",
    "param[9] = v2\n",
    "param[10] = v3\n",
    "param[11] = v4\n",
    "param[12] = ϕ\n",
    "param[13] = A\n",
    "param[14] = T\n",
    "\n",
    "def dxdt(x,t,param):\n",
    "    v = x[0]\n",
    "    w = x[1]\n",
    "    \n",
    "    # YOUR CODE HERE\n",
    "    raise NotImplementedError()\n",
    "\n",
    "vo = -60.8288\n",
    "wo = 0.0149411\n",
    "\n",
    "xo = np.array([vo,wo])\n",
    "\n",
    "tmax = 1000\n",
    "N = 10000\n",
    "t = np.linspace(0,tmax,N)\n",
    "dt = t[1]-t[0]\n",
    "\n",
    "v = np.zeros(N)\n",
    "w = np.zeros(N)\n",
    "\n",
    "v[0] = xo[0]\n",
    "w[0] = xo[1]\n",
    "\n",
    "for i in range(0,N-1):\n",
    "    step = rk4step(dxdt,t[i],np.array([v[i],w[i]]),dt,param)\n",
    "    v[i+1] = v[i] + step[0]\n",
    "    w[i+1] = w[i] + step[1]\n",
    "\n",
    "plt.plot(t,v)\n",
    "plt.xlabel('t (ms)')\n",
    "plt.ylabel('voltage (mV)')\n",
    "plt.show()\n",
    "\n",
    "\n",
    "plt.plot(t,w)\n",
    "plt.xlabel('t (ms)')\n",
    "plt.ylabel('voltage (mV)')\n",
    "plt.show()"
   ]
  },
  {
   "cell_type": "markdown",
   "metadata": {},
   "source": [
    "This is quite tedious. There is a better way. By definition, equilibrium requires\n",
    "\n",
    "$$\\frac{dV}{dt} = \\frac{dW}{dt} = 0$$\n",
    "\n",
    "That is, we can set the right-hand sides of the ML equations equal to zero, obtaining\n",
    "\n",
    "$$0 = I - g_{L}(V_{0}-V_{L})-g_{Ca}M_{ss}(V_{0}-V_{Ca})-g_{K}W_{0}(V_{0}-V_{K})$$\n",
    "$$ 0 = W_{0} - W_{ss}$$\n",
    "\n",
    "The second equation means that $W_{0}$ can be replaced by the function $W_{ss}$ in the first equation (hence, the subscript: \"s.s.\" means \"steady state\"). Define the following function:\n",
    "\n",
    "$$f(V) = I - g_{L}(V-V_{L})-g_{Ca}M_{ss}(V-V_{Ca})-g_{K}W_{0}(V-V_{K})$$\n",
    "\n",
    "The roots of this function (values $V_{0}$ such that $f(V_{0}) = 0$) give equilibria for the system. In the case we are considering, there is only one, $(V_{0}, W_{0})$ where $W_{0} = W_{ss}$ computed with the value $V = V_{0}$ (remember: $W_{ss}$ is a function of $V$). \n",
    "\n",
    "Your final task is to complete the following function which takes the ML parameters and returns equilibrium values $V_{0}$, $W_{0}$ for which the system remains stable. There <i>are</i> fancy ways to find roots of a function, but you can do something simple-minded like we did in a previous exercise to find where a dropped function to zero (approximately). You are currently setting $I = 0$, but your function should work for nonzero $I$ as well (provided $V_{0}$ is between -80 mV and 20 mV)."
   ]
  },
  {
   "cell_type": "code",
   "execution_count": null,
   "metadata": {
    "deletable": false,
    "nbgrader": {
     "cell_type": "code",
     "checksum": "e46ee600604138b6c5c32463f469f156",
     "grade": false,
     "grade_id": "cell-6bf032a4a0a50f8d",
     "locked": false,
     "schema_version": 3,
     "solution": true,
     "task": false
    }
   },
   "outputs": [],
   "source": [
    "I = 0\n",
    "A = 0\n",
    "T = 0\n",
    "\n",
    "param = np.zeros(15)\n",
    "param[0] = I\n",
    "param[1] = C\n",
    "param[2] = gL\n",
    "param[3] = gCa\n",
    "param[4] = gK\n",
    "param[5] = vL\n",
    "param[6] = vCa\n",
    "param[7] = vK\n",
    "param[8] = v1\n",
    "param[9] = v2\n",
    "param[10] = v3\n",
    "param[11] = v4\n",
    "param[12] = ϕ\n",
    "param[13] = A\n",
    "param[14] = T\n",
    "\n",
    "def MLeq(param,Npoints):\n",
    "    #for anything we'll care about, you can assume Vo is between -80 and 20 mV\n",
    "    v = np.linspace(-80,20,Npoints)\n",
    "    \n",
    "    I = param[0]\n",
    "    C = param[1]\n",
    "    gL = param[2]\n",
    "    gCa = param[3]\n",
    "    gK = param[4]\n",
    "    vL = param[5]\n",
    "    vCa = param[6]\n",
    "    vK = param[7]\n",
    "    v1 = param[8]\n",
    "    v2 = param[9]\n",
    "    v3 = param[10]\n",
    "    v4 = param[11]\n",
    "    ϕ = param[12]\n",
    "    A = param[13]\n",
    "    T = param[14]\n",
    "    \n",
    "    #first compute f(v); then find the value of v for which f(v) is closest to zero\n",
    "    #lastly, return this value Vo and the corresponding value Wo = Wss(Vo)\n",
    "    \n",
    "    # YOUR CODE HERE\n",
    "    raise NotImplementedError()\n",
    "    "
   ]
  },
  {
   "cell_type": "markdown",
   "metadata": {
    "deletable": false,
    "editable": false,
    "nbgrader": {
     "cell_type": "markdown",
     "checksum": "23df8839d6d1917282b698fe0ae577fc",
     "grade": false,
     "grade_id": "cell-2330867a39cfa9b5",
     "locked": true,
     "schema_version": 3,
     "solution": false,
     "task": false
    }
   },
   "source": [
    "The parameter `Npoints` is how many $V$ points are sampled over the given range. Since the simplest method of finding where $f(V)$ switches signs will only be accurate to within $\\delta V = 100\\mbox{ mV}/N_{points}$, you get a more accurate answer as `Npoints` is increased. Start with something modest like `Npoints = 100` and confirm you get something roughly close to what you found by manually looking for the equilibrium. Then increase `Npoints` until you obtain five significant figure accuracy (meaning that increasing `Npoints` any more does not affect the first five digits). You should find agreement between the two approaches."
   ]
  },
  {
   "cell_type": "code",
   "execution_count": null,
   "metadata": {},
   "outputs": [],
   "source": [
    "#replace Npoints with a number (e.g., 100, 1000)\n",
    "MLeq(param,Npoints)"
   ]
  },
  {
   "cell_type": "code",
   "execution_count": null,
   "metadata": {
    "deletable": false,
    "editable": false,
    "nbgrader": {
     "cell_type": "code",
     "checksum": "ad773e46a94375b11258f10339e75e01",
     "grade": true,
     "grade_id": "cell-2098adf7f27f110d",
     "locked": true,
     "points": 10,
     "schema_version": 3,
     "solution": false,
     "task": false
    }
   },
   "outputs": [],
   "source": [
    "'''MLeq test (10 pts)'''\n",
    "param = [30,20,2,4.4,8,60,130,-84,-1.2,18,2,30,0.04,0,0]\n",
    "assert np.isclose(np.array(MLeq(param,100000)),np.array([14.780947809478093,0.7009997639190846]),atol=1e-6).all()"
   ]
  },
  {
   "cell_type": "markdown",
   "metadata": {
    "deletable": false,
    "editable": false,
    "nbgrader": {
     "cell_type": "markdown",
     "checksum": "2177cff36fe4d9c601a7369c58462157",
     "grade": false,
     "grade_id": "cell-759574f3940f0d63",
     "locked": true,
     "schema_version": 3,
     "solution": false,
     "task": false
    }
   },
   "source": [
    "### Final question (30 pts)\n",
    "\n",
    "With however far you got through these tasks, you should at least have a functional integrator for the ML model. There are <i>lots</i> of parameters in this model. They are mainly determined by experiment. Vary one or two and find some behavior you find interesting. Doubling things is fine, but you don't want any one parameter to become too large (i.e., 1000). Some parameters also matter more than others, so take some time to explore. You might consider making a time series $(t,V(t))$ (and/or $(t,W)$ but as separate plots) or a phase space $(V,W)$ plot to get different views of the system.\n",
    "\n",
    "The one thing I ask is that you convince yourself (and then me) that whatever behavior you have found is <b>not</b> the result of numerical errors. For example, you might get some wild stuff if you choose your time array `t` to give you a `dt` of 3. That's probably <i>way</i> too big, and even RK4 will give garbage. One good thing to check for whatever you find is that if you double the number of time points (or cut it in half) the plot <i>looks</i> the same. This is a rough way to make sure `dt` is chosen \"small enough\" for whatever you're doing.\n",
    "\n",
    "Copy and paste as much as you need so that your demonstration is entirely self-contained below. I use the term \"interesting\" very loosely, but this should be due to your own exploration and reflection.\n",
    "\n",
    "<b>Important: </b> <i>Describe what you did and why it's interesting in words</i>. You should use Markdown to format this cleanly (like the Markdown cells in this notebook). If you want to write a formula, you should use $\\LaTeX$ (i.e., $y=x^{2}$ appears if you write `$y=x^2$`. See our first notebook for examples on formatting mathematical formulas. Your grade for this question is determined as follows:\n",
    "\n",
    "- 10 points: a thoughtful exploration (why? what? how?)\n",
    "- 10 points: correctness (it works)\n",
    "- 10 points: explanation and presentation"
   ]
  },
  {
   "cell_type": "code",
   "execution_count": null,
   "metadata": {},
   "outputs": [],
   "source": []
  }
 ],
 "metadata": {
  "kernelspec": {
   "display_name": "Python 3 (ipykernel)",
   "language": "python",
   "name": "python3"
  },
  "language_info": {
   "codemirror_mode": {
    "name": "ipython",
    "version": 3
   },
   "file_extension": ".py",
   "mimetype": "text/x-python",
   "name": "python",
   "nbconvert_exporter": "python",
   "pygments_lexer": "ipython3",
   "version": "3.9.13"
  }
 },
 "nbformat": 4,
 "nbformat_minor": 4
}
